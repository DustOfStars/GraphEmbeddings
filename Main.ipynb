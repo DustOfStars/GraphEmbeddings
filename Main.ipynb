{
 "cells": [
  {
   "cell_type": "code",
   "execution_count": 1,
   "metadata": {},
   "outputs": [],
   "source": [
    "import pandas as pd\n",
    "import matplotlib.pyplot as plt\n",
    "import seaborn as sns\n",
    "\n",
    "sns.set()\n",
    "\n",
    "from sklearn.preprocessing import MultiLabelBinarizer"
   ]
  },
  {
   "cell_type": "code",
   "execution_count": 16,
   "metadata": {},
   "outputs": [],
   "source": [
    "X = pd.read_csv(\n",
    "    '../dumps/models/deepwalk_BlogCatalog_d128.csv',\n",
    "    delim_whitespace=True, header=None,\n",
    "    skiprows=1,\n",
    "    index_col=0\n",
    ").sort_index()\n",
    "X.index.name=None"
   ]
  },
  {
   "cell_type": "code",
   "execution_count": 3,
   "metadata": {},
   "outputs": [],
   "source": [
    "y = pd.read_csv(\n",
    "    '../data/BlogCatalog-dataset/data/group-edges.csv', \n",
    "    header=None, \n",
    "    delim_whitespace=True, \n",
    "    index_col=0\n",
    ").sort_index()\n",
    "y.index.name = None\n",
    "\n",
    "yy = []\n",
    "for i in range(1, 10313):\n",
    "    values = y.loc[i].values\n",
    "    if len(values) != 1:\n",
    "        values = [item[0] for item in values]\n",
    "    else:\n",
    "        values = list(values)\n",
    "    yy.append(values)\n",
    "    \n",
    "y_multilabel = MultiLabelBinarizer().fit_transform(yy)"
   ]
  },
  {
   "cell_type": "code",
   "execution_count": 17,
   "metadata": {},
   "outputs": [
    {
     "data": {
      "text/html": [
       "<div>\n",
       "<style>\n",
       "    .dataframe thead tr:only-child th {\n",
       "        text-align: right;\n",
       "    }\n",
       "\n",
       "    .dataframe thead th {\n",
       "        text-align: left;\n",
       "    }\n",
       "\n",
       "    .dataframe tbody tr th {\n",
       "        vertical-align: top;\n",
       "    }\n",
       "</style>\n",
       "<table border=\"1\" class=\"dataframe\">\n",
       "  <thead>\n",
       "    <tr style=\"text-align: right;\">\n",
       "      <th></th>\n",
       "      <th>1</th>\n",
       "      <th>2</th>\n",
       "      <th>3</th>\n",
       "      <th>4</th>\n",
       "      <th>5</th>\n",
       "      <th>6</th>\n",
       "      <th>7</th>\n",
       "      <th>8</th>\n",
       "      <th>9</th>\n",
       "      <th>10</th>\n",
       "      <th>...</th>\n",
       "      <th>55</th>\n",
       "      <th>56</th>\n",
       "      <th>57</th>\n",
       "      <th>58</th>\n",
       "      <th>59</th>\n",
       "      <th>60</th>\n",
       "      <th>61</th>\n",
       "      <th>62</th>\n",
       "      <th>63</th>\n",
       "      <th>64</th>\n",
       "    </tr>\n",
       "  </thead>\n",
       "  <tbody>\n",
       "    <tr>\n",
       "      <th>6858</th>\n",
       "      <td>-0.034469</td>\n",
       "      <td>-0.038209</td>\n",
       "      <td>0.078143</td>\n",
       "      <td>0.497694</td>\n",
       "      <td>-0.406538</td>\n",
       "      <td>0.492025</td>\n",
       "      <td>-0.532285</td>\n",
       "      <td>-0.181553</td>\n",
       "      <td>-0.158531</td>\n",
       "      <td>-0.209213</td>\n",
       "      <td>...</td>\n",
       "      <td>0.108826</td>\n",
       "      <td>-0.107357</td>\n",
       "      <td>-0.587715</td>\n",
       "      <td>-0.084544</td>\n",
       "      <td>0.316130</td>\n",
       "      <td>0.229775</td>\n",
       "      <td>0.151733</td>\n",
       "      <td>0.018097</td>\n",
       "      <td>0.452437</td>\n",
       "      <td>0.132487</td>\n",
       "    </tr>\n",
       "    <tr>\n",
       "      <th>6859</th>\n",
       "      <td>-0.078283</td>\n",
       "      <td>-0.074830</td>\n",
       "      <td>-0.055449</td>\n",
       "      <td>0.281653</td>\n",
       "      <td>0.084093</td>\n",
       "      <td>0.263505</td>\n",
       "      <td>-0.037267</td>\n",
       "      <td>-0.084210</td>\n",
       "      <td>-0.189937</td>\n",
       "      <td>0.041722</td>\n",
       "      <td>...</td>\n",
       "      <td>0.107443</td>\n",
       "      <td>-0.253507</td>\n",
       "      <td>-0.275865</td>\n",
       "      <td>-0.023679</td>\n",
       "      <td>0.161489</td>\n",
       "      <td>0.321386</td>\n",
       "      <td>0.094676</td>\n",
       "      <td>-0.119529</td>\n",
       "      <td>0.157206</td>\n",
       "      <td>0.071817</td>\n",
       "    </tr>\n",
       "  </tbody>\n",
       "</table>\n",
       "<p>2 rows × 64 columns</p>\n",
       "</div>"
      ],
      "text/plain": [
       "            1         2         3         4         5         6         7   \\\n",
       "6858 -0.034469 -0.038209  0.078143  0.497694 -0.406538  0.492025 -0.532285   \n",
       "6859 -0.078283 -0.074830 -0.055449  0.281653  0.084093  0.263505 -0.037267   \n",
       "\n",
       "            8         9         10    ...           55        56        57  \\\n",
       "6858 -0.181553 -0.158531 -0.209213    ...     0.108826 -0.107357 -0.587715   \n",
       "6859 -0.084210 -0.189937  0.041722    ...     0.107443 -0.253507 -0.275865   \n",
       "\n",
       "            58        59        60        61        62        63        64  \n",
       "6858 -0.084544  0.316130  0.229775  0.151733  0.018097  0.452437  0.132487  \n",
       "6859 -0.023679  0.161489  0.321386  0.094676 -0.119529  0.157206  0.071817  \n",
       "\n",
       "[2 rows x 64 columns]"
      ]
     },
     "execution_count": 17,
     "metadata": {},
     "output_type": "execute_result"
    }
   ],
   "source": [
    "X.loc[6858:6859]"
   ]
  },
  {
   "cell_type": "code",
   "execution_count": 18,
   "metadata": {},
   "outputs": [
    {
     "data": {
      "text/plain": [
       "array([0, 0, 0, 0, 0, 0, 0, 1, 0, 0, 0, 0, 0, 0, 0, 0, 0, 0, 0, 0, 0, 0, 0,\n",
       "       0, 0, 0, 0, 0, 0, 0, 0, 1, 0, 0, 0, 0, 0, 0, 0])"
      ]
     },
     "execution_count": 18,
     "metadata": {},
     "output_type": "execute_result"
    }
   ],
   "source": [
    "y_multilabel[6857]"
   ]
  },
  {
   "cell_type": "code",
   "execution_count": 6,
   "metadata": {
    "collapsed": true
   },
   "outputs": [],
   "source": [
    "from sklearn.linear_model import LogisticRegression\n",
    "from sklearn.multiclass import OneVsRestClassifier\n",
    "from src.classifiers import MultilabelOVRClassifier\n",
    "\n",
    "from sklearn.model_selection import cross_val_score, ShuffleSplit"
   ]
  },
  {
   "cell_type": "code",
   "execution_count": 7,
   "metadata": {},
   "outputs": [],
   "source": [
    "clf1 = LogisticRegression(C=100)"
   ]
  },
  {
   "cell_type": "code",
   "execution_count": 8,
   "metadata": {
    "collapsed": true
   },
   "outputs": [],
   "source": [
    "clf2 = OneVsRestClassifier(LogisticRegression(C=1, verbose=0), n_jobs=-1)"
   ]
  },
  {
   "cell_type": "code",
   "execution_count": 9,
   "metadata": {},
   "outputs": [],
   "source": [
    "MultilabelOVRClassifier.set_labels(X.index.values, y_multilabel)\n",
    "clf3 = MultilabelOVRClassifier(LogisticRegression(C=1, verbose=0), n_jobs=-1)"
   ]
  },
  {
   "cell_type": "code",
   "execution_count": 10,
   "metadata": {
    "collapsed": true
   },
   "outputs": [],
   "source": [
    "clf = clf3"
   ]
  },
  {
   "cell_type": "code",
   "execution_count": 11,
   "metadata": {},
   "outputs": [
    {
     "data": {
      "text/plain": [
       "MultilabelOVRClassifier(estimator=LogisticRegression(C=1, class_weight=None, dual=False, fit_intercept=True,\n",
       "          intercept_scaling=1, max_iter=100, multi_class='ovr', n_jobs=1,\n",
       "          penalty='l2', random_state=None, solver='liblinear', tol=0.0001,\n",
       "          verbose=0, warm_start=False),\n",
       "            n_jobs=-1)"
      ]
     },
     "execution_count": 11,
     "metadata": {},
     "output_type": "execute_result"
    }
   ],
   "source": [
    "clf.fit(X, y_multilabel)"
   ]
  },
  {
   "cell_type": "code",
   "execution_count": 13,
   "metadata": {},
   "outputs": [],
   "source": [
    "pred = clf.predict(X)"
   ]
  },
  {
   "cell_type": "code",
   "execution_count": 17,
   "metadata": {},
   "outputs": [
    {
     "data": {
      "text/plain": [
       "array([ 0.,  0.,  0.,  0.,  0.,  0.,  0.,  1.,  0.,  0.,  0.,  0.,  0.,\n",
       "        0.,  0.,  0.,  1.,  0.,  0.,  0.,  0.,  0.,  0.,  0.,  0.,  0.,\n",
       "        0.,  0.,  0.,  0.,  0.,  0.,  0.,  0.,  0.,  0.,  0.,  0.,  0.])"
      ]
     },
     "execution_count": 17,
     "metadata": {},
     "output_type": "execute_result"
    }
   ],
   "source": [
    "pred[0]"
   ]
  },
  {
   "cell_type": "code",
   "execution_count": null,
   "metadata": {},
   "outputs": [],
   "source": [
    "len(X)"
   ]
  },
  {
   "cell_type": "code",
   "execution_count": 18,
   "metadata": {},
   "outputs": [
    {
     "data": {
      "text/plain": [
       "10312"
      ]
     },
     "execution_count": 18,
     "metadata": {},
     "output_type": "execute_result"
    }
   ],
   "source": [
    "len([_ for arr in clf.predict(X) if sum(arr)>1])"
   ]
  },
  {
   "cell_type": "code",
   "execution_count": null,
   "metadata": {},
   "outputs": [],
   "source": [
    "[sorted(item) for item in clf.predict_proba(X.loc[1:7])]"
   ]
  },
  {
   "cell_type": "code",
   "execution_count": 12,
   "metadata": {},
   "outputs": [],
   "source": [
    "ss = ShuffleSplit(n_splits=3, random_state=42, train_size=0.6)"
   ]
  },
  {
   "cell_type": "code",
   "execution_count": 19,
   "metadata": {},
   "outputs": [
    {
     "name": "stdout",
     "output_type": "stream",
     "text": [
      "[ 0.3869596   0.37990365  0.37893983]\n",
      "0.381934359608\n"
     ]
    },
    {
     "name": "stderr",
     "output_type": "stream",
     "text": [
      "[Parallel(n_jobs=1)]: Done   3 out of   3 | elapsed:    2.8s finished\n"
     ]
    }
   ],
   "source": [
    "scores = cross_val_score(clf, X, y_multilabel, cv=ss.split(X), scoring='f1_micro', verbose=1)\n",
    "print(scores)\n",
    "print(scores.mean())"
   ]
  },
  {
   "cell_type": "code",
   "execution_count": 20,
   "metadata": {},
   "outputs": [
    {
     "name": "stderr",
     "output_type": "stream",
     "text": [
      "/home/student_panov/MrTsepa/anaconda3/lib/python3.6/site-packages/sklearn/externals/joblib/parallel.py:540: UserWarning: Multiprocessing-backed parallel loops cannot be nested, setting n_jobs=1\n",
      "  **self._backend_args)\n",
      "/home/student_panov/MrTsepa/anaconda3/lib/python3.6/site-packages/sklearn/externals/joblib/parallel.py:540: UserWarning: Multiprocessing-backed parallel loops cannot be nested, setting n_jobs=1\n",
      "  **self._backend_args)\n",
      "/home/student_panov/MrTsepa/anaconda3/lib/python3.6/site-packages/sklearn/externals/joblib/parallel.py:540: UserWarning: Multiprocessing-backed parallel loops cannot be nested, setting n_jobs=1\n",
      "  **self._backend_args)\n",
      "/home/student_panov/MrTsepa/anaconda3/lib/python3.6/site-packages/sklearn/metrics/classification.py:1113: UndefinedMetricWarning: F-score is ill-defined and being set to 0.0 in labels with no predicted samples.\n",
      "  'precision', 'predicted', average, warn_for)\n",
      "/home/student_panov/MrTsepa/anaconda3/lib/python3.6/site-packages/sklearn/metrics/classification.py:1113: UndefinedMetricWarning: F-score is ill-defined and being set to 0.0 in labels with no predicted samples.\n",
      "  'precision', 'predicted', average, warn_for)\n",
      "/home/student_panov/MrTsepa/anaconda3/lib/python3.6/site-packages/sklearn/metrics/classification.py:1113: UndefinedMetricWarning: F-score is ill-defined and being set to 0.0 in labels with no predicted samples.\n",
      "  'precision', 'predicted', average, warn_for)\n"
     ]
    },
    {
     "name": "stdout",
     "output_type": "stream",
     "text": [
      "[ 0.21662256  0.20285568  0.17924865]\n",
      "0.199575629232\n"
     ]
    },
    {
     "name": "stderr",
     "output_type": "stream",
     "text": [
      "[Parallel(n_jobs=-1)]: Done   3 out of   3 | elapsed:    3.3s finished\n"
     ]
    }
   ],
   "source": [
    "scores = cross_val_score(clf, X, y_multilabel, cv=3, scoring='f1_macro', verbose=1, n_jobs=-1)\n",
    "print(scores)\n",
    "print(scores.mean())"
   ]
  },
  {
   "cell_type": "code",
   "execution_count": 23,
   "metadata": {},
   "outputs": [
    {
     "name": "stdout",
     "output_type": "stream",
     "text": [
      "deepwalk_BlogCatalog_d32\n"
     ]
    },
    {
     "name": "stderr",
     "output_type": "stream",
     "text": [
      "/home/student_panov/MrTsepa/anaconda3/lib/python3.6/site-packages/sklearn/multiclass.py:76: UserWarning: Label not 38 is present in all training examples.\n",
      "  str(classes[c]))\n",
      "/home/student_panov/MrTsepa/anaconda3/lib/python3.6/site-packages/sklearn/multiclass.py:76: UserWarning: Label not 38 is present in all training examples.\n",
      "  str(classes[c]))\n",
      "/home/student_panov/MrTsepa/anaconda3/lib/python3.6/site-packages/sklearn/multiclass.py:76: UserWarning: Label not 38 is present in all training examples.\n",
      "  str(classes[c]))\n",
      "/home/student_panov/MrTsepa/anaconda3/lib/python3.6/site-packages/sklearn/multiclass.py:76: UserWarning: Label not 38 is present in all training examples.\n",
      "  str(classes[c]))\n",
      "/home/student_panov/MrTsepa/anaconda3/lib/python3.6/site-packages/sklearn/multiclass.py:76: UserWarning: Label not 38 is present in all training examples.\n",
      "  str(classes[c]))\n",
      "/home/student_panov/MrTsepa/anaconda3/lib/python3.6/site-packages/sklearn/multiclass.py:76: UserWarning: Label not 37 is present in all training examples.\n",
      "  str(classes[c]))\n",
      "/home/student_panov/MrTsepa/anaconda3/lib/python3.6/site-packages/sklearn/multiclass.py:76: UserWarning: Label not 38 is present in all training examples.\n",
      "  str(classes[c]))\n",
      "[Parallel(n_jobs=1)]: Done  10 out of  10 | elapsed:    3.4s finished\n"
     ]
    },
    {
     "name": "stdout",
     "output_type": "stream",
     "text": [
      "[ 0.31750532  0.3083276   0.33667622  0.33032616  0.28840782  0.32535211\n",
      "  0.33039946  0.29781421  0.31302521  0.32052162]\n",
      "0.316835572337\n",
      "deepwalk_BlogCatalog_d64\n"
     ]
    },
    {
     "name": "stderr",
     "output_type": "stream",
     "text": [
      "/home/student_panov/MrTsepa/anaconda3/lib/python3.6/site-packages/sklearn/multiclass.py:76: UserWarning: Label not 38 is present in all training examples.\n",
      "  str(classes[c]))\n",
      "/home/student_panov/MrTsepa/anaconda3/lib/python3.6/site-packages/sklearn/multiclass.py:76: UserWarning: Label not 38 is present in all training examples.\n",
      "  str(classes[c]))\n",
      "/home/student_panov/MrTsepa/anaconda3/lib/python3.6/site-packages/sklearn/multiclass.py:76: UserWarning: Label not 38 is present in all training examples.\n",
      "  str(classes[c]))\n",
      "/home/student_panov/MrTsepa/anaconda3/lib/python3.6/site-packages/sklearn/multiclass.py:76: UserWarning: Label not 38 is present in all training examples.\n",
      "  str(classes[c]))\n",
      "/home/student_panov/MrTsepa/anaconda3/lib/python3.6/site-packages/sklearn/multiclass.py:76: UserWarning: Label not 38 is present in all training examples.\n",
      "  str(classes[c]))\n",
      "/home/student_panov/MrTsepa/anaconda3/lib/python3.6/site-packages/sklearn/multiclass.py:76: UserWarning: Label not 37 is present in all training examples.\n",
      "  str(classes[c]))\n",
      "/home/student_panov/MrTsepa/anaconda3/lib/python3.6/site-packages/sklearn/multiclass.py:76: UserWarning: Label not 38 is present in all training examples.\n",
      "  str(classes[c]))\n",
      "[Parallel(n_jobs=1)]: Done  10 out of  10 | elapsed:    4.5s finished\n"
     ]
    },
    {
     "name": "stdout",
     "output_type": "stream",
     "text": [
      "[ 0.31041814  0.32346869  0.32234957  0.31644691  0.29120112  0.31830986\n",
      "  0.33310765  0.30532787  0.30742297  0.32120796]\n",
      "0.314926073743\n",
      "deepwalk_BlogCatalog_d128\n"
     ]
    },
    {
     "name": "stderr",
     "output_type": "stream",
     "text": [
      "/home/student_panov/MrTsepa/anaconda3/lib/python3.6/site-packages/sklearn/multiclass.py:76: UserWarning: Label not 38 is present in all training examples.\n",
      "  str(classes[c]))\n",
      "/home/student_panov/MrTsepa/anaconda3/lib/python3.6/site-packages/sklearn/multiclass.py:76: UserWarning: Label not 38 is present in all training examples.\n",
      "  str(classes[c]))\n",
      "/home/student_panov/MrTsepa/anaconda3/lib/python3.6/site-packages/sklearn/multiclass.py:76: UserWarning: Label not 38 is present in all training examples.\n",
      "  str(classes[c]))\n",
      "/home/student_panov/MrTsepa/anaconda3/lib/python3.6/site-packages/sklearn/multiclass.py:76: UserWarning: Label not 38 is present in all training examples.\n",
      "  str(classes[c]))\n",
      "/home/student_panov/MrTsepa/anaconda3/lib/python3.6/site-packages/sklearn/multiclass.py:76: UserWarning: Label not 38 is present in all training examples.\n",
      "  str(classes[c]))\n",
      "/home/student_panov/MrTsepa/anaconda3/lib/python3.6/site-packages/sklearn/multiclass.py:76: UserWarning: Label not 37 is present in all training examples.\n",
      "  str(classes[c]))\n",
      "/home/student_panov/MrTsepa/anaconda3/lib/python3.6/site-packages/sklearn/multiclass.py:76: UserWarning: Label not 38 is present in all training examples.\n",
      "  str(classes[c]))\n"
     ]
    },
    {
     "name": "stdout",
     "output_type": "stream",
     "text": [
      "[ 0.32034018  0.32759807  0.33094556  0.31783484  0.30097765  0.32042254\n",
      "  0.33310765  0.31967213  0.30322129  0.32532601]\n",
      "0.319944592438\n",
      "n2v_BlogCatalog_p1_q1_d32\n"
     ]
    },
    {
     "name": "stderr",
     "output_type": "stream",
     "text": [
      "[Parallel(n_jobs=1)]: Done  10 out of  10 | elapsed:    5.3s finished\n",
      "/home/student_panov/MrTsepa/anaconda3/lib/python3.6/site-packages/sklearn/multiclass.py:76: UserWarning: Label not 38 is present in all training examples.\n",
      "  str(classes[c]))\n",
      "/home/student_panov/MrTsepa/anaconda3/lib/python3.6/site-packages/sklearn/multiclass.py:76: UserWarning: Label not 38 is present in all training examples.\n",
      "  str(classes[c]))\n",
      "/home/student_panov/MrTsepa/anaconda3/lib/python3.6/site-packages/sklearn/multiclass.py:76: UserWarning: Label not 38 is present in all training examples.\n",
      "  str(classes[c]))\n",
      "/home/student_panov/MrTsepa/anaconda3/lib/python3.6/site-packages/sklearn/multiclass.py:76: UserWarning: Label not 38 is present in all training examples.\n",
      "  str(classes[c]))\n",
      "/home/student_panov/MrTsepa/anaconda3/lib/python3.6/site-packages/sklearn/multiclass.py:76: UserWarning: Label not 38 is present in all training examples.\n",
      "  str(classes[c]))\n",
      "/home/student_panov/MrTsepa/anaconda3/lib/python3.6/site-packages/sklearn/multiclass.py:76: UserWarning: Label not 37 is present in all training examples.\n",
      "  str(classes[c]))\n",
      "/home/student_panov/MrTsepa/anaconda3/lib/python3.6/site-packages/sklearn/multiclass.py:76: UserWarning: Label not 38 is present in all training examples.\n",
      "  str(classes[c]))\n"
     ]
    },
    {
     "name": "stdout",
     "output_type": "stream",
     "text": [
      "[ 0.33522325  0.35443909  0.35959885  0.3407356   0.31843575  0.34507042\n",
      "  0.3337847   0.32991803  0.34593838  0.32463967]\n",
      "0.338778374574\n",
      "n2v_BlogCatalog_p1_q1_d64\n"
     ]
    },
    {
     "name": "stderr",
     "output_type": "stream",
     "text": [
      "[Parallel(n_jobs=1)]: Done  10 out of  10 | elapsed:    3.4s finished\n",
      "/home/student_panov/MrTsepa/anaconda3/lib/python3.6/site-packages/sklearn/multiclass.py:76: UserWarning: Label not 38 is present in all training examples.\n",
      "  str(classes[c]))\n",
      "/home/student_panov/MrTsepa/anaconda3/lib/python3.6/site-packages/sklearn/multiclass.py:76: UserWarning: Label not 38 is present in all training examples.\n",
      "  str(classes[c]))\n",
      "/home/student_panov/MrTsepa/anaconda3/lib/python3.6/site-packages/sklearn/multiclass.py:76: UserWarning: Label not 38 is present in all training examples.\n",
      "  str(classes[c]))\n",
      "/home/student_panov/MrTsepa/anaconda3/lib/python3.6/site-packages/sklearn/multiclass.py:76: UserWarning: Label not 38 is present in all training examples.\n",
      "  str(classes[c]))\n",
      "/home/student_panov/MrTsepa/anaconda3/lib/python3.6/site-packages/sklearn/multiclass.py:76: UserWarning: Label not 38 is present in all training examples.\n",
      "  str(classes[c]))\n",
      "/home/student_panov/MrTsepa/anaconda3/lib/python3.6/site-packages/sklearn/multiclass.py:76: UserWarning: Label not 37 is present in all training examples.\n",
      "  str(classes[c]))\n",
      "/home/student_panov/MrTsepa/anaconda3/lib/python3.6/site-packages/sklearn/multiclass.py:76: UserWarning: Label not 38 is present in all training examples.\n",
      "  str(classes[c]))\n",
      "[Parallel(n_jobs=1)]: Done  10 out of  10 | elapsed:    3.4s finished\n"
     ]
    },
    {
     "name": "stdout",
     "output_type": "stream",
     "text": [
      "[ 0.35861091  0.35650379  0.36676218  0.34212353  0.32541899  0.3443662\n",
      "  0.34123223  0.32035519  0.34103641  0.35552505]\n",
      "0.345193447888\n",
      "n2v_BlogCatalog_p1_q1_d128\n"
     ]
    },
    {
     "name": "stderr",
     "output_type": "stream",
     "text": [
      "/home/student_panov/MrTsepa/anaconda3/lib/python3.6/site-packages/sklearn/multiclass.py:76: UserWarning: Label not 38 is present in all training examples.\n",
      "  str(classes[c]))\n",
      "/home/student_panov/MrTsepa/anaconda3/lib/python3.6/site-packages/sklearn/multiclass.py:76: UserWarning: Label not 38 is present in all training examples.\n",
      "  str(classes[c]))\n",
      "/home/student_panov/MrTsepa/anaconda3/lib/python3.6/site-packages/sklearn/multiclass.py:76: UserWarning: Label not 38 is present in all training examples.\n",
      "  str(classes[c]))\n",
      "/home/student_panov/MrTsepa/anaconda3/lib/python3.6/site-packages/sklearn/multiclass.py:76: UserWarning: Label not 38 is present in all training examples.\n",
      "  str(classes[c]))\n",
      "/home/student_panov/MrTsepa/anaconda3/lib/python3.6/site-packages/sklearn/multiclass.py:76: UserWarning: Label not 38 is present in all training examples.\n",
      "  str(classes[c]))\n",
      "/home/student_panov/MrTsepa/anaconda3/lib/python3.6/site-packages/sklearn/multiclass.py:76: UserWarning: Label not 37 is present in all training examples.\n",
      "  str(classes[c]))\n",
      "/home/student_panov/MrTsepa/anaconda3/lib/python3.6/site-packages/sklearn/multiclass.py:76: UserWarning: Label not 38 is present in all training examples.\n",
      "  str(classes[c]))\n"
     ]
    },
    {
     "name": "stdout",
     "output_type": "stream",
     "text": [
      "[ 0.33876683  0.34618032  0.36389685  0.34559334  0.32122905  0.3443662\n",
      "  0.34800271  0.33333333  0.34453782  0.34934798]\n",
      "0.343525441412\n",
      "{'deepwalk_BlogCatalog_d32': {'f1_micro': 0.31683557233719906}, 'deepwalk_BlogCatalog_d64': {'f1_micro': 0.31492607374280857}, 'deepwalk_BlogCatalog_d128': {'f1_micro': 0.31994459243798984}, 'n2v_BlogCatalog_p1_q1_d32': {'f1_micro': 0.33877837457371374}, 'n2v_BlogCatalog_p1_q1_d64': {'f1_micro': 0.34519344788800799}, 'n2v_BlogCatalog_p1_q1_d128': {'f1_micro': 0.34352544141234664}}\n"
     ]
    },
    {
     "name": "stderr",
     "output_type": "stream",
     "text": [
      "[Parallel(n_jobs=1)]: Done  10 out of  10 | elapsed:    4.7s finished\n"
     ]
    }
   ],
   "source": [
    "y = pd.read_csv(\n",
    "    '../data/BlogCatalog-dataset/data/group-edges.csv', \n",
    "    header=None, \n",
    "    delim_whitespace=True, \n",
    "    index_col=0\n",
    ").sort_index()\n",
    "y.index.name = None\n",
    "\n",
    "yy = []\n",
    "for i in range(1, 10313):\n",
    "    values = y.loc[i].values\n",
    "    if len(values) != 1:\n",
    "        values = [item[0] for item in values]\n",
    "    else:\n",
    "        values = list(values)\n",
    "    yy.append(values)\n",
    "    \n",
    "y_multilabel = MultiLabelBinarizer().fit_transform(yy)\n",
    "\n",
    "names = [\n",
    "    'deepwalk_BlogCatalog_d32',\n",
    "    'deepwalk_BlogCatalog_d64',\n",
    "    'deepwalk_BlogCatalog_d128',\n",
    "    'n2v_BlogCatalog_p1_q1_d32',\n",
    "    'n2v_BlogCatalog_p1_q1_d64',\n",
    "    'n2v_BlogCatalog_p1_q1_d128',\n",
    "]\n",
    "results = {}\n",
    "for name in names:\n",
    "    results[name] = {}\n",
    "    X = pd.read_csv(\n",
    "        '../dumps/models/{}.csv'.format(name),\n",
    "        delim_whitespace=Tru'n2v_BlogCatalog_p1_q1_d64',e, header=None,\n",
    "        skiprows=1,\n",
    "        index_col=0\n",
    "    ).sort_index()\n",
    "    X.index.name=None\n",
    "    print(name)\n",
    "    ss = ShuffleSplit(n_splits=10, random_state=42, train_size=0.1)\n",
    "    scores = cross_val_score(clf, X, y_multilabel, cv=ss.split(X), scoring='f1_micro', verbose=1)\n",
    "    print(scores)\n",
    "    print(scores.mean())\n",
    "    results[name]['f1_micro'] = scores.mean()\n",
    "\n",
    "print(results)"
   ]
  },
  {
   "cell_type": "code",
   "execution_count": 25,
   "metadata": {},
   "outputs": [
    {
     "name": "stdout",
     "output_type": "stream",
     "text": [
      "deepwalk_BlogCatalog_d32\n"
     ]
    },
    {
     "name": "stderr",
     "output_type": "stream",
     "text": [
      "[Parallel(n_jobs=1)]: Done  10 out of  10 | elapsed:    6.9s finished\n"
     ]
    },
    {
     "name": "stdout",
     "output_type": "stream",
     "text": [
      "[ 0.35223246  0.33241569  0.35959885  0.34489938  0.32472067  0.34507042\n",
      "  0.34326337  0.32513661  0.33753501  0.34797529]\n",
      "0.341284776257\n",
      "deepwalk_BlogCatalog_d64\n"
     ]
    },
    {
     "name": "stderr",
     "output_type": "stream",
     "text": [
      "[Parallel(n_jobs=1)]: Done  10 out of  10 | elapsed:   12.2s finished\n"
     ]
    },
    {
     "name": "stdout",
     "output_type": "stream",
     "text": [
      "[ 0.35861091  0.35856848  0.3717765   0.35600278  0.3372905   0.3528169\n",
      "  0.3676371   0.33811475  0.3557423   0.35895676]\n",
      "0.355551699132\n",
      "deepwalk_BlogCatalog_d128\n",
      "[ 0.37207654  0.37302134  0.38467049  0.36502429  0.34986034  0.36338028\n",
      "  0.38659445  0.3442623   0.36344538  0.36376115]\n",
      "0.36660965438\n",
      "n2v_BlogCatalog_p1_q1_d32\n"
     ]
    },
    {
     "name": "stderr",
     "output_type": "stream",
     "text": [
      "[Parallel(n_jobs=1)]: Done  10 out of  10 | elapsed:   24.7s finished\n"
     ]
    },
    {
     "name": "stdout",
     "output_type": "stream",
     "text": [
      "[ 0.36853296  0.36820372  0.37679083  0.35669674  0.33868715  0.37323944\n",
      "  0.36018957  0.34699454  0.36834734  0.35415237]\n",
      "0.361183464437\n",
      "n2v_BlogCatalog_p1_q1_d64\n"
     ]
    },
    {
     "name": "stderr",
     "output_type": "stream",
     "text": [
      "[Parallel(n_jobs=1)]: Done  10 out of  10 | elapsed:    5.9s finished\n",
      "[Parallel(n_jobs=1)]: Done  10 out of  10 | elapsed:    8.7s finished\n"
     ]
    },
    {
     "name": "stdout",
     "output_type": "stream",
     "text": [
      "[ 0.3869596   0.37990365  0.37893983  0.36918806  0.3547486   0.37816901\n",
      "  0.3859174   0.34221311  0.37254902  0.3726836 ]\n",
      "0.372127189103\n",
      "n2v_BlogCatalog_p1_q1_d128\n",
      "[ 0.37491141  0.37783895  0.39469914  0.37612769  0.37290503  0.37746479\n",
      "  0.38185511  0.36680328  0.37044818  0.37131091]\n",
      "0.376436449291\n",
      "{'deepwalk_BlogCatalog_d32': {'f1_micro': 0.34128477625714709}, 'deepwalk_BlogCatalog_d64': {'f1_micro': 0.3555516991322108}, 'deepwalk_BlogCatalog_d128': {'f1_micro': 0.36660965438019455}, 'n2v_BlogCatalog_p1_q1_d32': {'f1_micro': 0.36118346443725552}, 'n2v_BlogCatalog_p1_q1_d64': {'f1_micro': 0.37212718910335757}, 'n2v_BlogCatalog_p1_q1_d128': {'f1_micro': 0.3764364492914824}}\n"
     ]
    },
    {
     "name": "stderr",
     "output_type": "stream",
     "text": [
      "[Parallel(n_jobs=1)]: Done  10 out of  10 | elapsed:   14.0s finished\n"
     ]
    }
   ],
   "source": [
    "y = pd.read_csv(\n",
    "    '../data/BlogCatalog-dataset/data/group-edges.csv', \n",
    "    header=None, \n",
    "    delim_whitespace=True, \n",
    "    index_col=0\n",
    ").sort_index()\n",
    "y.index.name = None\n",
    "\n",
    "yy = []\n",
    "for i in range(1, 10313):\n",
    "    values = y.loc[i].values\n",
    "    if len(values) != 1:\n",
    "        values = [item[0] for item in values]\n",
    "    else:\n",
    "        values = list(values)\n",
    "    yy.append(values)\n",
    "    \n",
    "y_multilabel = MultiLabelBinarizer().fit_transform(yy)\n",
    "\n",
    "names = [\n",
    "    'deepwalk_BlogCatalog_d32',\n",
    "    'deepwalk_BlogCatalog_d64',\n",
    "    'deepwalk_BlogCatalog_d128',\n",
    "    'n2v_BlogCatalog_p1_q1_d32',\n",
    "    'n2v_BlogCatalog_p1_q1_d64',\n",
    "    'n2v_BlogCatalog_p1_q1_d128',\n",
    "]\n",
    "results = {}\n",
    "for name in names:\n",
    "    results[name] = {}\n",
    "    X = pd.read_csv(\n",
    "        '../dumps/models/{}.csv'.format(name),\n",
    "        delim_whitespace=True, header=None,\n",
    "        skiprows=1,\n",
    "        index_col=0\n",
    "    ).sort_index()\n",
    "    X.index.name=None\n",
    "    print(name)\n",
    "    ss = ShuffleSplit(n_splits=10, random_state=42, train_size=0.6)\n",
    "    scores = cross_val_score(clf, X, y_multilabel, cv=ss.split(X), scoring='f1_micro', verbose=1)\n",
    "    print(scores)\n",
    "    print(scores.mean())\n",
    "    results[name]['f1_micro'] = scores.mean()\n",
    "\n",
    "print(results)"
   ]
  },
  {
   "cell_type": "code",
   "execution_count": 27,
   "metadata": {},
   "outputs": [
    {
     "name": "stdout",
     "output_type": "stream",
     "text": [
      "{   'deepwalk_BlogCatalog_d128': {'f1_micro': 0.36660965438019455},\n",
      "    'deepwalk_BlogCatalog_d32': {'f1_micro': 0.34128477625714709},\n",
      "    'deepwalk_BlogCatalog_d64': {'f1_micro': 0.3555516991322108},\n",
      "    'n2v_BlogCatalog_p1_q1_d128': {'f1_micro': 0.3764364492914824},\n",
      "    'n2v_BlogCatalog_p1_q1_d32': {'f1_micro': 0.36118346443725552},\n",
      "    'n2v_BlogCatalog_p1_q1_d64': {'f1_micro': 0.37212718910335757}}\n"
     ]
    }
   ],
   "source": [
    "import pprint\n",
    "pp = pprint.PrettyPrinter(indent=4)\n",
    "pp.pprint(results)"
   ]
  },
  {
   "cell_type": "code",
   "execution_count": null,
   "metadata": {
    "collapsed": true
   },
   "outputs": [],
   "source": [
    ""
   ]
  }
 ],
 "metadata": {
  "kernelspec": {
   "display_name": "Python 3",
   "language": "python",
   "name": "python3"
  },
  "language_info": {
   "codemirror_mode": {
    "name": "ipython",
    "version": 3.0
   },
   "file_extension": ".py",
   "mimetype": "text/x-python",
   "name": "python",
   "nbconvert_exporter": "python",
   "pygments_lexer": "ipython3",
   "version": "3.6.1"
  }
 },
 "nbformat": 4,
 "nbformat_minor": 0
}