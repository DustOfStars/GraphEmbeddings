{
 "cells": [
  {
   "cell_type": "code",
   "execution_count": 22,
   "metadata": {
    "collapsed": true
   },
   "outputs": [],
   "source": [
    "import pandas as pd\n",
    "import matplotlib.pyplot as plt\n",
    "import seaborn as sns\n",
    "\n",
    "sns.set()\n",
    "\n",
    "from sklearn.preprocessing import MultiLabelBinarizer"
   ]
  },
  {
   "cell_type": "code",
   "execution_count": 23,
   "metadata": {
    "collapsed": true
   },
   "outputs": [],
   "source": [
    "X = pd.read_csv(\n",
    "    'dumps/models/hist_loss_BlogCatalog_d32.csv',\n",
    "    delim_whitespace=True, header=None,\n",
    "    skiprows=1,\n",
    "    index_col=0\n",
    ").sort_index()\n",
    "X.index.name=None"
   ]
  },
  {
   "cell_type": "code",
   "execution_count": 24,
   "metadata": {
    "collapsed": true
   },
   "outputs": [],
   "source": [
    "y = pd.read_csv(\n",
    "    'BlogCatalog-dataset/data/group-edges.csv', \n",
    "    header=None, \n",
    "    delim_whitespace=True, \n",
    "    index_col=0\n",
    ").sort_index()\n",
    "y.index.name = None\n",
    "\n",
    "yy = []\n",
    "for i in range(1, 10313):\n",
    "    values = y.loc[i].values\n",
    "    if len(values) != 1:\n",
    "        values = [item[0] for item in values]\n",
    "    else:\n",
    "        values = list(values)\n",
    "    yy.append(values)\n",
    "    \n",
    "y_multilabel = MultiLabelBinarizer().fit_transform(yy)"
   ]
  },
  {
   "cell_type": "code",
   "execution_count": 25,
   "metadata": {
    "collapsed": false
   },
   "outputs": [
    {
     "data": {
      "text/html": [
       "<div>\n",
       "<style>\n",
       "    .dataframe thead tr:only-child th {\n",
       "        text-align: right;\n",
       "    }\n",
       "\n",
       "    .dataframe thead th {\n",
       "        text-align: left;\n",
       "    }\n",
       "\n",
       "    .dataframe tbody tr th {\n",
       "        vertical-align: top;\n",
       "    }\n",
       "</style>\n",
       "<table border=\"1\" class=\"dataframe\">\n",
       "  <thead>\n",
       "    <tr style=\"text-align: right;\">\n",
       "      <th></th>\n",
       "      <th>1</th>\n",
       "      <th>2</th>\n",
       "      <th>3</th>\n",
       "      <th>4</th>\n",
       "      <th>5</th>\n",
       "      <th>6</th>\n",
       "      <th>7</th>\n",
       "      <th>8</th>\n",
       "      <th>9</th>\n",
       "      <th>10</th>\n",
       "      <th>...</th>\n",
       "      <th>23</th>\n",
       "      <th>24</th>\n",
       "      <th>25</th>\n",
       "      <th>26</th>\n",
       "      <th>27</th>\n",
       "      <th>28</th>\n",
       "      <th>29</th>\n",
       "      <th>30</th>\n",
       "      <th>31</th>\n",
       "      <th>32</th>\n",
       "    </tr>\n",
       "  </thead>\n",
       "  <tbody>\n",
       "    <tr>\n",
       "      <th>6858</th>\n",
       "      <td>0.110977</td>\n",
       "      <td>0.001906</td>\n",
       "      <td>0.488121</td>\n",
       "      <td>0.172570</td>\n",
       "      <td>0.205921</td>\n",
       "      <td>0.047480</td>\n",
       "      <td>0.136074</td>\n",
       "      <td>-0.214245</td>\n",
       "      <td>0.163495</td>\n",
       "      <td>0.264641</td>\n",
       "      <td>...</td>\n",
       "      <td>0.080132</td>\n",
       "      <td>-0.233413</td>\n",
       "      <td>-0.023625</td>\n",
       "      <td>-0.022859</td>\n",
       "      <td>-0.156437</td>\n",
       "      <td>0.132337</td>\n",
       "      <td>-0.058473</td>\n",
       "      <td>-0.269895</td>\n",
       "      <td>-0.063569</td>\n",
       "      <td>0.270967</td>\n",
       "    </tr>\n",
       "    <tr>\n",
       "      <th>6859</th>\n",
       "      <td>-0.024844</td>\n",
       "      <td>-0.019417</td>\n",
       "      <td>0.484124</td>\n",
       "      <td>0.034312</td>\n",
       "      <td>-0.160210</td>\n",
       "      <td>0.164777</td>\n",
       "      <td>0.249109</td>\n",
       "      <td>-0.244308</td>\n",
       "      <td>-0.064003</td>\n",
       "      <td>0.457640</td>\n",
       "      <td>...</td>\n",
       "      <td>-0.044847</td>\n",
       "      <td>-0.023164</td>\n",
       "      <td>-0.081507</td>\n",
       "      <td>0.205928</td>\n",
       "      <td>0.066138</td>\n",
       "      <td>0.024939</td>\n",
       "      <td>-0.230669</td>\n",
       "      <td>-0.094946</td>\n",
       "      <td>0.181096</td>\n",
       "      <td>0.023684</td>\n",
       "    </tr>\n",
       "  </tbody>\n",
       "</table>\n",
       "<p>2 rows × 32 columns</p>\n",
       "</div>"
      ],
      "text/plain": [
       "            1         2         3         4         5         6         7   \\\n",
       "6858  0.110977  0.001906  0.488121  0.172570  0.205921  0.047480  0.136074   \n",
       "6859 -0.024844 -0.019417  0.484124  0.034312 -0.160210  0.164777  0.249109   \n",
       "\n",
       "            8         9         10    ...           23        24        25  \\\n",
       "6858 -0.214245  0.163495  0.264641    ...     0.080132 -0.233413 -0.023625   \n",
       "6859 -0.244308 -0.064003  0.457640    ...    -0.044847 -0.023164 -0.081507   \n",
       "\n",
       "            26        27        28        29        30        31        32  \n",
       "6858 -0.022859 -0.156437  0.132337 -0.058473 -0.269895 -0.063569  0.270967  \n",
       "6859  0.205928  0.066138  0.024939 -0.230669 -0.094946  0.181096  0.023684  \n",
       "\n",
       "[2 rows x 32 columns]"
      ]
     },
     "execution_count": 25,
     "metadata": {},
     "output_type": "execute_result"
    }
   ],
   "source": [
    "X.loc[6858:6859]"
   ]
  },
  {
   "cell_type": "code",
   "execution_count": 26,
   "metadata": {
    "collapsed": false
   },
   "outputs": [
    {
     "data": {
      "text/plain": [
       "array([0, 0, 0, 0, 0, 0, 0, 1, 0, 0, 0, 0, 0, 0, 0, 0, 0, 0, 0, 0, 1, 0, 0,\n",
       "       0, 0, 0, 0, 0, 0, 0, 0, 0, 0, 0, 0, 0, 0, 0, 0])"
      ]
     },
     "execution_count": 26,
     "metadata": {},
     "output_type": "execute_result"
    }
   ],
   "source": [
    "y_multilabel[5]"
   ]
  },
  {
   "cell_type": "code",
   "execution_count": 27,
   "metadata": {
    "collapsed": true
   },
   "outputs": [],
   "source": [
    "from sklearn.linear_model import LogisticRegression\n",
    "from sklearn.multiclass import OneVsRestClassifier\n",
    "from src.classifiers import MultilabelOVRClassifier\n",
    "\n",
    "from sklearn.model_selection import cross_val_score, ShuffleSplit"
   ]
  },
  {
   "cell_type": "code",
   "execution_count": 28,
   "metadata": {
    "collapsed": true
   },
   "outputs": [],
   "source": [
    "clf1 = LogisticRegression(C=100)"
   ]
  },
  {
   "cell_type": "code",
   "execution_count": 29,
   "metadata": {
    "collapsed": true
   },
   "outputs": [],
   "source": [
    "clf2 = OneVsRestClassifier(LogisticRegression(C=1, verbose=0), n_jobs=-1)"
   ]
  },
  {
   "cell_type": "code",
   "execution_count": 30,
   "metadata": {
    "collapsed": true
   },
   "outputs": [],
   "source": [
    "MultilabelOVRClassifier.set_labels(X.index.values, y_multilabel)\n",
    "\n",
    "clf3 = MultilabelOVRClassifier(LogisticRegression(C=1, verbose=0), n_jobs=-1)"
   ]
  },
  {
   "cell_type": "code",
   "execution_count": 31,
   "metadata": {
    "collapsed": true
   },
   "outputs": [],
   "source": [
    "clf = clf3"
   ]
  },
  {
   "cell_type": "code",
   "execution_count": 32,
   "metadata": {
    "collapsed": false
   },
   "outputs": [
    {
     "data": {
      "text/plain": [
       "MultilabelOVRClassifier(estimator=LogisticRegression(C=1, class_weight=None, dual=False, fit_intercept=True,\n",
       "          intercept_scaling=1, max_iter=100, multi_class='ovr', n_jobs=1,\n",
       "          penalty='l2', random_state=None, solver='liblinear', tol=0.0001,\n",
       "          verbose=0, warm_start=False),\n",
       "            n_jobs=-1)"
      ]
     },
     "execution_count": 32,
     "metadata": {},
     "output_type": "execute_result"
    }
   ],
   "source": [
    "clf.fit(X, y_multilabel)"
   ]
  },
  {
   "cell_type": "code",
   "execution_count": 33,
   "metadata": {
    "collapsed": true
   },
   "outputs": [],
   "source": [
    "pred = clf.predict(X)"
   ]
  },
  {
   "cell_type": "code",
   "execution_count": 34,
   "metadata": {
    "collapsed": false
   },
   "outputs": [
    {
     "data": {
      "text/plain": [
       "array([ 0.,  1.,  0.,  0.,  0.,  0.,  0.,  1.,  0.,  0.,  0.,  0.,  0.,\n",
       "        0.,  0.,  0.,  0.,  0.,  0.,  0.,  0.,  0.,  0.,  0.,  0.,  0.,\n",
       "        0.,  0.,  0.,  0.,  0.,  0.,  0.,  0.,  0.,  0.,  0.,  0.,  0.])"
      ]
     },
     "execution_count": 34,
     "metadata": {},
     "output_type": "execute_result"
    }
   ],
   "source": [
    "pred[5]"
   ]
  },
  {
   "cell_type": "code",
   "execution_count": 18,
   "metadata": {
    "collapsed": false
   },
   "outputs": [
    {
     "data": {
      "text/plain": [
       "10312"
      ]
     },
     "execution_count": 18,
     "metadata": {},
     "output_type": "execute_result"
    }
   ],
   "source": [
    "len(X)"
   ]
  },
  {
   "cell_type": "code",
   "execution_count": 35,
   "metadata": {
    "collapsed": false
   },
   "outputs": [
    {
     "data": {
      "text/plain": [
       "2852"
      ]
     },
     "execution_count": 35,
     "metadata": {},
     "output_type": "execute_result"
    }
   ],
   "source": [
    "len([_ for arr in clf.predict(X) if sum(arr)>1])"
   ]
  },
  {
   "cell_type": "code",
   "execution_count": 21,
   "metadata": {
    "collapsed": true
   },
   "outputs": [
    {
     "data": {
      "text/plain": [
       "[[0.0010532040435299163,\n",
       "  0.0011268825812917312,\n",
       "  0.0035125258886279666,\n",
       "  0.0050284841997343347,\n",
       "  0.006514888965241392,\n",
       "  0.0066707885628602935,\n",
       "  0.0072434634895832189,\n",
       "  0.0072565494285342733,\n",
       "  0.0074904767396766578,\n",
       "  0.0087195480813021236,\n",
       "  0.0094694030538000854,\n",
       "  0.010226018146236804,\n",
       "  0.011337871685606696,\n",
       "  0.013724155110305688,\n",
       "  0.018311349616258271,\n",
       "  0.019021692373050104,\n",
       "  0.025379693204039436,\n",
       "  0.025557484885893069,\n",
       "  0.028888395956289226,\n",
       "  0.030805101324858045,\n",
       "  0.03176689913635343,\n",
       "  0.034031864653419654,\n",
       "  0.035092829994719452,\n",
       "  0.036562045120967779,\n",
       "  0.037292355583360651,\n",
       "  0.037526124145252825,\n",
       "  0.038269925767749687,\n",
       "  0.038838733600043904,\n",
       "  0.042904318055535157,\n",
       "  0.044647362717864215,\n",
       "  0.057557978648124397,\n",
       "  0.064653024028810152,\n",
       "  0.071543958256682263,\n",
       "  0.072904018616525873,\n",
       "  0.073564067027194299,\n",
       "  0.078143853413522729,\n",
       "  0.080322084559232648,\n",
       "  0.11226915665842738,\n",
       "  0.18965656458778951],\n",
       " [0.00090249601470001012,\n",
       "  0.0010631068363405631,\n",
       "  0.0021994117977785161,\n",
       "  0.0035569207844041019,\n",
       "  0.0038283500678394492,\n",
       "  0.0040068936306076825,\n",
       "  0.0056773698376868451,\n",
       "  0.0060625315434945119,\n",
       "  0.0066372786873609034,\n",
       "  0.0069891568118551194,\n",
       "  0.0071706785447128007,\n",
       "  0.010585645374408287,\n",
       "  0.011883708868025217,\n",
       "  0.014111657056475249,\n",
       "  0.017468362451172337,\n",
       "  0.022285293536992018,\n",
       "  0.022564378884227652,\n",
       "  0.025446213330643834,\n",
       "  0.026367354024006803,\n",
       "  0.027818609129705654,\n",
       "  0.033228480538073188,\n",
       "  0.038143613080985836,\n",
       "  0.038630340672991578,\n",
       "  0.039128349651655056,\n",
       "  0.040419447035672788,\n",
       "  0.040548601406928154,\n",
       "  0.049702793589315133,\n",
       "  0.050800505957338572,\n",
       "  0.050976092168584806,\n",
       "  0.052844211531290645,\n",
       "  0.053108148273552896,\n",
       "  0.054977245644905831,\n",
       "  0.058577373891210448,\n",
       "  0.059560970409042506,\n",
       "  0.06402031007166685,\n",
       "  0.095554527105196824,\n",
       "  0.10084327511693547,\n",
       "  0.10822944470200245,\n",
       "  0.20335033063091906]]"
      ]
     },
     "execution_count": 21,
     "metadata": {},
     "output_type": "execute_result"
    }
   ],
   "source": [
    "[sorted(item) for item in clf.predict_proba(X.loc[5:6])]"
   ]
  },
  {
   "cell_type": "code",
   "execution_count": 36,
   "metadata": {
    "collapsed": true
   },
   "outputs": [],
   "source": [
    "ss = ShuffleSplit(n_splits=3, random_state=42, train_size=0.6)"
   ]
  },
  {
   "cell_type": "code",
   "execution_count": 37,
   "metadata": {
    "collapsed": false
   },
   "outputs": [
    {
     "name": "stdout",
     "output_type": "stream",
     "text": [
      "[ 0.17221828  0.16586373  0.17908309]\n",
      "0.172388369891\n"
     ]
    },
    {
     "name": "stderr",
     "output_type": "stream",
     "text": [
      "[Parallel(n_jobs=1)]: Done   3 out of   3 | elapsed:    5.2s finished\n"
     ]
    }
   ],
   "source": [
    "scores = cross_val_score(clf, X, y_multilabel, cv=ss.split(X), scoring='f1_micro', verbose=1)\n",
    "print(scores)\n",
    "print(scores.mean())"
   ]
  },
  {
   "cell_type": "code",
   "execution_count": 23,
   "metadata": {
    "collapsed": false
   },
   "outputs": [
    {
     "name": "stderr",
     "output_type": "stream",
     "text": [
      "/home/student_panov/MrTsepa/anaconda3/lib/python3.6/site-packages/sklearn/externals/joblib/parallel.py:540: UserWarning: Multiprocessing-backed parallel loops cannot be nested, setting n_jobs=1\n",
      "  **self._backend_args)\n",
      "/home/student_panov/MrTsepa/anaconda3/lib/python3.6/site-packages/sklearn/externals/joblib/parallel.py:540: UserWarning: Multiprocessing-backed parallel loops cannot be nested, setting n_jobs=1\n",
      "  **self._backend_args)\n",
      "/home/student_panov/MrTsepa/anaconda3/lib/python3.6/site-packages/sklearn/externals/joblib/parallel.py:540: UserWarning: Multiprocessing-backed parallel loops cannot be nested, setting n_jobs=1\n",
      "  **self._backend_args)\n",
      "/home/student_panov/MrTsepa/anaconda3/lib/python3.6/site-packages/sklearn/metrics/classification.py:1113: UndefinedMetricWarning: F-score is ill-defined and being set to 0.0 in labels with no predicted samples.\n",
      "  'precision', 'predicted', average, warn_for)\n",
      "/home/student_panov/MrTsepa/anaconda3/lib/python3.6/site-packages/sklearn/metrics/classification.py:1113: UndefinedMetricWarning: F-score is ill-defined and being set to 0.0 in labels with no predicted samples.\n",
      "  'precision', 'predicted', average, warn_for)\n",
      "/home/student_panov/MrTsepa/anaconda3/lib/python3.6/site-packages/sklearn/metrics/classification.py:1113: UndefinedMetricWarning: F-score is ill-defined and being set to 0.0 in labels with no predicted samples.\n",
      "  'precision', 'predicted', average, warn_for)\n"
     ]
    },
    {
     "name": "stdout",
     "output_type": "stream",
     "text": [
      "[ 0.02955273  0.03300924  0.02584523]\n",
      "0.0294690664587\n"
     ]
    },
    {
     "name": "stderr",
     "output_type": "stream",
     "text": [
      "[Parallel(n_jobs=-1)]: Done   3 out of   3 | elapsed:    2.1s finished\n"
     ]
    }
   ],
   "source": [
    "scores = cross_val_score(clf, X, y_multilabel, cv=3, scoring='f1_macro', verbose=1, n_jobs=-1)\n",
    "print(scores)\n",
    "print(scores.mean())"
   ]
  },
  {
   "cell_type": "code",
   "execution_count": 23,
   "metadata": {
    "collapsed": false
   },
   "outputs": [
    {
     "name": "stdout",
     "output_type": "stream",
     "text": [
      "deepwalk_BlogCatalog_d32\n"
     ]
    },
    {
     "name": "stderr",
     "output_type": "stream",
     "text": [
      "/home/student_panov/MrTsepa/anaconda3/lib/python3.6/site-packages/sklearn/multiclass.py:76: UserWarning: Label not 38 is present in all training examples.\n",
      "  str(classes[c]))\n",
      "/home/student_panov/MrTsepa/anaconda3/lib/python3.6/site-packages/sklearn/multiclass.py:76: UserWarning: Label not 38 is present in all training examples.\n",
      "  str(classes[c]))\n",
      "/home/student_panov/MrTsepa/anaconda3/lib/python3.6/site-packages/sklearn/multiclass.py:76: UserWarning: Label not 38 is present in all training examples.\n",
      "  str(classes[c]))\n",
      "/home/student_panov/MrTsepa/anaconda3/lib/python3.6/site-packages/sklearn/multiclass.py:76: UserWarning: Label not 38 is present in all training examples.\n",
      "  str(classes[c]))\n",
      "/home/student_panov/MrTsepa/anaconda3/lib/python3.6/site-packages/sklearn/multiclass.py:76: UserWarning: Label not 38 is present in all training examples.\n",
      "  str(classes[c]))\n",
      "/home/student_panov/MrTsepa/anaconda3/lib/python3.6/site-packages/sklearn/multiclass.py:76: UserWarning: Label not 37 is present in all training examples.\n",
      "  str(classes[c]))\n",
      "/home/student_panov/MrTsepa/anaconda3/lib/python3.6/site-packages/sklearn/multiclass.py:76: UserWarning: Label not 38 is present in all training examples.\n",
      "  str(classes[c]))\n",
      "[Parallel(n_jobs=1)]: Done  10 out of  10 | elapsed:    3.4s finished\n"
     ]
    },
    {
     "name": "stdout",
     "output_type": "stream",
     "text": [
      "[ 0.31750532  0.3083276   0.33667622  0.33032616  0.28840782  0.32535211\n",
      "  0.33039946  0.29781421  0.31302521  0.32052162]\n",
      "0.316835572337\n",
      "deepwalk_BlogCatalog_d64\n"
     ]
    },
    {
     "name": "stderr",
     "output_type": "stream",
     "text": [
      "/home/student_panov/MrTsepa/anaconda3/lib/python3.6/site-packages/sklearn/multiclass.py:76: UserWarning: Label not 38 is present in all training examples.\n",
      "  str(classes[c]))\n",
      "/home/student_panov/MrTsepa/anaconda3/lib/python3.6/site-packages/sklearn/multiclass.py:76: UserWarning: Label not 38 is present in all training examples.\n",
      "  str(classes[c]))\n",
      "/home/student_panov/MrTsepa/anaconda3/lib/python3.6/site-packages/sklearn/multiclass.py:76: UserWarning: Label not 38 is present in all training examples.\n",
      "  str(classes[c]))\n",
      "/home/student_panov/MrTsepa/anaconda3/lib/python3.6/site-packages/sklearn/multiclass.py:76: UserWarning: Label not 38 is present in all training examples.\n",
      "  str(classes[c]))\n",
      "/home/student_panov/MrTsepa/anaconda3/lib/python3.6/site-packages/sklearn/multiclass.py:76: UserWarning: Label not 38 is present in all training examples.\n",
      "  str(classes[c]))\n",
      "/home/student_panov/MrTsepa/anaconda3/lib/python3.6/site-packages/sklearn/multiclass.py:76: UserWarning: Label not 37 is present in all training examples.\n",
      "  str(classes[c]))\n",
      "/home/student_panov/MrTsepa/anaconda3/lib/python3.6/site-packages/sklearn/multiclass.py:76: UserWarning: Label not 38 is present in all training examples.\n",
      "  str(classes[c]))\n",
      "[Parallel(n_jobs=1)]: Done  10 out of  10 | elapsed:    4.5s finished\n"
     ]
    },
    {
     "name": "stdout",
     "output_type": "stream",
     "text": [
      "[ 0.31041814  0.32346869  0.32234957  0.31644691  0.29120112  0.31830986\n",
      "  0.33310765  0.30532787  0.30742297  0.32120796]\n",
      "0.314926073743\n",
      "deepwalk_BlogCatalog_d128\n"
     ]
    },
    {
     "name": "stderr",
     "output_type": "stream",
     "text": [
      "/home/student_panov/MrTsepa/anaconda3/lib/python3.6/site-packages/sklearn/multiclass.py:76: UserWarning: Label not 38 is present in all training examples.\n",
      "  str(classes[c]))\n",
      "/home/student_panov/MrTsepa/anaconda3/lib/python3.6/site-packages/sklearn/multiclass.py:76: UserWarning: Label not 38 is present in all training examples.\n",
      "  str(classes[c]))\n",
      "/home/student_panov/MrTsepa/anaconda3/lib/python3.6/site-packages/sklearn/multiclass.py:76: UserWarning: Label not 38 is present in all training examples.\n",
      "  str(classes[c]))\n",
      "/home/student_panov/MrTsepa/anaconda3/lib/python3.6/site-packages/sklearn/multiclass.py:76: UserWarning: Label not 38 is present in all training examples.\n",
      "  str(classes[c]))\n",
      "/home/student_panov/MrTsepa/anaconda3/lib/python3.6/site-packages/sklearn/multiclass.py:76: UserWarning: Label not 38 is present in all training examples.\n",
      "  str(classes[c]))\n",
      "/home/student_panov/MrTsepa/anaconda3/lib/python3.6/site-packages/sklearn/multiclass.py:76: UserWarning: Label not 37 is present in all training examples.\n",
      "  str(classes[c]))\n",
      "/home/student_panov/MrTsepa/anaconda3/lib/python3.6/site-packages/sklearn/multiclass.py:76: UserWarning: Label not 38 is present in all training examples.\n",
      "  str(classes[c]))\n"
     ]
    },
    {
     "name": "stdout",
     "output_type": "stream",
     "text": [
      "[ 0.32034018  0.32759807  0.33094556  0.31783484  0.30097765  0.32042254\n",
      "  0.33310765  0.31967213  0.30322129  0.32532601]\n",
      "0.319944592438\n",
      "n2v_BlogCatalog_p1_q1_d32\n"
     ]
    },
    {
     "name": "stderr",
     "output_type": "stream",
     "text": [
      "[Parallel(n_jobs=1)]: Done  10 out of  10 | elapsed:    5.3s finished\n",
      "/home/student_panov/MrTsepa/anaconda3/lib/python3.6/site-packages/sklearn/multiclass.py:76: UserWarning: Label not 38 is present in all training examples.\n",
      "  str(classes[c]))\n",
      "/home/student_panov/MrTsepa/anaconda3/lib/python3.6/site-packages/sklearn/multiclass.py:76: UserWarning: Label not 38 is present in all training examples.\n",
      "  str(classes[c]))\n",
      "/home/student_panov/MrTsepa/anaconda3/lib/python3.6/site-packages/sklearn/multiclass.py:76: UserWarning: Label not 38 is present in all training examples.\n",
      "  str(classes[c]))\n",
      "/home/student_panov/MrTsepa/anaconda3/lib/python3.6/site-packages/sklearn/multiclass.py:76: UserWarning: Label not 38 is present in all training examples.\n",
      "  str(classes[c]))\n",
      "/home/student_panov/MrTsepa/anaconda3/lib/python3.6/site-packages/sklearn/multiclass.py:76: UserWarning: Label not 38 is present in all training examples.\n",
      "  str(classes[c]))\n",
      "/home/student_panov/MrTsepa/anaconda3/lib/python3.6/site-packages/sklearn/multiclass.py:76: UserWarning: Label not 37 is present in all training examples.\n",
      "  str(classes[c]))\n",
      "/home/student_panov/MrTsepa/anaconda3/lib/python3.6/site-packages/sklearn/multiclass.py:76: UserWarning: Label not 38 is present in all training examples.\n",
      "  str(classes[c]))\n"
     ]
    },
    {
     "name": "stdout",
     "output_type": "stream",
     "text": [
      "[ 0.33522325  0.35443909  0.35959885  0.3407356   0.31843575  0.34507042\n",
      "  0.3337847   0.32991803  0.34593838  0.32463967]\n",
      "0.338778374574\n",
      "n2v_BlogCatalog_p1_q1_d64\n"
     ]
    },
    {
     "name": "stderr",
     "output_type": "stream",
     "text": [
      "[Parallel(n_jobs=1)]: Done  10 out of  10 | elapsed:    3.4s finished\n",
      "/home/student_panov/MrTsepa/anaconda3/lib/python3.6/site-packages/sklearn/multiclass.py:76: UserWarning: Label not 38 is present in all training examples.\n",
      "  str(classes[c]))\n",
      "/home/student_panov/MrTsepa/anaconda3/lib/python3.6/site-packages/sklearn/multiclass.py:76: UserWarning: Label not 38 is present in all training examples.\n",
      "  str(classes[c]))\n",
      "/home/student_panov/MrTsepa/anaconda3/lib/python3.6/site-packages/sklearn/multiclass.py:76: UserWarning: Label not 38 is present in all training examples.\n",
      "  str(classes[c]))\n",
      "/home/student_panov/MrTsepa/anaconda3/lib/python3.6/site-packages/sklearn/multiclass.py:76: UserWarning: Label not 38 is present in all training examples.\n",
      "  str(classes[c]))\n",
      "/home/student_panov/MrTsepa/anaconda3/lib/python3.6/site-packages/sklearn/multiclass.py:76: UserWarning: Label not 38 is present in all training examples.\n",
      "  str(classes[c]))\n",
      "/home/student_panov/MrTsepa/anaconda3/lib/python3.6/site-packages/sklearn/multiclass.py:76: UserWarning: Label not 37 is present in all training examples.\n",
      "  str(classes[c]))\n",
      "/home/student_panov/MrTsepa/anaconda3/lib/python3.6/site-packages/sklearn/multiclass.py:76: UserWarning: Label not 38 is present in all training examples.\n",
      "  str(classes[c]))\n",
      "[Parallel(n_jobs=1)]: Done  10 out of  10 | elapsed:    3.4s finished\n"
     ]
    },
    {
     "name": "stdout",
     "output_type": "stream",
     "text": [
      "[ 0.35861091  0.35650379  0.36676218  0.34212353  0.32541899  0.3443662\n",
      "  0.34123223  0.32035519  0.34103641  0.35552505]\n",
      "0.345193447888\n",
      "n2v_BlogCatalog_p1_q1_d128\n"
     ]
    },
    {
     "name": "stderr",
     "output_type": "stream",
     "text": [
      "/home/student_panov/MrTsepa/anaconda3/lib/python3.6/site-packages/sklearn/multiclass.py:76: UserWarning: Label not 38 is present in all training examples.\n",
      "  str(classes[c]))\n",
      "/home/student_panov/MrTsepa/anaconda3/lib/python3.6/site-packages/sklearn/multiclass.py:76: UserWarning: Label not 38 is present in all training examples.\n",
      "  str(classes[c]))\n",
      "/home/student_panov/MrTsepa/anaconda3/lib/python3.6/site-packages/sklearn/multiclass.py:76: UserWarning: Label not 38 is present in all training examples.\n",
      "  str(classes[c]))\n",
      "/home/student_panov/MrTsepa/anaconda3/lib/python3.6/site-packages/sklearn/multiclass.py:76: UserWarning: Label not 38 is present in all training examples.\n",
      "  str(classes[c]))\n",
      "/home/student_panov/MrTsepa/anaconda3/lib/python3.6/site-packages/sklearn/multiclass.py:76: UserWarning: Label not 38 is present in all training examples.\n",
      "  str(classes[c]))\n",
      "/home/student_panov/MrTsepa/anaconda3/lib/python3.6/site-packages/sklearn/multiclass.py:76: UserWarning: Label not 37 is present in all training examples.\n",
      "  str(classes[c]))\n",
      "/home/student_panov/MrTsepa/anaconda3/lib/python3.6/site-packages/sklearn/multiclass.py:76: UserWarning: Label not 38 is present in all training examples.\n",
      "  str(classes[c]))\n"
     ]
    },
    {
     "name": "stdout",
     "output_type": "stream",
     "text": [
      "[ 0.33876683  0.34618032  0.36389685  0.34559334  0.32122905  0.3443662\n",
      "  0.34800271  0.33333333  0.34453782  0.34934798]\n",
      "0.343525441412\n",
      "{'deepwalk_BlogCatalog_d32': {'f1_micro': 0.31683557233719906}, 'deepwalk_BlogCatalog_d64': {'f1_micro': 0.31492607374280857}, 'deepwalk_BlogCatalog_d128': {'f1_micro': 0.31994459243798984}, 'n2v_BlogCatalog_p1_q1_d32': {'f1_micro': 0.33877837457371374}, 'n2v_BlogCatalog_p1_q1_d64': {'f1_micro': 0.34519344788800799}, 'n2v_BlogCatalog_p1_q1_d128': {'f1_micro': 0.34352544141234664}}\n"
     ]
    },
    {
     "name": "stderr",
     "output_type": "stream",
     "text": [
      "[Parallel(n_jobs=1)]: Done  10 out of  10 | elapsed:    4.7s finished\n"
     ]
    }
   ],
   "source": [
    "y = pd.read_csv(\n",
    "    '../data/BlogCatalog-dataset/data/group-edges.csv', \n",
    "    header=None, \n",
    "    delim_whitespace=True, \n",
    "    index_col=0\n",
    ").sort_index()\n",
    "y.index.name = None\n",
    "\n",
    "yy = []\n",
    "for i in range(1, 10313):\n",
    "    values = y.loc[i].values\n",
    "    if len(values) != 1:\n",
    "        values = [item[0] for item in values]\n",
    "    else:\n",
    "        values = list(values)\n",
    "    yy.append(values)\n",
    "    \n",
    "y_multilabel = MultiLabelBinarizer().fit_transform(yy)\n",
    "\n",
    "names = [\n",
    "    'deepwalk_BlogCatalog_d32',\n",
    "    'deepwalk_BlogCatalog_d64',\n",
    "    'deepwalk_BlogCatalog_d128',\n",
    "    'n2v_BlogCatalog_p1_q1_d32',\n",
    "    'n2v_BlogCatalog_p1_q1_d64',\n",
    "    'n2v_BlogCatalog_p1_q1_d128',\n",
    "]\n",
    "results = {}\n",
    "for name in names:\n",
    "    results[name] = {}\n",
    "    X = pd.read_csv(\n",
    "        '../dumps/models/{}.csv'.format(name),\n",
    "        delim_whitespace=Tru'n2v_BlogCatalog_p1_q1_d64',e, header=None,\n",
    "        skiprows=1,\n",
    "        index_col=0\n",
    "    ).sort_index()\n",
    "    X.index.name=None\n",
    "    print(name)\n",
    "    ss = ShuffleSplit(n_splits=10, random_state=42, train_size=0.1)\n",
    "    scores = cross_val_score(clf, X, y_multilabel, cv=ss.split(X), scoring='f1_micro', verbose=1)\n",
    "    print(scores)\n",
    "    print(scores.mean())\n",
    "    results[name]['f1_micro'] = scores.mean()\n",
    "\n",
    "print(results)"
   ]
  },
  {
   "cell_type": "code",
   "execution_count": 25,
   "metadata": {
    "collapsed": false
   },
   "outputs": [
    {
     "name": "stdout",
     "output_type": "stream",
     "text": [
      "deepwalk_BlogCatalog_d32\n"
     ]
    },
    {
     "name": "stderr",
     "output_type": "stream",
     "text": [
      "[Parallel(n_jobs=1)]: Done  10 out of  10 | elapsed:    6.9s finished\n"
     ]
    },
    {
     "name": "stdout",
     "output_type": "stream",
     "text": [
      "[ 0.35223246  0.33241569  0.35959885  0.34489938  0.32472067  0.34507042\n",
      "  0.34326337  0.32513661  0.33753501  0.34797529]\n",
      "0.341284776257\n",
      "deepwalk_BlogCatalog_d64\n"
     ]
    },
    {
     "name": "stderr",
     "output_type": "stream",
     "text": [
      "[Parallel(n_jobs=1)]: Done  10 out of  10 | elapsed:   12.2s finished\n"
     ]
    },
    {
     "name": "stdout",
     "output_type": "stream",
     "text": [
      "[ 0.35861091  0.35856848  0.3717765   0.35600278  0.3372905   0.3528169\n",
      "  0.3676371   0.33811475  0.3557423   0.35895676]\n",
      "0.355551699132\n",
      "deepwalk_BlogCatalog_d128\n",
      "[ 0.37207654  0.37302134  0.38467049  0.36502429  0.34986034  0.36338028\n",
      "  0.38659445  0.3442623   0.36344538  0.36376115]\n",
      "0.36660965438\n",
      "n2v_BlogCatalog_p1_q1_d32\n"
     ]
    },
    {
     "name": "stderr",
     "output_type": "stream",
     "text": [
      "[Parallel(n_jobs=1)]: Done  10 out of  10 | elapsed:   24.7s finished\n"
     ]
    },
    {
     "name": "stdout",
     "output_type": "stream",
     "text": [
      "[ 0.36853296  0.36820372  0.37679083  0.35669674  0.33868715  0.37323944\n",
      "  0.36018957  0.34699454  0.36834734  0.35415237]\n",
      "0.361183464437\n",
      "n2v_BlogCatalog_p1_q1_d64\n"
     ]
    },
    {
     "name": "stderr",
     "output_type": "stream",
     "text": [
      "[Parallel(n_jobs=1)]: Done  10 out of  10 | elapsed:    5.9s finished\n",
      "[Parallel(n_jobs=1)]: Done  10 out of  10 | elapsed:    8.7s finished\n"
     ]
    },
    {
     "name": "stdout",
     "output_type": "stream",
     "text": [
      "[ 0.3869596   0.37990365  0.37893983  0.36918806  0.3547486   0.37816901\n",
      "  0.3859174   0.34221311  0.37254902  0.3726836 ]\n",
      "0.372127189103\n",
      "n2v_BlogCatalog_p1_q1_d128\n",
      "[ 0.37491141  0.37783895  0.39469914  0.37612769  0.37290503  0.37746479\n",
      "  0.38185511  0.36680328  0.37044818  0.37131091]\n",
      "0.376436449291\n",
      "{'deepwalk_BlogCatalog_d32': {'f1_micro': 0.34128477625714709}, 'deepwalk_BlogCatalog_d64': {'f1_micro': 0.3555516991322108}, 'deepwalk_BlogCatalog_d128': {'f1_micro': 0.36660965438019455}, 'n2v_BlogCatalog_p1_q1_d32': {'f1_micro': 0.36118346443725552}, 'n2v_BlogCatalog_p1_q1_d64': {'f1_micro': 0.37212718910335757}, 'n2v_BlogCatalog_p1_q1_d128': {'f1_micro': 0.3764364492914824}}\n"
     ]
    },
    {
     "name": "stderr",
     "output_type": "stream",
     "text": [
      "[Parallel(n_jobs=1)]: Done  10 out of  10 | elapsed:   14.0s finished\n"
     ]
    }
   ],
   "source": [
    "y = pd.read_csv(\n",
    "    '../data/BlogCatalog-dataset/data/group-edges.csv', \n",
    "    header=None, \n",
    "    delim_whitespace=True, \n",
    "    index_col=0\n",
    ").sort_index()\n",
    "y.index.name = None\n",
    "\n",
    "yy = []\n",
    "for i in range(1, 10313):\n",
    "    values = y.loc[i].values\n",
    "    if len(values) != 1:\n",
    "        values = [item[0] for item in values]\n",
    "    else:\n",
    "        values = list(values)\n",
    "    yy.append(values)\n",
    "    \n",
    "y_multilabel = MultiLabelBinarizer().fit_transform(yy)\n",
    "\n",
    "names = [\n",
    "    'deepwalk_BlogCatalog_d32',\n",
    "    'deepwalk_BlogCatalog_d64',\n",
    "    'deepwalk_BlogCatalog_d128',\n",
    "    'n2v_BlogCatalog_p1_q1_d32',\n",
    "    'n2v_BlogCatalog_p1_q1_d64',\n",
    "    'n2v_BlogCatalog_p1_q1_d128',\n",
    "]\n",
    "results = {}\n",
    "for name in names:\n",
    "    results[name] = {}\n",
    "    X = pd.read_csv(\n",
    "        '../dumps/models/{}.csv'.format(name),\n",
    "        delim_whitespace=True, header=None,\n",
    "        skiprows=1,\n",
    "        index_col=0\n",
    "    ).sort_index()\n",
    "    X.index.name=None\n",
    "    print(name)\n",
    "    ss = ShuffleSplit(n_splits=10, random_state=42, train_size=0.6)\n",
    "    scores = cross_val_score(clf, X, y_multilabel, cv=ss.split(X), scoring='f1_micro', verbose=1)\n",
    "    print(scores)\n",
    "    print(scores.mean())\n",
    "    results[name]['f1_micro'] = scores.mean()\n",
    "\n",
    "print(results)"
   ]
  },
  {
   "cell_type": "code",
   "execution_count": 5,
   "metadata": {
    "collapsed": false
   },
   "outputs": [
    {
     "name": "stdout",
     "output_type": "stream",
     "text": [
      "hist_loss_BlogCatalog_d32\n"
     ]
    },
    {
     "ename": "NameError",
     "evalue": "name 'clf' is not defined",
     "output_type": "error",
     "traceback": [
      "\u001b[0;31m---------------------------------------------------------------------------\u001b[0m",
      "\u001b[0;31mNameError\u001b[0m                                 Traceback (most recent call last)",
      "\u001b[0;32m<ipython-input-5-99d1ddff1d74>\u001b[0m in \u001b[0;36m<module>\u001b[0;34m()\u001b[0m\n\u001b[1;32m     33\u001b[0m     \u001b[0mprint\u001b[0m\u001b[0;34m(\u001b[0m\u001b[0mname\u001b[0m\u001b[0;34m)\u001b[0m\u001b[0;34m\u001b[0m\u001b[0m\n\u001b[1;32m     34\u001b[0m     \u001b[0mss\u001b[0m \u001b[0;34m=\u001b[0m \u001b[0mShuffleSplit\u001b[0m\u001b[0;34m(\u001b[0m\u001b[0mn_splits\u001b[0m\u001b[0;34m=\u001b[0m\u001b[0;36m10\u001b[0m\u001b[0;34m,\u001b[0m \u001b[0mrandom_state\u001b[0m\u001b[0;34m=\u001b[0m\u001b[0;36m42\u001b[0m\u001b[0;34m,\u001b[0m \u001b[0mtrain_size\u001b[0m\u001b[0;34m=\u001b[0m\u001b[0;36m0.6\u001b[0m\u001b[0;34m)\u001b[0m\u001b[0;34m\u001b[0m\u001b[0m\n\u001b[0;32m---> 35\u001b[0;31m     \u001b[0mscores\u001b[0m \u001b[0;34m=\u001b[0m \u001b[0mcross_val_score\u001b[0m\u001b[0;34m(\u001b[0m\u001b[0mclf\u001b[0m\u001b[0;34m,\u001b[0m \u001b[0mX\u001b[0m\u001b[0;34m,\u001b[0m \u001b[0my_multilabel\u001b[0m\u001b[0;34m,\u001b[0m \u001b[0mcv\u001b[0m\u001b[0;34m=\u001b[0m\u001b[0mss\u001b[0m\u001b[0;34m.\u001b[0m\u001b[0msplit\u001b[0m\u001b[0;34m(\u001b[0m\u001b[0mX\u001b[0m\u001b[0;34m)\u001b[0m\u001b[0;34m,\u001b[0m \u001b[0mscoring\u001b[0m\u001b[0;34m=\u001b[0m\u001b[0;34m'f1_micro'\u001b[0m\u001b[0;34m,\u001b[0m \u001b[0mverbose\u001b[0m\u001b[0;34m=\u001b[0m\u001b[0;36m1\u001b[0m\u001b[0;34m)\u001b[0m\u001b[0;34m\u001b[0m\u001b[0m\n\u001b[0m\u001b[1;32m     36\u001b[0m     \u001b[0mprint\u001b[0m\u001b[0;34m(\u001b[0m\u001b[0mscores\u001b[0m\u001b[0;34m)\u001b[0m\u001b[0;34m\u001b[0m\u001b[0m\n\u001b[1;32m     37\u001b[0m     \u001b[0mprint\u001b[0m\u001b[0;34m(\u001b[0m\u001b[0mscores\u001b[0m\u001b[0;34m.\u001b[0m\u001b[0mmean\u001b[0m\u001b[0;34m(\u001b[0m\u001b[0;34m)\u001b[0m\u001b[0;34m)\u001b[0m\u001b[0;34m\u001b[0m\u001b[0m\n",
      "\u001b[0;31mNameError\u001b[0m: name 'clf' is not defined"
     ]
    }
   ],
   "source": [
    "y = pd.read_csv(\n",
    "    '../data/BlogCatalog-dataset/data/group-edges.csv', \n",
    "    header=None, \n",
    "    delim_whitespace=True, \n",
    "    index_col=0\n",
    ").sort_index()\n",
    "y.index.name = None\n",
    "\n",
    "yy = []\n",
    "for i in range(1, 10313):\n",
    "    values = y.loc[i].values\n",
    "    if len(values) != 1:\n",
    "        values = [item[0] for item in values]\n",
    "    else:\n",
    "        values = list(values)\n",
    "    yy.append(values)\n",
    "    \n",
    "y_multilabel = MultiLabelBinarizer().fit_transform(yy)\n",
    "\n",
    "names = [\n",
    "    'hist_loss_BlogCatalog_d32'\n",
    "]\n",
    "results = {}\n",
    "for name in names:\n",
    "    results[name] = {}\n",
    "    X = pd.read_csv(\n",
    "        '../dumps/models/{}.csv'.format(name),\n",
    "        delim_whitespace=True, header=None,\n",
    "        skiprows=1,\n",
    "        index_col=0\n",
    "    ).sort_index()\n",
    "    X.index.name=None\n",
    "    print(name)\n",
    "    ss = ShuffleSplit(n_splits=10, random_state=42, train_size=0.6)\n",
    "    scores = cross_val_score(clf, X, y_multilabel, cv=ss.split(X), scoring='f1_micro', verbose=1)\n",
    "    print(scores)\n",
    "    print(scores.mean())\n",
    "    results[name]['f1_micro'] = scores.mean()\n",
    "\n",
    "print(results)"
   ]
  },
  {
   "cell_type": "code",
   "execution_count": 27,
   "metadata": {
    "collapsed": false
   },
   "outputs": [
    {
     "name": "stdout",
     "output_type": "stream",
     "text": [
      "{   'deepwalk_BlogCatalog_d128': {'f1_micro': 0.36660965438019455},\n",
      "    'deepwalk_BlogCatalog_d32': {'f1_micro': 0.34128477625714709},\n",
      "    'deepwalk_BlogCatalog_d64': {'f1_micro': 0.3555516991322108},\n",
      "    'n2v_BlogCatalog_p1_q1_d128': {'f1_micro': 0.3764364492914824},\n",
      "    'n2v_BlogCatalog_p1_q1_d32': {'f1_micro': 0.36118346443725552},\n",
      "    'n2v_BlogCatalog_p1_q1_d64': {'f1_micro': 0.37212718910335757}}\n"
     ]
    }
   ],
   "source": [
    "import pprint\n",
    "pp = pprint.PrettyPrinter(indent=4)\n",
    "pp.pprint(results)"
   ]
  },
  {
   "cell_type": "code",
   "execution_count": null,
   "metadata": {
    "collapsed": true
   },
   "outputs": [],
   "source": []
  }
 ],
 "metadata": {
  "kernelspec": {
   "display_name": "Python 3",
   "language": "python",
   "name": "python3"
  },
  "language_info": {
   "codemirror_mode": {
    "name": "ipython",
    "version": 3
   },
   "file_extension": ".py",
   "mimetype": "text/x-python",
   "name": "python",
   "nbconvert_exporter": "python",
   "pygments_lexer": "ipython3",
   "version": "3.6.0"
  }
 },
 "nbformat": 4,
 "nbformat_minor": 1
}
