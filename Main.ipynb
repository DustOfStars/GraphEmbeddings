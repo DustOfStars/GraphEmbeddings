{
 "cells": [
  {
   "cell_type": "code",
   "execution_count": 88,
   "metadata": {
    "collapsed": true
   },
   "outputs": [],
   "source": [
    "import pandas as pd\n",
    "import matplotlib.pyplot as plt\n",
    "import seaborn as sns\n",
    "import numpy as np\n",
    "import networkx as nx\n",
    "\n",
    "sns.set()\n",
    "\n",
    "from sklearn.preprocessing import MultiLabelBinarizer"
   ]
  },
  {
   "cell_type": "code",
   "execution_count": 2,
   "metadata": {
    "collapsed": true
   },
   "outputs": [],
   "source": [
    "from src.settings import PATH_TO_DUMPS, PATH_TO_BLOG_CATALOG"
   ]
  },
  {
   "cell_type": "code",
   "execution_count": 89,
   "metadata": {
    "collapsed": true
   },
   "outputs": [],
   "source": [
    "X = pd.read_csv(\n",
    "    PATH_TO_DUMPS + '/models/deepwalk_BlogCatalog_d32_ws1.csv',\n",
    "    #PATH_TO_DUMPS + '/models/hist_loss_BlogCatalog_d32.csv',\n",
    "    delim_whitespace=True, header=None,\n",
    "    skiprows=1,\n",
    "    index_col=0\n",
    ").sort_index()\n",
    "X.index.name=None"
   ]
  },
  {
   "cell_type": "code",
   "execution_count": 4,
   "metadata": {
    "collapsed": true
   },
   "outputs": [],
   "source": [
    "y = pd.read_csv(\n",
    "    PATH_TO_BLOG_CATALOG + '/data/group-edges.csv', \n",
    "    header=None, \n",
    "    delim_whitespace=True, \n",
    "    index_col=0\n",
    ").sort_index()\n",
    "y.index.name = None\n",
    "\n",
    "yy = []\n",
    "for i in range(1, 10313):\n",
    "    values = y.loc[i].values\n",
    "    if len(values) != 1:\n",
    "        values = [item[0] for item in values]\n",
    "    else:\n",
    "        values = list(values)\n",
    "    yy.append(values)\n",
    "    \n",
    "y_multilabel = MultiLabelBinarizer().fit_transform(yy)"
   ]
  },
  {
   "cell_type": "code",
   "execution_count": 90,
   "metadata": {
    "collapsed": false,
    "scrolled": true
   },
   "outputs": [
    {
     "data": {
      "text/html": [
       "<div>\n",
       "<style>\n",
       "    .dataframe thead tr:only-child th {\n",
       "        text-align: right;\n",
       "    }\n",
       "\n",
       "    .dataframe thead th {\n",
       "        text-align: left;\n",
       "    }\n",
       "\n",
       "    .dataframe tbody tr th {\n",
       "        vertical-align: top;\n",
       "    }\n",
       "</style>\n",
       "<table border=\"1\" class=\"dataframe\">\n",
       "  <thead>\n",
       "    <tr style=\"text-align: right;\">\n",
       "      <th></th>\n",
       "      <th>1</th>\n",
       "      <th>2</th>\n",
       "      <th>3</th>\n",
       "      <th>4</th>\n",
       "      <th>5</th>\n",
       "      <th>6</th>\n",
       "      <th>7</th>\n",
       "      <th>8</th>\n",
       "      <th>9</th>\n",
       "      <th>10</th>\n",
       "      <th>...</th>\n",
       "      <th>23</th>\n",
       "      <th>24</th>\n",
       "      <th>25</th>\n",
       "      <th>26</th>\n",
       "      <th>27</th>\n",
       "      <th>28</th>\n",
       "      <th>29</th>\n",
       "      <th>30</th>\n",
       "      <th>31</th>\n",
       "      <th>32</th>\n",
       "    </tr>\n",
       "  </thead>\n",
       "  <tbody>\n",
       "    <tr>\n",
       "      <th>1</th>\n",
       "      <td>-0.538722</td>\n",
       "      <td>-0.985906</td>\n",
       "      <td>0.395292</td>\n",
       "      <td>1.752981</td>\n",
       "      <td>-0.928212</td>\n",
       "      <td>0.241434</td>\n",
       "      <td>-1.680373</td>\n",
       "      <td>0.065574</td>\n",
       "      <td>-0.514501</td>\n",
       "      <td>0.093616</td>\n",
       "      <td>...</td>\n",
       "      <td>-0.002070</td>\n",
       "      <td>0.464417</td>\n",
       "      <td>-0.494720</td>\n",
       "      <td>-0.979391</td>\n",
       "      <td>-1.300482</td>\n",
       "      <td>-0.454577</td>\n",
       "      <td>-0.415256</td>\n",
       "      <td>-0.246755</td>\n",
       "      <td>-2.066889</td>\n",
       "      <td>-0.819533</td>\n",
       "    </tr>\n",
       "    <tr>\n",
       "      <th>2</th>\n",
       "      <td>0.258177</td>\n",
       "      <td>0.420359</td>\n",
       "      <td>-0.293750</td>\n",
       "      <td>0.314135</td>\n",
       "      <td>-0.295904</td>\n",
       "      <td>0.924739</td>\n",
       "      <td>-0.420338</td>\n",
       "      <td>0.422281</td>\n",
       "      <td>-0.736682</td>\n",
       "      <td>-1.326544</td>\n",
       "      <td>...</td>\n",
       "      <td>0.523910</td>\n",
       "      <td>-0.126052</td>\n",
       "      <td>0.324381</td>\n",
       "      <td>0.137676</td>\n",
       "      <td>-0.341231</td>\n",
       "      <td>-0.270099</td>\n",
       "      <td>0.191064</td>\n",
       "      <td>0.147401</td>\n",
       "      <td>-0.272364</td>\n",
       "      <td>-0.443318</td>\n",
       "    </tr>\n",
       "    <tr>\n",
       "      <th>3</th>\n",
       "      <td>0.730662</td>\n",
       "      <td>0.445611</td>\n",
       "      <td>0.400245</td>\n",
       "      <td>0.512928</td>\n",
       "      <td>-0.079770</td>\n",
       "      <td>-1.373232</td>\n",
       "      <td>-1.082946</td>\n",
       "      <td>-0.568570</td>\n",
       "      <td>-1.001116</td>\n",
       "      <td>-1.622457</td>\n",
       "      <td>...</td>\n",
       "      <td>1.284798</td>\n",
       "      <td>-0.518983</td>\n",
       "      <td>-0.549063</td>\n",
       "      <td>-0.668436</td>\n",
       "      <td>-1.417183</td>\n",
       "      <td>0.282246</td>\n",
       "      <td>0.625916</td>\n",
       "      <td>1.080132</td>\n",
       "      <td>-1.128400</td>\n",
       "      <td>-1.289345</td>\n",
       "    </tr>\n",
       "    <tr>\n",
       "      <th>4</th>\n",
       "      <td>-0.018591</td>\n",
       "      <td>0.911064</td>\n",
       "      <td>0.850709</td>\n",
       "      <td>0.357437</td>\n",
       "      <td>0.597082</td>\n",
       "      <td>0.949400</td>\n",
       "      <td>-0.319233</td>\n",
       "      <td>0.240510</td>\n",
       "      <td>-0.314289</td>\n",
       "      <td>-0.393608</td>\n",
       "      <td>...</td>\n",
       "      <td>-0.205885</td>\n",
       "      <td>-0.259920</td>\n",
       "      <td>0.088952</td>\n",
       "      <td>-0.149646</td>\n",
       "      <td>0.335661</td>\n",
       "      <td>0.128203</td>\n",
       "      <td>-0.566604</td>\n",
       "      <td>0.062009</td>\n",
       "      <td>-1.142383</td>\n",
       "      <td>0.154245</td>\n",
       "    </tr>\n",
       "    <tr>\n",
       "      <th>5</th>\n",
       "      <td>-0.342035</td>\n",
       "      <td>0.108253</td>\n",
       "      <td>0.369818</td>\n",
       "      <td>0.512425</td>\n",
       "      <td>-0.713907</td>\n",
       "      <td>-1.085678</td>\n",
       "      <td>-0.863964</td>\n",
       "      <td>-0.709512</td>\n",
       "      <td>-1.013759</td>\n",
       "      <td>-1.035405</td>\n",
       "      <td>...</td>\n",
       "      <td>-0.259602</td>\n",
       "      <td>-0.954720</td>\n",
       "      <td>-1.322720</td>\n",
       "      <td>-0.135571</td>\n",
       "      <td>-0.507903</td>\n",
       "      <td>-2.279927</td>\n",
       "      <td>0.614777</td>\n",
       "      <td>-0.705773</td>\n",
       "      <td>-2.413957</td>\n",
       "      <td>-0.097195</td>\n",
       "    </tr>\n",
       "  </tbody>\n",
       "</table>\n",
       "<p>5 rows × 32 columns</p>\n",
       "</div>"
      ],
      "text/plain": [
       "         1         2         3         4         5         6         7   \\\n",
       "1 -0.538722 -0.985906  0.395292  1.752981 -0.928212  0.241434 -1.680373   \n",
       "2  0.258177  0.420359 -0.293750  0.314135 -0.295904  0.924739 -0.420338   \n",
       "3  0.730662  0.445611  0.400245  0.512928 -0.079770 -1.373232 -1.082946   \n",
       "4 -0.018591  0.911064  0.850709  0.357437  0.597082  0.949400 -0.319233   \n",
       "5 -0.342035  0.108253  0.369818  0.512425 -0.713907 -1.085678 -0.863964   \n",
       "\n",
       "         8         9         10    ...           23        24        25  \\\n",
       "1  0.065574 -0.514501  0.093616    ...    -0.002070  0.464417 -0.494720   \n",
       "2  0.422281 -0.736682 -1.326544    ...     0.523910 -0.126052  0.324381   \n",
       "3 -0.568570 -1.001116 -1.622457    ...     1.284798 -0.518983 -0.549063   \n",
       "4  0.240510 -0.314289 -0.393608    ...    -0.205885 -0.259920  0.088952   \n",
       "5 -0.709512 -1.013759 -1.035405    ...    -0.259602 -0.954720 -1.322720   \n",
       "\n",
       "         26        27        28        29        30        31        32  \n",
       "1 -0.979391 -1.300482 -0.454577 -0.415256 -0.246755 -2.066889 -0.819533  \n",
       "2  0.137676 -0.341231 -0.270099  0.191064  0.147401 -0.272364 -0.443318  \n",
       "3 -0.668436 -1.417183  0.282246  0.625916  1.080132 -1.128400 -1.289345  \n",
       "4 -0.149646  0.335661  0.128203 -0.566604  0.062009 -1.142383  0.154245  \n",
       "5 -0.135571 -0.507903 -2.279927  0.614777 -0.705773 -2.413957 -0.097195  \n",
       "\n",
       "[5 rows x 32 columns]"
      ]
     },
     "execution_count": 90,
     "metadata": {},
     "output_type": "execute_result"
    }
   ],
   "source": [
    "X.head()"
   ]
  },
  {
   "cell_type": "code",
   "execution_count": 91,
   "metadata": {
    "collapsed": true
   },
   "outputs": [],
   "source": [
    "E = X.values"
   ]
  },
  {
   "cell_type": "code",
   "execution_count": 92,
   "metadata": {
    "collapsed": true
   },
   "outputs": [],
   "source": [
    "E_norm = E / np.linalg.norm(E, axis=1).reshape((E.shape[0], 1))"
   ]
  },
  {
   "cell_type": "code",
   "execution_count": 93,
   "metadata": {
    "collapsed": true
   },
   "outputs": [],
   "source": [
    "E_corr = np.dot(E_norm, E_norm.T)"
   ]
  },
  {
   "cell_type": "code",
   "execution_count": 94,
   "metadata": {
    "collapsed": false
   },
   "outputs": [
    {
     "data": {
      "text/plain": [
       "array([[ 1.        ,  0.33791846,  0.38274609, ...,  0.10841219,\n",
       "         0.11803519,  0.31202632],\n",
       "       [ 0.33791846,  1.        ,  0.52484713, ...,  0.28191129,\n",
       "         0.3181977 ,  0.36315035],\n",
       "       [ 0.38274609,  0.52484713,  1.        , ...,  0.15200751,\n",
       "         0.14904216,  0.18932824],\n",
       "       ..., \n",
       "       [ 0.10841219,  0.28191129,  0.15200751, ...,  1.        ,\n",
       "         0.52773446,  0.45452125],\n",
       "       [ 0.11803519,  0.3181977 ,  0.14904216, ...,  0.52773446,\n",
       "         1.        ,  0.75332632],\n",
       "       [ 0.31202632,  0.36315035,  0.18932824, ...,  0.45452125,\n",
       "         0.75332632,  1.        ]])"
      ]
     },
     "execution_count": 94,
     "metadata": {},
     "output_type": "execute_result"
    }
   ],
   "source": [
    "E_corr"
   ]
  },
  {
   "cell_type": "code",
   "execution_count": 174,
   "metadata": {
    "collapsed": true
   },
   "outputs": [],
   "source": [
    "graph = nx.read_edgelist(\n",
    "        '{}/data/edges.csv'.format(PATH_TO_BLOG_CATALOG), nodetype=int\n",
    ")\n",
    "nodes = graph.nodes()\n",
    "adjacency_matrix = nx.adjacency_matrix(graph, nodes).astype('float64')\n",
    "N = adjacency_matrix.shape[0]\n",
    "A = adjacency_matrix.toarray()"
   ]
  },
  {
   "cell_type": "code",
   "execution_count": 175,
   "metadata": {
    "collapsed": false
   },
   "outputs": [
    {
     "data": {
      "text/plain": [
       "array([[ 0.,  1.,  1., ...,  0.,  0.,  0.],\n",
       "       [ 1.,  0.,  1., ...,  0.,  0.,  0.],\n",
       "       [ 1.,  1.,  0., ...,  0.,  0.,  0.],\n",
       "       ..., \n",
       "       [ 0.,  0.,  0., ...,  0.,  0.,  0.],\n",
       "       [ 0.,  0.,  0., ...,  0.,  0.,  0.],\n",
       "       [ 0.,  0.,  0., ...,  0.,  0.,  0.]])"
      ]
     },
     "execution_count": 175,
     "metadata": {},
     "output_type": "execute_result"
    }
   ],
   "source": [
    "A"
   ]
  },
  {
   "cell_type": "code",
   "execution_count": 95,
   "metadata": {
    "collapsed": true
   },
   "outputs": [],
   "source": [
    "pos_mask = A\n",
    "\n",
    "neg_mask = 1 - pos_mask - np.eye(pos_mask.shape[0])\n",
    "pos_samples = E_corr[pos_mask.nonzero()]\n",
    "neg_samples = E_corr[neg_mask.nonzero()]"
   ]
  },
  {
   "cell_type": "code",
   "execution_count": 96,
   "metadata": {
    "collapsed": false
   },
   "outputs": [
    {
     "data": {
      "image/png": "[encoded data removed]",
      "text/plain": [
       "<matplotlib.figure.Figure at 0x7f7f7957be10>"
      ]
     },
     "metadata": {},
     "output_type": "display_data"
    }
   ],
   "source": [
    "sns.distplot(pos_samples)\n",
    "sns.distplot(np.random.choice(neg_samples, size=pos_samples.shape[0]*10))\n",
    "plt.show()"
   ]
  },
  {
   "cell_type": "code",
   "execution_count": 5,
   "metadata": {
    "collapsed": false
   },
   "outputs": [
    {
     "data": {
      "text/plain": [
       "array([0, 0, 0, 0, 0, 0, 0, 1, 0, 0, 0, 0, 0, 0, 0, 0, 0, 0, 0, 0, 1, 0, 0,\n",
       "       0, 0, 0, 0, 0, 0, 0, 0, 0, 0, 0, 0, 0, 0, 0, 0])"
      ]
     },
     "execution_count": 5,
     "metadata": {},
     "output_type": "execute_result"
    }
   ],
   "source": [
    "y_multilabel[5]"
   ]
  },
  {
   "cell_type": "code",
   "execution_count": 110,
   "metadata": {
    "collapsed": false
   },
   "outputs": [
    {
     "name": "stdout",
     "output_type": "stream",
     "text": [
      "0 1 2 "
     ]
    },
    {
     "ename": "KeyboardInterrupt",
     "evalue": "",
     "output_type": "error",
     "traceback": [
      "\u001b[0;31m---------------------------------------------------------------------------\u001b[0m",
      "\u001b[0;31mKeyboardInterrupt\u001b[0m                         Traceback (most recent call last)",
      "\u001b[0;32m<ipython-input-110-2f6e01935bad>\u001b[0m in \u001b[0;36m<module>\u001b[0;34m()\u001b[0m\n\u001b[1;32m      6\u001b[0m             \u001b[0;32mfor\u001b[0m \u001b[0mk\u001b[0m \u001b[0;32min\u001b[0m \u001b[0mrange\u001b[0m\u001b[0;34m(\u001b[0m\u001b[0mj\u001b[0m \u001b[0;34m+\u001b[0m \u001b[0;36m1\u001b[0m\u001b[0;34m,\u001b[0m \u001b[0mN\u001b[0m\u001b[0;34m)\u001b[0m\u001b[0;34m:\u001b[0m\u001b[0;34m\u001b[0m\u001b[0m\n\u001b[1;32m      7\u001b[0m                 \u001b[0;32mif\u001b[0m \u001b[0mA\u001b[0m\u001b[0;34m[\u001b[0m\u001b[0mi\u001b[0m\u001b[0;34m]\u001b[0m\u001b[0;34m[\u001b[0m\u001b[0mk\u001b[0m\u001b[0;34m]\u001b[0m \u001b[0;34m==\u001b[0m \u001b[0;36m1\u001b[0m\u001b[0;34m:\u001b[0m\u001b[0;34m\u001b[0m\u001b[0m\n\u001b[0;32m----> 8\u001b[0;31m                     \u001b[0mB\u001b[0m\u001b[0;34m[\u001b[0m\u001b[0mj\u001b[0m\u001b[0;34m]\u001b[0m\u001b[0;34m[\u001b[0m\u001b[0mk\u001b[0m\u001b[0;34m]\u001b[0m \u001b[0;34m=\u001b[0m \u001b[0mB\u001b[0m\u001b[0;34m[\u001b[0m\u001b[0mk\u001b[0m\u001b[0;34m]\u001b[0m\u001b[0;34m[\u001b[0m\u001b[0mj\u001b[0m\u001b[0;34m]\u001b[0m \u001b[0;34m=\u001b[0m \u001b[0;36m1\u001b[0m\u001b[0;34m\u001b[0m\u001b[0m\n\u001b[0m",
      "\u001b[0;31mKeyboardInterrupt\u001b[0m: "
     ]
    }
   ],
   "source": [
    "B = A.copy()\n",
    "for i in range(N):\n",
    "    print(i, end=' ')\n",
    "    for j in range(i + 1, N):\n",
    "        if A[i][j] == 1:\n",
    "            for k in range(j + 1, N):\n",
    "                if A[i][k] == 1:\n",
    "                    B[j][k] = B[k][j] = 1"
   ]
  },
  {
   "cell_type": "code",
   "execution_count": 197,
   "metadata": {
    "collapsed": false
   },
   "outputs": [
    {
     "name": "stdout",
     "output_type": "stream",
     "text": [
      "0 100 200 300 400 500 600 700 800 900 1000 1100 1200 1300 1400 1500 1600 1700 1800 1900 2000 2100 2200 2300 2400 2500 2600 2700 2800 2900 3000 3100 3200 3300 3400 3500 3600 3700 3800 3900 4000 4100 4200 4300 4400 4500 4600 4700 4800 4900 5000 5100 5200 5300 5400 5500 5600 5700 5800 5900 6000 6100 6200 6300 6400 6500 6600 6700 6800 6900 7000 7100 7200 7300 7400 7500 7600 7700 7800 7900 8000 8100 8200 8300 8400 8500 8600 8700 8800 8900 9000 9100 9200 9300 9400 9500 9600 9700 9800 9900 10000 10100 10200 10300 "
     ]
    }
   ],
   "source": [
    "from itertools import combinations\n",
    "B = A.copy()\n",
    "for i in range(N):\n",
    "    if i % 100 == 0:\n",
    "        print(i, end=' ')\n",
    "    nonzero_indxs = np.nonzero(A[i][i+1:])[0] + (i+1)\n",
    "    indxs_pairs = combinations(nonzero_indxs, 2)\n",
    "    for k1, k2 in indxs_pairs:\n",
    "        B[k1][k2] = B[k2][k1] = 1"
   ]
  },
  {
   "cell_type": "code",
   "execution_count": 177,
   "metadata": {
    "collapsed": false
   },
   "outputs": [
    {
     "data": {
      "text/plain": [
       "array([ 1.,  0.,  1.,  1.,  0.,  1.,  1.,  1.,  1.,  1.,  1.,  1.,  1.,\n",
       "        1.,  1.,  1.,  1.,  1.,  0.,  1.,  1.,  1.,  1.,  1.,  0.,  1.,\n",
       "        1.,  1.,  1.,  0.,  1.,  1.,  1.,  1.,  1.,  1.,  1.,  1.,  1.,\n",
       "        1.,  1.,  0.,  1.,  1.,  0.,  1.,  1.,  1.,  1.,  1.,  1.,  1.,\n",
       "        1.,  1.,  1.,  1.,  1.,  1.,  0.,  1.,  0.,  1.,  1.,  1.,  1.,\n",
       "        0.,  1.,  0.,  0.,  1.,  1.,  0.,  1.,  1.,  0.,  1.,  1.,  0.,\n",
       "        0.,  0.,  1.,  0.,  0.,  0.,  1.,  1.,  1.,  1.,  1.,  0.,  1.,\n",
       "        1.,  1.,  0.,  1.,  1.,  1.,  0.,  1.,  1.])"
      ]
     },
     "execution_count": 177,
     "metadata": {},
     "output_type": "execute_result"
    }
   ],
   "source": [
    "A[1][:100]"
   ]
  },
  {
   "cell_type": "code",
   "execution_count": 182,
   "metadata": {
    "collapsed": false
   },
   "outputs": [
    {
     "data": {
      "text/plain": [
       "array([[ 0.,  1.,  1.,  1.,  1.,  1.,  1.,  1.,  1.,  1.],\n",
       "       [ 1.,  0.,  1.,  1.,  0.,  1.,  1.,  1.,  1.,  1.],\n",
       "       [ 1.,  1.,  0.,  1.,  0.,  1.,  1.,  1.,  1.,  1.],\n",
       "       [ 1.,  1.,  1.,  0.,  0.,  1.,  1.,  0.,  1.,  1.],\n",
       "       [ 1.,  0.,  0.,  0.,  0.,  0.,  0.,  0.,  1.,  0.],\n",
       "       [ 1.,  1.,  1.,  1.,  0.,  0.,  1.,  0.,  1.,  1.],\n",
       "       [ 1.,  1.,  1.,  1.,  0.,  1.,  0.,  0.,  1.,  1.],\n",
       "       [ 1.,  1.,  1.,  0.,  0.,  0.,  0.,  0.,  1.,  1.],\n",
       "       [ 1.,  1.,  1.,  1.,  1.,  1.,  1.,  1.,  0.,  1.],\n",
       "       [ 1.,  1.,  1.,  1.,  0.,  1.,  1.,  1.,  1.,  0.]])"
      ]
     },
     "execution_count": 182,
     "metadata": {},
     "output_type": "execute_result"
    }
   ],
   "source": [
    "A[:10,:10]"
   ]
  },
  {
   "cell_type": "code",
   "execution_count": 192,
   "metadata": {
    "collapsed": false
   },
   "outputs": [
    {
     "data": {
      "image/png": "[encoded data removed]",
      "text/plain": [
       "<matplotlib.figure.Figure at 0x7f7f77d2cd30>"
      ]
     },
     "metadata": {},
     "output_type": "display_data"
    }
   ],
   "source": [
    "sns.heatmap(A[:100, :100])\n",
    "plt.show()"
   ]
  },
  {
   "cell_type": "code",
   "execution_count": 220,
   "metadata": {
    "collapsed": false
   },
   "outputs": [
    {
     "data": {
      "image/png": "[encoded data removed]",
      "text/plain": [
       "<matplotlib.figure.Figure at 0x7f7f7995b5f8>"
      ]
     },
     "metadata": {},
     "output_type": "display_data"
    }
   ],
   "source": [
    "x = 6900\n",
    "sns.heatmap(B[x:x + 200, x:x + 200])\n",
    "plt.show()"
   ]
  },
  {
   "cell_type": "code",
   "execution_count": 213,
   "metadata": {
    "collapsed": false
   },
   "outputs": [
    {
     "data": {
      "text/plain": [
       "667966"
      ]
     },
     "execution_count": 213,
     "metadata": {},
     "output_type": "execute_result"
    }
   ],
   "source": [
    "len(np.nonzero(A)[0])"
   ]
  },
  {
   "cell_type": "code",
   "execution_count": 154,
   "metadata": {
    "collapsed": false
   },
   "outputs": [
    {
     "data": {
      "text/plain": [
       "[]"
      ]
     },
     "execution_count": 154,
     "metadata": {},
     "output_type": "execute_result"
    }
   ],
   "source": [
    "list(indxs_pairs)"
   ]
  },
  {
   "cell_type": "code",
   "execution_count": 15,
   "metadata": {
    "collapsed": true
   },
   "outputs": [],
   "source": [
    "from sklearn.linear_model import LogisticRegression\n",
    "from sklearn.multiclass import OneVsRestClassifier\n",
    "from src.classifiers import MultilabelOVRClassifier\n",
    "\n",
    "from sklearn.model_selection import cross_val_score, ShuffleSplit"
   ]
  },
  {
   "cell_type": "code",
   "execution_count": 16,
   "metadata": {
    "collapsed": true
   },
   "outputs": [],
   "source": [
    "clf1 = LogisticRegression(C=100)"
   ]
  },
  {
   "cell_type": "code",
   "execution_count": 17,
   "metadata": {
    "collapsed": true
   },
   "outputs": [],
   "source": [
    "clf2 = OneVsRestClassifier(LogisticRegression(C=1, verbose=0), n_jobs=-1)"
   ]
  },
  {
   "cell_type": "code",
   "execution_count": 97,
   "metadata": {
    "collapsed": true
   },
   "outputs": [],
   "source": [
    "MultilabelOVRClassifier.set_labels(X.index.values, y_multilabel)\n",
    "\n",
    "clf3 = MultilabelOVRClassifier(LogisticRegression(C=1, verbose=0), n_jobs=-1)"
   ]
  },
  {
   "cell_type": "code",
   "execution_count": 98,
   "metadata": {
    "collapsed": true
   },
   "outputs": [],
   "source": [
    "clf = clf3"
   ]
  },
  {
   "cell_type": "code",
   "execution_count": 20,
   "metadata": {
    "collapsed": false
   },
   "outputs": [
    {
     "data": {
      "text/plain": [
       "MultilabelOVRClassifier(estimator=LogisticRegression(C=1, class_weight=None, dual=False, fit_intercept=True,\n",
       "          intercept_scaling=1, max_iter=100, multi_class='ovr', n_jobs=1,\n",
       "          penalty='l2', random_state=None, solver='liblinear', tol=0.0001,\n",
       "          verbose=0, warm_start=False),\n",
       "            n_jobs=-1)"
      ]
     },
     "execution_count": 20,
     "metadata": {},
     "output_type": "execute_result"
    }
   ],
   "source": [
    "clf.fit(X, y_multilabel)"
   ]
  },
  {
   "cell_type": "code",
   "execution_count": 21,
   "metadata": {
    "collapsed": true
   },
   "outputs": [],
   "source": [
    "pred = clf.predict(X)"
   ]
  },
  {
   "cell_type": "code",
   "execution_count": 22,
   "metadata": {
    "collapsed": false
   },
   "outputs": [
    {
     "data": {
      "text/plain": [
       "array([ 0.,  0.,  0.,  0.,  1.,  0.,  0.,  1.,  0.,  0.,  0.,  0.,  0.,\n",
       "        0.,  0.,  0.,  0.,  0.,  0.,  0.,  0.,  0.,  0.,  0.,  0.,  0.,\n",
       "        0.,  0.,  0.,  0.,  0.,  0.,  0.,  0.,  0.,  0.,  0.,  0.,  0.])"
      ]
     },
     "execution_count": 22,
     "metadata": {},
     "output_type": "execute_result"
    }
   ],
   "source": [
    "pred[5]"
   ]
  },
  {
   "cell_type": "code",
   "execution_count": 35,
   "metadata": {
    "collapsed": false
   },
   "outputs": [
    {
     "data": {
      "text/plain": [
       "10312"
      ]
     },
     "execution_count": 35,
     "metadata": {},
     "output_type": "execute_result"
    }
   ],
   "source": [
    "len(X)"
   ]
  },
  {
   "cell_type": "code",
   "execution_count": 35,
   "metadata": {
    "collapsed": false
   },
   "outputs": [
    {
     "data": {
      "text/plain": [
       "2852"
      ]
     },
     "execution_count": 35,
     "metadata": {},
     "output_type": "execute_result"
    }
   ],
   "source": [
    "len([_ for arr in clf.predict(X) if sum(arr)>1])"
   ]
  },
  {
   "cell_type": "code",
   "execution_count": 21,
   "metadata": {
    "collapsed": true
   },
   "outputs": [
    {
     "data": {
      "text/plain": [
       "[[0.0010532040435299163,\n",
       "  0.0011268825812917312,\n",
       "  0.0035125258886279666,\n",
       "  0.0050284841997343347,\n",
       "  0.006514888965241392,\n",
       "  0.0066707885628602935,\n",
       "  0.0072434634895832189,\n",
       "  0.0072565494285342733,\n",
       "  0.0074904767396766578,\n",
       "  0.0087195480813021236,\n",
       "  0.0094694030538000854,\n",
       "  0.010226018146236804,\n",
       "  0.011337871685606696,\n",
       "  0.013724155110305688,\n",
       "  0.018311349616258271,\n",
       "  0.019021692373050104,\n",
       "  0.025379693204039436,\n",
       "  0.025557484885893069,\n",
       "  0.028888395956289226,\n",
       "  0.030805101324858045,\n",
       "  0.03176689913635343,\n",
       "  0.034031864653419654,\n",
       "  0.035092829994719452,\n",
       "  0.036562045120967779,\n",
       "  0.037292355583360651,\n",
       "  0.037526124145252825,\n",
       "  0.038269925767749687,\n",
       "  0.038838733600043904,\n",
       "  0.042904318055535157,\n",
       "  0.044647362717864215,\n",
       "  0.057557978648124397,\n",
       "  0.064653024028810152,\n",
       "  0.071543958256682263,\n",
       "  0.072904018616525873,\n",
       "  0.073564067027194299,\n",
       "  0.078143853413522729,\n",
       "  0.080322084559232648,\n",
       "  0.11226915665842738,\n",
       "  0.18965656458778951],\n",
       " [0.00090249601470001012,\n",
       "  0.0010631068363405631,\n",
       "  0.0021994117977785161,\n",
       "  0.0035569207844041019,\n",
       "  0.0038283500678394492,\n",
       "  0.0040068936306076825,\n",
       "  0.0056773698376868451,\n",
       "  0.0060625315434945119,\n",
       "  0.0066372786873609034,\n",
       "  0.0069891568118551194,\n",
       "  0.0071706785447128007,\n",
       "  0.010585645374408287,\n",
       "  0.011883708868025217,\n",
       "  0.014111657056475249,\n",
       "  0.017468362451172337,\n",
       "  0.022285293536992018,\n",
       "  0.022564378884227652,\n",
       "  0.025446213330643834,\n",
       "  0.026367354024006803,\n",
       "  0.027818609129705654,\n",
       "  0.033228480538073188,\n",
       "  0.038143613080985836,\n",
       "  0.038630340672991578,\n",
       "  0.039128349651655056,\n",
       "  0.040419447035672788,\n",
       "  0.040548601406928154,\n",
       "  0.049702793589315133,\n",
       "  0.050800505957338572,\n",
       "  0.050976092168584806,\n",
       "  0.052844211531290645,\n",
       "  0.053108148273552896,\n",
       "  0.054977245644905831,\n",
       "  0.058577373891210448,\n",
       "  0.059560970409042506,\n",
       "  0.06402031007166685,\n",
       "  0.095554527105196824,\n",
       "  0.10084327511693547,\n",
       "  0.10822944470200245,\n",
       "  0.20335033063091906]]"
      ]
     },
     "execution_count": 21,
     "metadata": {},
     "output_type": "execute_result"
    }
   ],
   "source": [
    "[sorted(item) for item in clf.predict_proba(X.loc[5:6])]"
   ]
  },
  {
   "cell_type": "code",
   "execution_count": 24,
   "metadata": {
    "collapsed": true
   },
   "outputs": [],
   "source": [
    "ss = ShuffleSplit(n_splits=3, random_state=42, train_size=0.6)"
   ]
  },
  {
   "cell_type": "code",
   "execution_count": 99,
   "metadata": {
    "collapsed": false
   },
   "outputs": [
    {
     "name": "stdout",
     "output_type": "stream",
     "text": [
      "[ 0.33522325  0.35306263  0.34598854]\n",
      "0.344758137883\n"
     ]
    },
    {
     "name": "stderr",
     "output_type": "stream",
     "text": [
      "[Parallel(n_jobs=1)]: Done   3 out of   3 | elapsed:    2.7s finished\n"
     ]
    }
   ],
   "source": [
    "scores = cross_val_score(clf, X, y_multilabel, cv=ss.split(X), scoring='f1_micro', verbose=1)\n",
    "print(scores)\n",
    "print(scores.mean())"
   ]
  },
  {
   "cell_type": "code",
   "execution_count": 19,
   "metadata": {
    "collapsed": false
   },
   "outputs": [
    {
     "name": "stderr",
     "output_type": "stream",
     "text": [
      "/home/tsepa/anaconda3/lib/python3.6/site-packages/sklearn/metrics/classification.py:1113: UndefinedMetricWarning: F-score is ill-defined and being set to 0.0 in labels with no predicted samples.\n",
      "  'precision', 'predicted', average, warn_for)\n",
      "/home/tsepa/anaconda3/lib/python3.6/site-packages/sklearn/metrics/classification.py:1113: UndefinedMetricWarning: F-score is ill-defined and being set to 0.0 in labels with no predicted samples.\n",
      "  'precision', 'predicted', average, warn_for)\n"
     ]
    },
    {
     "name": "stdout",
     "output_type": "stream",
     "text": [
      "[ 0.03221955  0.03094239  0.0263378 ]\n",
      "0.0298332460312\n"
     ]
    },
    {
     "name": "stderr",
     "output_type": "stream",
     "text": [
      "/home/tsepa/anaconda3/lib/python3.6/site-packages/sklearn/metrics/classification.py:1113: UndefinedMetricWarning: F-score is ill-defined and being set to 0.0 in labels with no predicted samples.\n",
      "  'precision', 'predicted', average, warn_for)\n",
      "[Parallel(n_jobs=1)]: Done   3 out of   3 | elapsed:    1.9s finished\n"
     ]
    }
   ],
   "source": [
    "scores = cross_val_score(clf, X, y_multilabel, cv=3, scoring='f1_macro', verbose=1)\n",
    "print(scores)\n",
    "print(scores.mean())"
   ]
  },
  {
   "cell_type": "code",
   "execution_count": 23,
   "metadata": {
    "collapsed": false
   },
   "outputs": [
    {
     "name": "stdout",
     "output_type": "stream",
     "text": [
      "deepwalk_BlogCatalog_d32\n"
     ]
    },
    {
     "name": "stderr",
     "output_type": "stream",
     "text": [
      "/home/student_panov/MrTsepa/anaconda3/lib/python3.6/site-packages/sklearn/multiclass.py:76: UserWarning: Label not 38 is present in all training examples.\n",
      "  str(classes[c]))\n",
      "/home/student_panov/MrTsepa/anaconda3/lib/python3.6/site-packages/sklearn/multiclass.py:76: UserWarning: Label not 38 is present in all training examples.\n",
      "  str(classes[c]))\n",
      "/home/student_panov/MrTsepa/anaconda3/lib/python3.6/site-packages/sklearn/multiclass.py:76: UserWarning: Label not 38 is present in all training examples.\n",
      "  str(classes[c]))\n",
      "/home/student_panov/MrTsepa/anaconda3/lib/python3.6/site-packages/sklearn/multiclass.py:76: UserWarning: Label not 38 is present in all training examples.\n",
      "  str(classes[c]))\n",
      "/home/student_panov/MrTsepa/anaconda3/lib/python3.6/site-packages/sklearn/multiclass.py:76: UserWarning: Label not 38 is present in all training examples.\n",
      "  str(classes[c]))\n",
      "/home/student_panov/MrTsepa/anaconda3/lib/python3.6/site-packages/sklearn/multiclass.py:76: UserWarning: Label not 37 is present in all training examples.\n",
      "  str(classes[c]))\n",
      "/home/student_panov/MrTsepa/anaconda3/lib/python3.6/site-packages/sklearn/multiclass.py:76: UserWarning: Label not 38 is present in all training examples.\n",
      "  str(classes[c]))\n",
      "[Parallel(n_jobs=1)]: Done  10 out of  10 | elapsed:    3.4s finished\n"
     ]
    },
    {
     "name": "stdout",
     "output_type": "stream",
     "text": [
      "[ 0.31750532  0.3083276   0.33667622  0.33032616  0.28840782  0.32535211\n",
      "  0.33039946  0.29781421  0.31302521  0.32052162]\n",
      "0.316835572337\n",
      "deepwalk_BlogCatalog_d64\n"
     ]
    },
    {
     "name": "stderr",
     "output_type": "stream",
     "text": [
      "/home/student_panov/MrTsepa/anaconda3/lib/python3.6/site-packages/sklearn/multiclass.py:76: UserWarning: Label not 38 is present in all training examples.\n",
      "  str(classes[c]))\n",
      "/home/student_panov/MrTsepa/anaconda3/lib/python3.6/site-packages/sklearn/multiclass.py:76: UserWarning: Label not 38 is present in all training examples.\n",
      "  str(classes[c]))\n",
      "/home/student_panov/MrTsepa/anaconda3/lib/python3.6/site-packages/sklearn/multiclass.py:76: UserWarning: Label not 38 is present in all training examples.\n",
      "  str(classes[c]))\n",
      "/home/student_panov/MrTsepa/anaconda3/lib/python3.6/site-packages/sklearn/multiclass.py:76: UserWarning: Label not 38 is present in all training examples.\n",
      "  str(classes[c]))\n",
      "/home/student_panov/MrTsepa/anaconda3/lib/python3.6/site-packages/sklearn/multiclass.py:76: UserWarning: Label not 38 is present in all training examples.\n",
      "  str(classes[c]))\n",
      "/home/student_panov/MrTsepa/anaconda3/lib/python3.6/site-packages/sklearn/multiclass.py:76: UserWarning: Label not 37 is present in all training examples.\n",
      "  str(classes[c]))\n",
      "/home/student_panov/MrTsepa/anaconda3/lib/python3.6/site-packages/sklearn/multiclass.py:76: UserWarning: Label not 38 is present in all training examples.\n",
      "  str(classes[c]))\n",
      "[Parallel(n_jobs=1)]: Done  10 out of  10 | elapsed:    4.5s finished\n"
     ]
    },
    {
     "name": "stdout",
     "output_type": "stream",
     "text": [
      "[ 0.31041814  0.32346869  0.32234957  0.31644691  0.29120112  0.31830986\n",
      "  0.33310765  0.30532787  0.30742297  0.32120796]\n",
      "0.314926073743\n",
      "deepwalk_BlogCatalog_d128\n"
     ]
    },
    {
     "name": "stderr",
     "output_type": "stream",
     "text": [
      "/home/student_panov/MrTsepa/anaconda3/lib/python3.6/site-packages/sklearn/multiclass.py:76: UserWarning: Label not 38 is present in all training examples.\n",
      "  str(classes[c]))\n",
      "/home/student_panov/MrTsepa/anaconda3/lib/python3.6/site-packages/sklearn/multiclass.py:76: UserWarning: Label not 38 is present in all training examples.\n",
      "  str(classes[c]))\n",
      "/home/student_panov/MrTsepa/anaconda3/lib/python3.6/site-packages/sklearn/multiclass.py:76: UserWarning: Label not 38 is present in all training examples.\n",
      "  str(classes[c]))\n",
      "/home/student_panov/MrTsepa/anaconda3/lib/python3.6/site-packages/sklearn/multiclass.py:76: UserWarning: Label not 38 is present in all training examples.\n",
      "  str(classes[c]))\n",
      "/home/student_panov/MrTsepa/anaconda3/lib/python3.6/site-packages/sklearn/multiclass.py:76: UserWarning: Label not 38 is present in all training examples.\n",
      "  str(classes[c]))\n",
      "/home/student_panov/MrTsepa/anaconda3/lib/python3.6/site-packages/sklearn/multiclass.py:76: UserWarning: Label not 37 is present in all training examples.\n",
      "  str(classes[c]))\n",
      "/home/student_panov/MrTsepa/anaconda3/lib/python3.6/site-packages/sklearn/multiclass.py:76: UserWarning: Label not 38 is present in all training examples.\n",
      "  str(classes[c]))\n"
     ]
    },
    {
     "name": "stdout",
     "output_type": "stream",
     "text": [
      "[ 0.32034018  0.32759807  0.33094556  0.31783484  0.30097765  0.32042254\n",
      "  0.33310765  0.31967213  0.30322129  0.32532601]\n",
      "0.319944592438\n",
      "n2v_BlogCatalog_p1_q1_d32\n"
     ]
    },
    {
     "name": "stderr",
     "output_type": "stream",
     "text": [
      "[Parallel(n_jobs=1)]: Done  10 out of  10 | elapsed:    5.3s finished\n",
      "/home/student_panov/MrTsepa/anaconda3/lib/python3.6/site-packages/sklearn/multiclass.py:76: UserWarning: Label not 38 is present in all training examples.\n",
      "  str(classes[c]))\n",
      "/home/student_panov/MrTsepa/anaconda3/lib/python3.6/site-packages/sklearn/multiclass.py:76: UserWarning: Label not 38 is present in all training examples.\n",
      "  str(classes[c]))\n",
      "/home/student_panov/MrTsepa/anaconda3/lib/python3.6/site-packages/sklearn/multiclass.py:76: UserWarning: Label not 38 is present in all training examples.\n",
      "  str(classes[c]))\n",
      "/home/student_panov/MrTsepa/anaconda3/lib/python3.6/site-packages/sklearn/multiclass.py:76: UserWarning: Label not 38 is present in all training examples.\n",
      "  str(classes[c]))\n",
      "/home/student_panov/MrTsepa/anaconda3/lib/python3.6/site-packages/sklearn/multiclass.py:76: UserWarning: Label not 38 is present in all training examples.\n",
      "  str(classes[c]))\n",
      "/home/student_panov/MrTsepa/anaconda3/lib/python3.6/site-packages/sklearn/multiclass.py:76: UserWarning: Label not 37 is present in all training examples.\n",
      "  str(classes[c]))\n",
      "/home/student_panov/MrTsepa/anaconda3/lib/python3.6/site-packages/sklearn/multiclass.py:76: UserWarning: Label not 38 is present in all training examples.\n",
      "  str(classes[c]))\n"
     ]
    },
    {
     "name": "stdout",
     "output_type": "stream",
     "text": [
      "[ 0.33522325  0.35443909  0.35959885  0.3407356   0.31843575  0.34507042\n",
      "  0.3337847   0.32991803  0.34593838  0.32463967]\n",
      "0.338778374574\n",
      "n2v_BlogCatalog_p1_q1_d64\n"
     ]
    },
    {
     "name": "stderr",
     "output_type": "stream",
     "text": [
      "[Parallel(n_jobs=1)]: Done  10 out of  10 | elapsed:    3.4s finished\n",
      "/home/student_panov/MrTsepa/anaconda3/lib/python3.6/site-packages/sklearn/multiclass.py:76: UserWarning: Label not 38 is present in all training examples.\n",
      "  str(classes[c]))\n",
      "/home/student_panov/MrTsepa/anaconda3/lib/python3.6/site-packages/sklearn/multiclass.py:76: UserWarning: Label not 38 is present in all training examples.\n",
      "  str(classes[c]))\n",
      "/home/student_panov/MrTsepa/anaconda3/lib/python3.6/site-packages/sklearn/multiclass.py:76: UserWarning: Label not 38 is present in all training examples.\n",
      "  str(classes[c]))\n",
      "/home/student_panov/MrTsepa/anaconda3/lib/python3.6/site-packages/sklearn/multiclass.py:76: UserWarning: Label not 38 is present in all training examples.\n",
      "  str(classes[c]))\n",
      "/home/student_panov/MrTsepa/anaconda3/lib/python3.6/site-packages/sklearn/multiclass.py:76: UserWarning: Label not 38 is present in all training examples.\n",
      "  str(classes[c]))\n",
      "/home/student_panov/MrTsepa/anaconda3/lib/python3.6/site-packages/sklearn/multiclass.py:76: UserWarning: Label not 37 is present in all training examples.\n",
      "  str(classes[c]))\n",
      "/home/student_panov/MrTsepa/anaconda3/lib/python3.6/site-packages/sklearn/multiclass.py:76: UserWarning: Label not 38 is present in all training examples.\n",
      "  str(classes[c]))\n",
      "[Parallel(n_jobs=1)]: Done  10 out of  10 | elapsed:    3.4s finished\n"
     ]
    },
    {
     "name": "stdout",
     "output_type": "stream",
     "text": [
      "[ 0.35861091  0.35650379  0.36676218  0.34212353  0.32541899  0.3443662\n",
      "  0.34123223  0.32035519  0.34103641  0.35552505]\n",
      "0.345193447888\n",
      "n2v_BlogCatalog_p1_q1_d128\n"
     ]
    },
    {
     "name": "stderr",
     "output_type": "stream",
     "text": [
      "/home/student_panov/MrTsepa/anaconda3/lib/python3.6/site-packages/sklearn/multiclass.py:76: UserWarning: Label not 38 is present in all training examples.\n",
      "  str(classes[c]))\n",
      "/home/student_panov/MrTsepa/anaconda3/lib/python3.6/site-packages/sklearn/multiclass.py:76: UserWarning: Label not 38 is present in all training examples.\n",
      "  str(classes[c]))\n",
      "/home/student_panov/MrTsepa/anaconda3/lib/python3.6/site-packages/sklearn/multiclass.py:76: UserWarning: Label not 38 is present in all training examples.\n",
      "  str(classes[c]))\n",
      "/home/student_panov/MrTsepa/anaconda3/lib/python3.6/site-packages/sklearn/multiclass.py:76: UserWarning: Label not 38 is present in all training examples.\n",
      "  str(classes[c]))\n",
      "/home/student_panov/MrTsepa/anaconda3/lib/python3.6/site-packages/sklearn/multiclass.py:76: UserWarning: Label not 38 is present in all training examples.\n",
      "  str(classes[c]))\n",
      "/home/student_panov/MrTsepa/anaconda3/lib/python3.6/site-packages/sklearn/multiclass.py:76: UserWarning: Label not 37 is present in all training examples.\n",
      "  str(classes[c]))\n",
      "/home/student_panov/MrTsepa/anaconda3/lib/python3.6/site-packages/sklearn/multiclass.py:76: UserWarning: Label not 38 is present in all training examples.\n",
      "  str(classes[c]))\n"
     ]
    },
    {
     "name": "stdout",
     "output_type": "stream",
     "text": [
      "[ 0.33876683  0.34618032  0.36389685  0.34559334  0.32122905  0.3443662\n",
      "  0.34800271  0.33333333  0.34453782  0.34934798]\n",
      "0.343525441412\n",
      "{'deepwalk_BlogCatalog_d32': {'f1_micro': 0.31683557233719906}, 'deepwalk_BlogCatalog_d64': {'f1_micro': 0.31492607374280857}, 'deepwalk_BlogCatalog_d128': {'f1_micro': 0.31994459243798984}, 'n2v_BlogCatalog_p1_q1_d32': {'f1_micro': 0.33877837457371374}, 'n2v_BlogCatalog_p1_q1_d64': {'f1_micro': 0.34519344788800799}, 'n2v_BlogCatalog_p1_q1_d128': {'f1_micro': 0.34352544141234664}}\n"
     ]
    },
    {
     "name": "stderr",
     "output_type": "stream",
     "text": [
      "[Parallel(n_jobs=1)]: Done  10 out of  10 | elapsed:    4.7s finished\n"
     ]
    }
   ],
   "source": [
    "y = pd.read_csv(\n",
    "    '../data/BlogCatalog-dataset/data/group-edges.csv', \n",
    "    header=None, \n",
    "    delim_whitespace=True, \n",
    "    index_col=0\n",
    ").sort_index()\n",
    "y.index.name = None\n",
    "\n",
    "yy = []\n",
    "for i in range(1, 10313):\n",
    "    values = y.loc[i].values\n",
    "    if len(values) != 1:\n",
    "        values = [item[0] for item in values]\n",
    "    else:\n",
    "        values = list(values)\n",
    "    yy.append(values)\n",
    "    \n",
    "y_multilabel = MultiLabelBinarizer().fit_transform(yy)\n",
    "\n",
    "names = [\n",
    "    'deepwalk_BlogCatalog_d32',\n",
    "    'deepwalk_BlogCatalog_d64',\n",
    "    'deepwalk_BlogCatalog_d128',\n",
    "    'n2v_BlogCatalog_p1_q1_d32',\n",
    "    'n2v_BlogCatalog_p1_q1_d64',\n",
    "    'n2v_BlogCatalog_p1_q1_d128',\n",
    "]\n",
    "results = {}\n",
    "for name in names:\n",
    "    results[name] = {}\n",
    "    X = pd.read_csv(\n",
    "        '../dumps/models/{}.csv'.format(name),\n",
    "        delim_whitespace=Tru'n2v_BlogCatalog_p1_q1_d64',e, header=None,\n",
    "        skiprows=1,\n",
    "        index_col=0\n",
    "    ).sort_index()\n",
    "    X.index.name=None\n",
    "    print(name)\n",
    "    ss = ShuffleSplit(n_splits=10, random_state=42, train_size=0.1)\n",
    "    scores = cross_val_score(clf, X, y_multilabel, cv=ss.split(X), scoring='f1_micro', verbose=1)\n",
    "    print(scores)\n",
    "    print(scores.mean())\n",
    "    results[name]['f1_micro'] = scores.mean()\n",
    "\n",
    "print(results)"
   ]
  },
  {
   "cell_type": "code",
   "execution_count": 25,
   "metadata": {
    "collapsed": false
   },
   "outputs": [
    {
     "name": "stdout",
     "output_type": "stream",
     "text": [
      "deepwalk_BlogCatalog_d32\n"
     ]
    },
    {
     "name": "stderr",
     "output_type": "stream",
     "text": [
      "[Parallel(n_jobs=1)]: Done  10 out of  10 | elapsed:    6.9s finished\n"
     ]
    },
    {
     "name": "stdout",
     "output_type": "stream",
     "text": [
      "[ 0.35223246  0.33241569  0.35959885  0.34489938  0.32472067  0.34507042\n",
      "  0.34326337  0.32513661  0.33753501  0.34797529]\n",
      "0.341284776257\n",
      "deepwalk_BlogCatalog_d64\n"
     ]
    },
    {
     "name": "stderr",
     "output_type": "stream",
     "text": [
      "[Parallel(n_jobs=1)]: Done  10 out of  10 | elapsed:   12.2s finished\n"
     ]
    },
    {
     "name": "stdout",
     "output_type": "stream",
     "text": [
      "[ 0.35861091  0.35856848  0.3717765   0.35600278  0.3372905   0.3528169\n",
      "  0.3676371   0.33811475  0.3557423   0.35895676]\n",
      "0.355551699132\n",
      "deepwalk_BlogCatalog_d128\n",
      "[ 0.37207654  0.37302134  0.38467049  0.36502429  0.34986034  0.36338028\n",
      "  0.38659445  0.3442623   0.36344538  0.36376115]\n",
      "0.36660965438\n",
      "n2v_BlogCatalog_p1_q1_d32\n"
     ]
    },
    {
     "name": "stderr",
     "output_type": "stream",
     "text": [
      "[Parallel(n_jobs=1)]: Done  10 out of  10 | elapsed:   24.7s finished\n"
     ]
    },
    {
     "name": "stdout",
     "output_type": "stream",
     "text": [
      "[ 0.36853296  0.36820372  0.37679083  0.35669674  0.33868715  0.37323944\n",
      "  0.36018957  0.34699454  0.36834734  0.35415237]\n",
      "0.361183464437\n",
      "n2v_BlogCatalog_p1_q1_d64\n"
     ]
    },
    {
     "name": "stderr",
     "output_type": "stream",
     "text": [
      "[Parallel(n_jobs=1)]: Done  10 out of  10 | elapsed:    5.9s finished\n",
      "[Parallel(n_jobs=1)]: Done  10 out of  10 | elapsed:    8.7s finished\n"
     ]
    },
    {
     "name": "stdout",
     "output_type": "stream",
     "text": [
      "[ 0.3869596   0.37990365  0.37893983  0.36918806  0.3547486   0.37816901\n",
      "  0.3859174   0.34221311  0.37254902  0.3726836 ]\n",
      "0.372127189103\n",
      "n2v_BlogCatalog_p1_q1_d128\n",
      "[ 0.37491141  0.37783895  0.39469914  0.37612769  0.37290503  0.37746479\n",
      "  0.38185511  0.36680328  0.37044818  0.37131091]\n",
      "0.376436449291\n",
      "{'deepwalk_BlogCatalog_d32': {'f1_micro': 0.34128477625714709}, 'deepwalk_BlogCatalog_d64': {'f1_micro': 0.3555516991322108}, 'deepwalk_BlogCatalog_d128': {'f1_micro': 0.36660965438019455}, 'n2v_BlogCatalog_p1_q1_d32': {'f1_micro': 0.36118346443725552}, 'n2v_BlogCatalog_p1_q1_d64': {'f1_micro': 0.37212718910335757}, 'n2v_BlogCatalog_p1_q1_d128': {'f1_micro': 0.3764364492914824}}\n"
     ]
    },
    {
     "name": "stderr",
     "output_type": "stream",
     "text": [
      "[Parallel(n_jobs=1)]: Done  10 out of  10 | elapsed:   14.0s finished\n"
     ]
    }
   ],
   "source": [
    "y = pd.read_csv(\n",
    "    '../data/BlogCatalog-dataset/data/group-edges.csv', \n",
    "    header=None, \n",
    "    delim_whitespace=True, \n",
    "    index_col=0\n",
    ").sort_index()\n",
    "y.index.name = None\n",
    "\n",
    "yy = []\n",
    "for i in range(1, 10313):\n",
    "    values = y.loc[i].values\n",
    "    if len(values) != 1:\n",
    "        values = [item[0] for item in values]\n",
    "    else:\n",
    "        values = list(values)\n",
    "    yy.append(values)\n",
    "    \n",
    "y_multilabel = MultiLabelBinarizer().fit_transform(yy)\n",
    "\n",
    "names = [\n",
    "    'deepwalk_BlogCatalog_d32',\n",
    "    'deepwalk_BlogCatalog_d64',\n",
    "    'deepwalk_BlogCatalog_d128',\n",
    "    'n2v_BlogCatalog_p1_q1_d32',\n",
    "    'n2v_BlogCatalog_p1_q1_d64',\n",
    "    'n2v_BlogCatalog_p1_q1_d128',\n",
    "]\n",
    "results = {}\n",
    "for name in names:\n",
    "    results[name] = {}\n",
    "    X = pd.read_csv(\n",
    "        '../dumps/models/{}.csv'.format(name),\n",
    "        delim_whitespace=True, header=None,\n",
    "        skiprows=1,\n",
    "        index_col=0\n",
    "    ).sort_index()\n",
    "    X.index.name=None\n",
    "    print(name)\n",
    "    ss = ShuffleSplit(n_splits=10, random_state=42, train_size=0.6)\n",
    "    scores = cross_val_score(clf, X, y_multilabel, cv=ss.split(X), scoring='f1_micro', verbose=1)\n",
    "    print(scores)\n",
    "    print(scores.mean())\n",
    "    results[name]['f1_micro'] = scores.mean()\n",
    "\n",
    "print(results)"
   ]
  },
  {
   "cell_type": "code",
   "execution_count": 5,
   "metadata": {
    "collapsed": false
   },
   "outputs": [
    {
     "name": "stdout",
     "output_type": "stream",
     "text": [
      "hist_loss_BlogCatalog_d32\n"
     ]
    },
    {
     "ename": "NameError",
     "evalue": "name 'clf' is not defined",
     "output_type": "error",
     "traceback": [
      "\u001b[0;31m---------------------------------------------------------------------------\u001b[0m",
      "\u001b[0;31mNameError\u001b[0m                                 Traceback (most recent call last)",
      "\u001b[0;32m<ipython-input-5-99d1ddff1d74>\u001b[0m in \u001b[0;36m<module>\u001b[0;34m()\u001b[0m\n\u001b[1;32m     33\u001b[0m     \u001b[0mprint\u001b[0m\u001b[0;34m(\u001b[0m\u001b[0mname\u001b[0m\u001b[0;34m)\u001b[0m\u001b[0;34m\u001b[0m\u001b[0m\n\u001b[1;32m     34\u001b[0m     \u001b[0mss\u001b[0m \u001b[0;34m=\u001b[0m \u001b[0mShuffleSplit\u001b[0m\u001b[0;34m(\u001b[0m\u001b[0mn_splits\u001b[0m\u001b[0;34m=\u001b[0m\u001b[0;36m10\u001b[0m\u001b[0;34m,\u001b[0m \u001b[0mrandom_state\u001b[0m\u001b[0;34m=\u001b[0m\u001b[0;36m42\u001b[0m\u001b[0;34m,\u001b[0m \u001b[0mtrain_size\u001b[0m\u001b[0;34m=\u001b[0m\u001b[0;36m0.6\u001b[0m\u001b[0;34m)\u001b[0m\u001b[0;34m\u001b[0m\u001b[0m\n\u001b[0;32m---> 35\u001b[0;31m     \u001b[0mscores\u001b[0m \u001b[0;34m=\u001b[0m \u001b[0mcross_val_score\u001b[0m\u001b[0;34m(\u001b[0m\u001b[0mclf\u001b[0m\u001b[0;34m,\u001b[0m \u001b[0mX\u001b[0m\u001b[0;34m,\u001b[0m \u001b[0my_multilabel\u001b[0m\u001b[0;34m,\u001b[0m \u001b[0mcv\u001b[0m\u001b[0;34m=\u001b[0m\u001b[0mss\u001b[0m\u001b[0;34m.\u001b[0m\u001b[0msplit\u001b[0m\u001b[0;34m(\u001b[0m\u001b[0mX\u001b[0m\u001b[0;34m)\u001b[0m\u001b[0;34m,\u001b[0m \u001b[0mscoring\u001b[0m\u001b[0;34m=\u001b[0m\u001b[0;34m'f1_micro'\u001b[0m\u001b[0;34m,\u001b[0m \u001b[0mverbose\u001b[0m\u001b[0;34m=\u001b[0m\u001b[0;36m1\u001b[0m\u001b[0;34m)\u001b[0m\u001b[0;34m\u001b[0m\u001b[0m\n\u001b[0m\u001b[1;32m     36\u001b[0m     \u001b[0mprint\u001b[0m\u001b[0;34m(\u001b[0m\u001b[0mscores\u001b[0m\u001b[0;34m)\u001b[0m\u001b[0;34m\u001b[0m\u001b[0m\n\u001b[1;32m     37\u001b[0m     \u001b[0mprint\u001b[0m\u001b[0;34m(\u001b[0m\u001b[0mscores\u001b[0m\u001b[0;34m.\u001b[0m\u001b[0mmean\u001b[0m\u001b[0;34m(\u001b[0m\u001b[0;34m)\u001b[0m\u001b[0;34m)\u001b[0m\u001b[0;34m\u001b[0m\u001b[0m\n",
      "\u001b[0;31mNameError\u001b[0m: name 'clf' is not defined"
     ]
    }
   ],
   "source": [
    "y = pd.read_csv(\n",
    "    '../data/BlogCatalog-dataset/data/group-edges.csv', \n",
    "    header=None, \n",
    "    delim_whitespace=True, \n",
    "    index_col=0\n",
    ").sort_index()\n",
    "y.index.name = None\n",
    "\n",
    "yy = []\n",
    "for i in range(1, 10313):\n",
    "    values = y.loc[i].values\n",
    "    if len(values) != 1:\n",
    "        values = [item[0] for item in values]\n",
    "    else:\n",
    "        values = list(values)\n",
    "    yy.append(values)\n",
    "    \n",
    "y_multilabel = MultiLabelBinarizer().fit_transform(yy)\n",
    "\n",
    "names = [\n",
    "    'hist_loss_BlogCatalog_d32'\n",
    "]\n",
    "results = {}\n",
    "for name in names:\n",
    "    results[name] = {}\n",
    "    X = pd.read_csv(\n",
    "        '../dumps/models/{}.csv'.format(name),\n",
    "        delim_whitespace=True, header=None,\n",
    "        skiprows=1,\n",
    "        index_col=0\n",
    "    ).sort_index()\n",
    "    X.index.name=None\n",
    "    print(name)\n",
    "    ss = ShuffleSplit(n_splits=10, random_state=42, train_size=0.6)\n",
    "    scores = cross_val_score(clf, X, y_multilabel, cv=ss.split(X), scoring='f1_micro', verbose=1)\n",
    "    print(scores)\n",
    "    print(scores.mean())\n",
    "    results[name]['f1_micro'] = scores.mean()\n",
    "\n",
    "print(results)"
   ]
  },
  {
   "cell_type": "code",
   "execution_count": 27,
   "metadata": {
    "collapsed": false
   },
   "outputs": [
    {
     "name": "stdout",
     "output_type": "stream",
     "text": [
      "{   'deepwalk_BlogCatalog_d128': {'f1_micro': 0.36660965438019455},\n",
      "    'deepwalk_BlogCatalog_d32': {'f1_micro': 0.34128477625714709},\n",
      "    'deepwalk_BlogCatalog_d64': {'f1_micro': 0.3555516991322108},\n",
      "    'n2v_BlogCatalog_p1_q1_d128': {'f1_micro': 0.3764364492914824},\n",
      "    'n2v_BlogCatalog_p1_q1_d32': {'f1_micro': 0.36118346443725552},\n",
      "    'n2v_BlogCatalog_p1_q1_d64': {'f1_micro': 0.37212718910335757}}\n"
     ]
    }
   ],
   "source": [
    "import pprint\n",
    "pp = pprint.PrettyPrinter(indent=4)\n",
    "pp.pprint(results)"
   ]
  },
  {
   "cell_type": "code",
   "execution_count": null,
   "metadata": {
    "collapsed": true
   },
   "outputs": [],
   "source": []
  }
 ],
 "metadata": {
  "kernelspec": {
   "display_name": "Python 3",
   "language": "python",
   "name": "python3"
  },
  "language_info": {
   "codemirror_mode": {
    "name": "ipython",
    "version": 3
   },
   "file_extension": ".py",
   "mimetype": "text/x-python",
   "name": "python",
   "nbconvert_exporter": "python",
   "pygments_lexer": "ipython3",
   "version": "3.6.0"
  }
 },
 "nbformat": 4,
 "nbformat_minor": 0
}
