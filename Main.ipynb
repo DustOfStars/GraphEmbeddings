{
 "cells": [
  {
   "cell_type": "code",
   "execution_count": 1,
   "metadata": {
    "collapsed": false
   },
   "outputs": [],
   "source": [
    "import pandas as pd\n",
    "import matplotlib.pyplot as plt\n",
    "import seaborn as sns\n",
    "\n",
    "sns.set()\n",
    "\n",
    "from sklearn.preprocessing import MultiLabelBinarizer"
   ]
  },
  {
   "cell_type": "code",
   "execution_count": 2,
   "metadata": {
    "collapsed": false
   },
   "outputs": [],
   "source": [
    "X = pd.read_csv('src/deepwalk_emb/karate_32.csv', delim_whitespace=True, header=None, skiprows=1, index_col=0).sort_index()\n",
    "X.index.name = None\n",
    "y = pd.read_csv('data/graphs/karate.mylabels', header=None)[0]"
   ]
  },
  {
   "cell_type": "code",
   "execution_count": 3,
   "metadata": {
    "collapsed": true
   },
   "outputs": [],
   "source": [
    "X = pd.read_csv(\n",
    "    'src/deepwalk_emb/blog_dim128.csv',\n",
    "    delim_whitespace=True, header=None,\n",
    "    skiprows=1,\n",
    "    index_col=0\n",
    ").sort_index()\n",
    "X.index.name=None"
   ]
  },
  {
   "cell_type": "code",
   "execution_count": 4,
   "metadata": {
    "collapsed": false
   },
   "outputs": [],
   "source": [
    "y = pd.read_csv(\n",
    "    'data/graphs/BlogCatalog/data/group-edges.csv', \n",
    "    header=None, \n",
    "    delim_whitespace=True, \n",
    "    index_col=0\n",
    ").sort_index()\n",
    "y.index.name = None\n",
    "\n",
    "yy = []\n",
    "for i in range(1, 10313):\n",
    "    values = y.loc[i].values\n",
    "    if len(values) != 1:\n",
    "        values = [item[0] for item in values]\n",
    "    else:\n",
    "        values = list(values)\n",
    "    yy.append(values)\n",
    "    \n",
    "y_multilabel = MultiLabelBinarizer().fit_transform(yy)"
   ]
  },
  {
   "cell_type": "code",
   "execution_count": 5,
   "metadata": {
    "collapsed": false
   },
   "outputs": [
    {
     "data": {
      "text/html": [
       "<div>\n",
       "<style>\n",
       "    .dataframe thead tr:only-child th {\n",
       "        text-align: right;\n",
       "    }\n",
       "\n",
       "    .dataframe thead th {\n",
       "        text-align: left;\n",
       "    }\n",
       "\n",
       "    .dataframe tbody tr th {\n",
       "        vertical-align: top;\n",
       "    }\n",
       "</style>\n",
       "<table border=\"1\" class=\"dataframe\">\n",
       "  <thead>\n",
       "    <tr style=\"text-align: right;\">\n",
       "      <th></th>\n",
       "      <th>1</th>\n",
       "      <th>2</th>\n",
       "      <th>3</th>\n",
       "      <th>4</th>\n",
       "      <th>5</th>\n",
       "      <th>6</th>\n",
       "      <th>7</th>\n",
       "      <th>8</th>\n",
       "      <th>9</th>\n",
       "      <th>10</th>\n",
       "      <th>...</th>\n",
       "      <th>119</th>\n",
       "      <th>120</th>\n",
       "      <th>121</th>\n",
       "      <th>122</th>\n",
       "      <th>123</th>\n",
       "      <th>124</th>\n",
       "      <th>125</th>\n",
       "      <th>126</th>\n",
       "      <th>127</th>\n",
       "      <th>128</th>\n",
       "    </tr>\n",
       "  </thead>\n",
       "  <tbody>\n",
       "    <tr>\n",
       "      <th>6858</th>\n",
       "      <td>-0.295763</td>\n",
       "      <td>0.798570</td>\n",
       "      <td>0.326575</td>\n",
       "      <td>-0.148498</td>\n",
       "      <td>-0.364958</td>\n",
       "      <td>-0.20715</td>\n",
       "      <td>0.210560</td>\n",
       "      <td>0.501065</td>\n",
       "      <td>1.006918</td>\n",
       "      <td>-0.290854</td>\n",
       "      <td>...</td>\n",
       "      <td>-0.237573</td>\n",
       "      <td>-0.190263</td>\n",
       "      <td>0.226695</td>\n",
       "      <td>-0.175909</td>\n",
       "      <td>-0.332940</td>\n",
       "      <td>-0.509273</td>\n",
       "      <td>0.450450</td>\n",
       "      <td>-0.232533</td>\n",
       "      <td>0.001708</td>\n",
       "      <td>0.411823</td>\n",
       "    </tr>\n",
       "    <tr>\n",
       "      <th>6859</th>\n",
       "      <td>-0.022822</td>\n",
       "      <td>-0.084983</td>\n",
       "      <td>0.022788</td>\n",
       "      <td>0.085154</td>\n",
       "      <td>-0.012066</td>\n",
       "      <td>-0.10226</td>\n",
       "      <td>-0.140816</td>\n",
       "      <td>0.004663</td>\n",
       "      <td>-0.286486</td>\n",
       "      <td>-0.076519</td>\n",
       "      <td>...</td>\n",
       "      <td>-0.150373</td>\n",
       "      <td>0.019662</td>\n",
       "      <td>0.046096</td>\n",
       "      <td>-0.320828</td>\n",
       "      <td>0.176368</td>\n",
       "      <td>-0.003524</td>\n",
       "      <td>-0.286341</td>\n",
       "      <td>0.044632</td>\n",
       "      <td>-0.288565</td>\n",
       "      <td>0.082986</td>\n",
       "    </tr>\n",
       "  </tbody>\n",
       "</table>\n",
       "<p>2 rows × 128 columns</p>\n",
       "</div>"
      ],
      "text/plain": [
       "           1         2         3         4         5        6         7    \\\n",
       "6858 -0.295763  0.798570  0.326575 -0.148498 -0.364958 -0.20715  0.210560   \n",
       "6859 -0.022822 -0.084983  0.022788  0.085154 -0.012066 -0.10226 -0.140816   \n",
       "\n",
       "           8         9         10     ...          119       120       121  \\\n",
       "6858  0.501065  1.006918 -0.290854    ...    -0.237573 -0.190263  0.226695   \n",
       "6859  0.004663 -0.286486 -0.076519    ...    -0.150373  0.019662  0.046096   \n",
       "\n",
       "           122       123       124       125       126       127       128  \n",
       "6858 -0.175909 -0.332940 -0.509273  0.450450 -0.232533  0.001708  0.411823  \n",
       "6859 -0.320828  0.176368 -0.003524 -0.286341  0.044632 -0.288565  0.082986  \n",
       "\n",
       "[2 rows x 128 columns]"
      ]
     },
     "execution_count": 5,
     "metadata": {},
     "output_type": "execute_result"
    }
   ],
   "source": [
    "X.loc[6858:6859]"
   ]
  },
  {
   "cell_type": "code",
   "execution_count": 6,
   "metadata": {
    "collapsed": false
   },
   "outputs": [
    {
     "data": {
      "text/plain": [
       "array([0, 0, 0, 0, 0, 0, 0, 1, 0, 0, 0, 0, 0, 0, 0, 0, 0, 0, 0, 0, 0, 0, 0,\n",
       "       0, 0, 0, 0, 0, 0, 0, 0, 1, 0, 0, 0, 0, 0, 0, 0])"
      ]
     },
     "execution_count": 6,
     "metadata": {},
     "output_type": "execute_result"
    }
   ],
   "source": [
    "y_multilabel[6857]"
   ]
  },
  {
   "cell_type": "code",
   "execution_count": 7,
   "metadata": {
    "collapsed": true
   },
   "outputs": [],
   "source": [
    "from sklearn.linear_model import LogisticRegression\n",
    "from sklearn.multiclass import OneVsRestClassifier\n",
    "from src.classifiers import MultilabelOVRClassifier\n",
    "\n",
    "from sklearn.model_selection import cross_val_score, ShuffleSplit"
   ]
  },
  {
   "cell_type": "code",
   "execution_count": 8,
   "metadata": {
    "collapsed": false
   },
   "outputs": [],
   "source": [
    "clf1 = LogisticRegression(C=100)"
   ]
  },
  {
   "cell_type": "code",
   "execution_count": 9,
   "metadata": {
    "collapsed": true
   },
   "outputs": [],
   "source": [
    "clf2 = OneVsRestClassifier(LogisticRegression(C=1, verbose=0), n_jobs=-1)"
   ]
  },
  {
   "cell_type": "code",
   "execution_count": 10,
   "metadata": {
    "collapsed": false
   },
   "outputs": [],
   "source": [
    "MultilabelOVRClassifier.set_labels(X.index.values, y_multilabel)\n",
    "clf3 = MultilabelOVRClassifier(LogisticRegression(C=1, verbose=0), n_jobs=-1)"
   ]
  },
  {
   "cell_type": "code",
   "execution_count": 11,
   "metadata": {
    "collapsed": true
   },
   "outputs": [],
   "source": [
    "clf = clf3"
   ]
  },
  {
   "cell_type": "code",
   "execution_count": 12,
   "metadata": {
    "collapsed": false
   },
   "outputs": [
    {
     "data": {
      "text/plain": [
       "MultilabelOVRClassifier(estimator=LogisticRegression(C=1, class_weight=None, dual=False, fit_intercept=True,\n",
       "          intercept_scaling=1, max_iter=100, multi_class='ovr', n_jobs=1,\n",
       "          penalty='l2', random_state=None, solver='liblinear', tol=0.0001,\n",
       "          verbose=0, warm_start=False),\n",
       "            n_jobs=-1)"
      ]
     },
     "execution_count": 12,
     "metadata": {},
     "output_type": "execute_result"
    }
   ],
   "source": [
    "clf.fit(X, y_multilabel)"
   ]
  },
  {
   "cell_type": "code",
   "execution_count": 13,
   "metadata": {
    "collapsed": false
   },
   "outputs": [],
   "source": [
    "pred = clf.predict(X)"
   ]
  },
  {
   "cell_type": "code",
   "execution_count": 17,
   "metadata": {
    "collapsed": false
   },
   "outputs": [
    {
     "data": {
      "text/plain": [
       "array([ 0.,  0.,  0.,  0.,  0.,  0.,  0.,  1.,  0.,  0.,  0.,  0.,  0.,\n",
       "        0.,  0.,  0.,  1.,  0.,  0.,  0.,  0.,  0.,  0.,  0.,  0.,  0.,\n",
       "        0.,  0.,  0.,  0.,  0.,  0.,  0.,  0.,  0.,  0.,  0.,  0.,  0.])"
      ]
     },
     "execution_count": 17,
     "metadata": {},
     "output_type": "execute_result"
    }
   ],
   "source": [
    "pred[0]"
   ]
  },
  {
   "cell_type": "code",
   "execution_count": null,
   "metadata": {
    "collapsed": false
   },
   "outputs": [],
   "source": [
    "len(X)"
   ]
  },
  {
   "cell_type": "code",
   "execution_count": 18,
   "metadata": {
    "collapsed": false
   },
   "outputs": [
    {
     "data": {
      "text/plain": [
       "10312"
      ]
     },
     "execution_count": 18,
     "metadata": {},
     "output_type": "execute_result"
    }
   ],
   "source": [
    "len([_ for arr in clf.predict(X) if sum(arr)>1])"
   ]
  },
  {
   "cell_type": "code",
   "execution_count": null,
   "metadata": {
    "collapsed": false
   },
   "outputs": [],
   "source": [
    "[sorted(item) for item in clf.predict_proba(X.loc[1:7])]"
   ]
  },
  {
   "cell_type": "code",
   "execution_count": 19,
   "metadata": {
    "collapsed": false
   },
   "outputs": [],
   "source": [
    "ss = ShuffleSplit(n_splits=3, random_state=42, train_size=0.6)"
   ]
  },
  {
   "cell_type": "code",
   "execution_count": 20,
   "metadata": {
    "collapsed": false
   },
   "outputs": [
    {
     "name": "stdout",
     "output_type": "stream",
     "text": [
      "[ 0.33471718  0.32503809  0.33891213]\n",
      "0.33288913375\n"
     ]
    },
    {
     "name": "stderr",
     "output_type": "stream",
     "text": [
      "[Parallel(n_jobs=1)]: Done   3 out of   3 | elapsed:   34.9s finished\n"
     ]
    }
   ],
   "source": [
    "scores = cross_val_score(clf, X, y_multilabel, cv=ss.split(X), scoring='f1_micro', verbose=1)\n",
    "print(scores)\n",
    "print(scores.mean())"
   ]
  },
  {
   "cell_type": "code",
   "execution_count": 29,
   "metadata": {
    "collapsed": false
   },
   "outputs": [
    {
     "name": "stderr",
     "output_type": "stream",
     "text": [
      "/home/stas/anaconda3/lib/python3.6/site-packages/sklearn/externals/joblib/parallel.py:540: UserWarning: Multiprocessing-backed parallel loops cannot be nested, setting n_jobs=1\n",
      "  **self._backend_args)\n",
      "/home/stas/anaconda3/lib/python3.6/site-packages/sklearn/externals/joblib/parallel.py:540: UserWarning: Multiprocessing-backed parallel loops cannot be nested, setting n_jobs=1\n",
      "  **self._backend_args)\n",
      "/home/stas/anaconda3/lib/python3.6/site-packages/sklearn/externals/joblib/parallel.py:540: UserWarning: Multiprocessing-backed parallel loops cannot be nested, setting n_jobs=1\n",
      "  **self._backend_args)\n"
     ]
    },
    {
     "name": "stdout",
     "output_type": "stream",
     "text": [
      "[ 0.21120028  0.2047038   0.17524493]\n",
      "0.197049667036\n"
     ]
    },
    {
     "name": "stderr",
     "output_type": "stream",
     "text": [
      "[Parallel(n_jobs=-1)]: Done   3 out of   3 | elapsed:  1.0min finished\n"
     ]
    }
   ],
   "source": [
    "scores = cross_val_score(clf, X, y_multilabel, cv=3, scoring='f1_macro', verbose=1, n_jobs=-1)\n",
    "print(scores)\n",
    "print(scores.mean())"
   ]
  },
  {
   "cell_type": "code",
   "execution_count": null,
   "metadata": {
    "collapsed": true
   },
   "outputs": [],
   "source": [
    ""
   ]
  }
 ],
 "metadata": {
  "kernelspec": {
   "display_name": "Python 3",
   "language": "python",
   "name": "python3"
  },
  "language_info": {
   "codemirror_mode": {
    "name": "ipython",
    "version": 3.0
   },
   "file_extension": ".py",
   "mimetype": "text/x-python",
   "name": "python",
   "nbconvert_exporter": "python",
   "pygments_lexer": "ipython3",
   "version": "3.6.0"
  }
 },
 "nbformat": 4,
 "nbformat_minor": 0
}