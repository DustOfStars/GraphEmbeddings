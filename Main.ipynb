{
 "cells": [
  {
   "cell_type": "code",
   "execution_count": 2,
   "metadata": {
    "collapsed": true
   },
   "outputs": [],
   "source": [
    "import pandas as pd\n",
    "import matplotlib.pyplot as plt\n",
    "import seaborn as sns\n",
    "\n",
    "sns.set()\n",
    "\n",
    "from sklearn.preprocessing import MultiLabelBinarizer"
   ]
  },
  {
   "cell_type": "code",
   "execution_count": 6,
   "metadata": {
    "collapsed": true
   },
   "outputs": [],
   "source": [
    "X = pd.read_csv(\n",
    "    '../dumps/models/hist_loss_BlogCatalog_d32.csv',\n",
    "    delim_whitespace=True, header=None,\n",
    "    skiprows=1,\n",
    "    index_col=0\n",
    ").sort_index()\n",
    "X.index.name=None"
   ]
  },
  {
   "cell_type": "code",
   "execution_count": 7,
   "metadata": {
    "collapsed": true
   },
   "outputs": [],
   "source": [
    "y = pd.read_csv(\n",
    "    '../data/BlogCatalog-dataset/data/group-edges.csv', \n",
    "    header=None, \n",
    "    delim_whitespace=True, \n",
    "    index_col=0\n",
    ").sort_index()\n",
    "y.index.name = None\n",
    "\n",
    "yy = []\n",
    "for i in range(1, 10313):\n",
    "    values = y.loc[i].values\n",
    "    if len(values) != 1:\n",
    "        values = [item[0] for item in values]\n",
    "    else:\n",
    "        values = list(values)\n",
    "    yy.append(values)\n",
    "    \n",
    "y_multilabel = MultiLabelBinarizer().fit_transform(yy)"
   ]
  },
  {
   "cell_type": "code",
   "execution_count": 8,
   "metadata": {},
   "outputs": [
    {
     "data": {
      "text/html": [
       "<div>\n",
       "<style>\n",
       "    .dataframe thead tr:only-child th {\n",
       "        text-align: right;\n",
       "    }\n",
       "\n",
       "    .dataframe thead th {\n",
       "        text-align: left;\n",
       "    }\n",
       "\n",
       "    .dataframe tbody tr th {\n",
       "        vertical-align: top;\n",
       "    }\n",
       "</style>\n",
       "<table border=\"1\" class=\"dataframe\">\n",
       "  <thead>\n",
       "    <tr style=\"text-align: right;\">\n",
       "      <th></th>\n",
       "      <th>1</th>\n",
       "      <th>2</th>\n",
       "      <th>3</th>\n",
       "      <th>4</th>\n",
       "      <th>5</th>\n",
       "      <th>6</th>\n",
       "      <th>7</th>\n",
       "      <th>8</th>\n",
       "      <th>9</th>\n",
       "      <th>10</th>\n",
       "      <th>...</th>\n",
       "      <th>23</th>\n",
       "      <th>24</th>\n",
       "      <th>25</th>\n",
       "      <th>26</th>\n",
       "      <th>27</th>\n",
       "      <th>28</th>\n",
       "      <th>29</th>\n",
       "      <th>30</th>\n",
       "      <th>31</th>\n",
       "      <th>32</th>\n",
       "    </tr>\n",
       "  </thead>\n",
       "  <tbody>\n",
       "    <tr>\n",
       "      <th>6858</th>\n",
       "      <td>0.188166</td>\n",
       "      <td>-0.207733</td>\n",
       "      <td>0.170687</td>\n",
       "      <td>-0.099606</td>\n",
       "      <td>0.011716</td>\n",
       "      <td>-0.161725</td>\n",
       "      <td>0.098151</td>\n",
       "      <td>0.097780</td>\n",
       "      <td>0.166551</td>\n",
       "      <td>-0.238596</td>\n",
       "      <td>...</td>\n",
       "      <td>-0.043933</td>\n",
       "      <td>0.091947</td>\n",
       "      <td>-0.093724</td>\n",
       "      <td>-0.184477</td>\n",
       "      <td>-0.346462</td>\n",
       "      <td>-0.029494</td>\n",
       "      <td>-0.148346</td>\n",
       "      <td>-0.311900</td>\n",
       "      <td>-0.322098</td>\n",
       "      <td>0.266600</td>\n",
       "    </tr>\n",
       "    <tr>\n",
       "      <th>6859</th>\n",
       "      <td>0.168490</td>\n",
       "      <td>0.013511</td>\n",
       "      <td>0.101329</td>\n",
       "      <td>-0.023105</td>\n",
       "      <td>-0.142272</td>\n",
       "      <td>-0.084764</td>\n",
       "      <td>0.062862</td>\n",
       "      <td>-0.104794</td>\n",
       "      <td>0.055464</td>\n",
       "      <td>-0.025943</td>\n",
       "      <td>...</td>\n",
       "      <td>-0.252729</td>\n",
       "      <td>-0.010004</td>\n",
       "      <td>0.075674</td>\n",
       "      <td>0.251601</td>\n",
       "      <td>-0.007137</td>\n",
       "      <td>-0.290303</td>\n",
       "      <td>0.216175</td>\n",
       "      <td>-0.329925</td>\n",
       "      <td>0.115595</td>\n",
       "      <td>0.038414</td>\n",
       "    </tr>\n",
       "  </tbody>\n",
       "</table>\n",
       "<p>2 rows × 32 columns</p>\n",
       "</div>"
      ],
      "text/plain": [
       "            1         2         3         4         5         6         7   \\\n",
       "6858  0.188166 -0.207733  0.170687 -0.099606  0.011716 -0.161725  0.098151   \n",
       "6859  0.168490  0.013511  0.101329 -0.023105 -0.142272 -0.084764  0.062862   \n",
       "\n",
       "            8         9         10    ...           23        24        25  \\\n",
       "6858  0.097780  0.166551 -0.238596    ...    -0.043933  0.091947 -0.093724   \n",
       "6859 -0.104794  0.055464 -0.025943    ...    -0.252729 -0.010004  0.075674   \n",
       "\n",
       "            26        27        28        29        30        31        32  \n",
       "6858 -0.184477 -0.346462 -0.029494 -0.148346 -0.311900 -0.322098  0.266600  \n",
       "6859  0.251601 -0.007137 -0.290303  0.216175 -0.329925  0.115595  0.038414  \n",
       "\n",
       "[2 rows x 32 columns]"
      ]
     },
     "execution_count": 8,
     "metadata": {},
     "output_type": "execute_result"
    }
   ],
   "source": [
    "X.loc[6858:6859]"
   ]
  },
  {
   "cell_type": "code",
   "execution_count": 9,
   "metadata": {},
   "outputs": [
    {
     "data": {
      "text/plain": [
       "array([0, 0, 0, 0, 0, 0, 0, 1, 0, 0, 0, 0, 0, 0, 0, 0, 0, 0, 0, 0, 0, 0, 0,\n",
       "       0, 0, 0, 0, 0, 0, 0, 0, 1, 0, 0, 0, 0, 0, 0, 0])"
      ]
     },
     "execution_count": 9,
     "metadata": {},
     "output_type": "execute_result"
    }
   ],
   "source": [
    "y_multilabel[6857]"
   ]
  },
  {
   "cell_type": "code",
   "execution_count": 10,
   "metadata": {
    "collapsed": true
   },
   "outputs": [],
   "source": [
    "from sklearn.linear_model import LogisticRegression\n",
    "from sklearn.multiclass import OneVsRestClassifier\n",
    "from src.classifiers import MultilabelOVRClassifier\n",
    "\n",
    "from sklearn.model_selection import cross_val_score, ShuffleSplit"
   ]
  },
  {
   "cell_type": "code",
   "execution_count": 11,
   "metadata": {
    "collapsed": true
   },
   "outputs": [],
   "source": [
    "clf1 = LogisticRegression(C=100)"
   ]
  },
  {
   "cell_type": "code",
   "execution_count": 12,
   "metadata": {
    "collapsed": true
   },
   "outputs": [],
   "source": [
    "clf2 = OneVsRestClassifier(LogisticRegression(C=1, verbose=0), n_jobs=-1)"
   ]
  },
  {
   "cell_type": "code",
   "execution_count": 24,
   "metadata": {
    "collapsed": true
   },
   "outputs": [],
   "source": [
    "MultilabelOVRClassifier.set_labels(X.index.values, y_multilabel)\n",
    "clf3 = MultilabelOVRClassifier(LogisticRegression(C=1, verbose=0), n_jobs=-1)"
   ]
  },
  {
   "cell_type": "code",
   "execution_count": 25,
   "metadata": {
    "collapsed": true
   },
   "outputs": [],
   "source": [
    "clf = clf3"
   ]
  },
  {
   "cell_type": "code",
   "execution_count": 26,
   "metadata": {},
   "outputs": [
    {
     "data": {
      "text/plain": [
       "MultilabelOVRClassifier(estimator=LogisticRegression(C=1, class_weight=None, dual=False, fit_intercept=True,\n",
       "          intercept_scaling=1, max_iter=100, multi_class='ovr', n_jobs=1,\n",
       "          penalty='l2', random_state=None, solver='liblinear', tol=0.0001,\n",
       "          verbose=0, warm_start=False),\n",
       "            n_jobs=-1)"
      ]
     },
     "execution_count": 26,
     "metadata": {},
     "output_type": "execute_result"
    }
   ],
   "source": [
    "clf.fit(X, y_multilabel)"
   ]
  },
  {
   "cell_type": "code",
   "execution_count": 27,
   "metadata": {
    "collapsed": true
   },
   "outputs": [],
   "source": [
    "pred = clf.predict(X)"
   ]
  },
  {
   "cell_type": "code",
   "execution_count": 29,
   "metadata": {},
   "outputs": [
    {
     "data": {
      "text/plain": [
       "array([ 0.,  0.,  0.,  0.,  0.,  0.,  0.,  1.,  0.,  0.,  0.,  0.,  0.,\n",
       "        0.,  0.,  0.,  0.,  0.,  1.,  0.,  0.,  0.,  0.,  0.,  0.,  0.,\n",
       "        0.,  0.,  0.,  0.,  0.,  0.,  0.,  0.,  0.,  0.,  0.,  0.,  0.])"
      ]
     },
     "execution_count": 29,
     "metadata": {},
     "output_type": "execute_result"
    }
   ],
   "source": [
    "pred[6857]"
   ]
  },
  {
   "cell_type": "code",
   "execution_count": 18,
   "metadata": {},
   "outputs": [
    {
     "data": {
      "text/plain": [
       "10312"
      ]
     },
     "execution_count": 18,
     "metadata": {},
     "output_type": "execute_result"
    }
   ],
   "source": [
    "len(X)"
   ]
  },
  {
   "cell_type": "code",
   "execution_count": 19,
   "metadata": {},
   "outputs": [
    {
     "data": {
      "text/plain": [
       "2852"
      ]
     },
     "execution_count": 19,
     "metadata": {},
     "output_type": "execute_result"
    }
   ],
   "source": [
    "len([_ for arr in clf.predict(X) if sum(arr)>1])"
   ]
  },
  {
   "cell_type": "code",
   "execution_count": 20,
   "metadata": {},
   "outputs": [
    {
     "data": {
      "text/plain": [
       "[[0.0014275316680857316,\n",
       "  0.0021860897051472201,\n",
       "  0.0029466671319806643,\n",
       "  0.0037757326547242826,\n",
       "  0.0038197639646977062,\n",
       "  0.0047074820136994971,\n",
       "  0.0064695625002986253,\n",
       "  0.0074342486317370829,\n",
       "  0.0077757689864121427,\n",
       "  0.0098278659867797758,\n",
       "  0.0098983573930231401,\n",
       "  0.009994911556648816,\n",
       "  0.011931449064951001,\n",
       "  0.016283163629798605,\n",
       "  0.017583013187899586,\n",
       "  0.019987990511138157,\n",
       "  0.020093672049164023,\n",
       "  0.021402091619988278,\n",
       "  0.022210126995147586,\n",
       "  0.027917440517494278,\n",
       "  0.02987800830057314,\n",
       "  0.030405981752700543,\n",
       "  0.030911152833971715,\n",
       "  0.031891209423718717,\n",
       "  0.03328743168103946,\n",
       "  0.038935815523450927,\n",
       "  0.03966250633913871,\n",
       "  0.039919027497291037,\n",
       "  0.040990048651247023,\n",
       "  0.041027231420009184,\n",
       "  0.049159140583754174,\n",
       "  0.056115779841205894,\n",
       "  0.06475337247182017,\n",
       "  0.065475040237518961,\n",
       "  0.069894800486746178,\n",
       "  0.084332308054529459,\n",
       "  0.090937076799921954,\n",
       "  0.10220688494250377,\n",
       "  0.17054659692750931],\n",
       " [0.0011488187331802169,\n",
       "  0.0015324222521144648,\n",
       "  0.0038646435113364871,\n",
       "  0.0051105434543941841,\n",
       "  0.005184174331677502,\n",
       "  0.0054433207444771854,\n",
       "  0.0082483556035752824,\n",
       "  0.0098171792972084771,\n",
       "  0.011106283243593973,\n",
       "  0.011238791877540635,\n",
       "  0.012377390277975056,\n",
       "  0.012748916745363267,\n",
       "  0.013241827321258871,\n",
       "  0.015665505205046233,\n",
       "  0.019613265987515692,\n",
       "  0.020601111404089063,\n",
       "  0.023159139763259319,\n",
       "  0.023879429271224582,\n",
       "  0.026613441853322952,\n",
       "  0.028044041324229028,\n",
       "  0.028052265632677001,\n",
       "  0.028086606168098591,\n",
       "  0.032899728890704791,\n",
       "  0.034121400262798453,\n",
       "  0.035591801281070305,\n",
       "  0.036747688093594945,\n",
       "  0.03864191240080541,\n",
       "  0.048285717296077814,\n",
       "  0.051777967044562723,\n",
       "  0.052621860682167045,\n",
       "  0.054223979814397617,\n",
       "  0.057533137876318433,\n",
       "  0.059981132771975768,\n",
       "  0.062064449881894017,\n",
       "  0.064490201000900194,\n",
       "  0.082727796058093842,\n",
       "  0.096789991934342526,\n",
       "  0.10125062815721932,\n",
       "  0.20028987077083663],\n",
       " [0.0013018471932299822,\n",
       "  0.0016678730727787614,\n",
       "  0.0023944454261896528,\n",
       "  0.0031114028817022087,\n",
       "  0.004301532841124266,\n",
       "  0.0055964486357094915,\n",
       "  0.0071035872068341555,\n",
       "  0.0075001387422255457,\n",
       "  0.0080213832472621552,\n",
       "  0.0098699544850775513,\n",
       "  0.0099760116875921671,\n",
       "  0.012030888702878384,\n",
       "  0.013512785091867121,\n",
       "  0.016966699709122974,\n",
       "  0.017160903875786403,\n",
       "  0.021086074099223442,\n",
       "  0.024154428566080223,\n",
       "  0.026604606988190241,\n",
       "  0.028331762069586559,\n",
       "  0.03022786371634657,\n",
       "  0.031512948250878997,\n",
       "  0.03519662103035949,\n",
       "  0.036501704471033604,\n",
       "  0.036546321409514616,\n",
       "  0.037702193865560667,\n",
       "  0.039096243395995239,\n",
       "  0.040829629159663899,\n",
       "  0.048141742075727453,\n",
       "  0.048567332725293622,\n",
       "  0.049152637876326843,\n",
       "  0.054406890398406425,\n",
       "  0.056631710915359408,\n",
       "  0.058178703167655159,\n",
       "  0.068954103447775347,\n",
       "  0.081989472342553549,\n",
       "  0.091756192307741249,\n",
       "  0.097630087410064445,\n",
       "  0.10009704785559936,\n",
       "  0.16270137836015536],\n",
       " [0.0010025043657757051,\n",
       "  0.0034580312280236185,\n",
       "  0.0039147891880358414,\n",
       "  0.0068729306034589288,\n",
       "  0.0080330632283438352,\n",
       "  0.0083212885820954253,\n",
       "  0.01003694511235171,\n",
       "  0.010833326297896451,\n",
       "  0.011977698434287667,\n",
       "  0.012226297595965972,\n",
       "  0.015813284736740523,\n",
       "  0.016518232017578727,\n",
       "  0.018317948580799062,\n",
       "  0.020085043006538961,\n",
       "  0.02073479843155358,\n",
       "  0.021052010986204892,\n",
       "  0.023282691182729433,\n",
       "  0.023853893380573407,\n",
       "  0.024676325889778448,\n",
       "  0.025440741185343917,\n",
       "  0.026899066924364962,\n",
       "  0.02738855989646282,\n",
       "  0.027394579674363668,\n",
       "  0.028951990976093318,\n",
       "  0.031091514395087977,\n",
       "  0.032918426265501802,\n",
       "  0.035022582873505459,\n",
       "  0.052949038338504804,\n",
       "  0.057244378535512987,\n",
       "  0.057787372431770581,\n",
       "  0.061428440437172958,\n",
       "  0.061550719897230897,\n",
       "  0.063044024041333899,\n",
       "  0.064148752254277713,\n",
       "  0.067364283904049624,\n",
       "  0.075330664019932908,\n",
       "  0.092662239393681081,\n",
       "  0.11584540930606689,\n",
       "  0.14969547921683832],\n",
       " [0.0014350322030331597,\n",
       "  0.0032287195857000173,\n",
       "  0.0040673666142080588,\n",
       "  0.0041756822599306621,\n",
       "  0.0049554309733421545,\n",
       "  0.0058455370319964346,\n",
       "  0.0059784473411729341,\n",
       "  0.0063536863055575097,\n",
       "  0.0066100030050726339,\n",
       "  0.0069904109607162651,\n",
       "  0.0080522980522425291,\n",
       "  0.008867773881506117,\n",
       "  0.010853357499236913,\n",
       "  0.011194488193579441,\n",
       "  0.023901882284133178,\n",
       "  0.024415140949350402,\n",
       "  0.024598874145848635,\n",
       "  0.026537981806655023,\n",
       "  0.028292194162358876,\n",
       "  0.028363078816789615,\n",
       "  0.029352603142160393,\n",
       "  0.031078779796258796,\n",
       "  0.032124443332368642,\n",
       "  0.033540983516814095,\n",
       "  0.034744622172015599,\n",
       "  0.034792253392256126,\n",
       "  0.0366935393717919,\n",
       "  0.044094411675191299,\n",
       "  0.051145759554210399,\n",
       "  0.057504382522835518,\n",
       "  0.059892617428215771,\n",
       "  0.063759626795031332,\n",
       "  0.066563807988958126,\n",
       "  0.069852257651498259,\n",
       "  0.074845441298423451,\n",
       "  0.085935933678558646,\n",
       "  0.10040414487076625,\n",
       "  0.12699753985139475,\n",
       "  0.16513640942084926],\n",
       " [0.0010405930888063577,\n",
       "  0.0020667161582860459,\n",
       "  0.0034442784495108346,\n",
       "  0.003986019045685075,\n",
       "  0.0040623847820561989,\n",
       "  0.0046706607977930253,\n",
       "  0.0052511662967314994,\n",
       "  0.0072315727742594954,\n",
       "  0.0082070459987394952,\n",
       "  0.0082681200548930765,\n",
       "  0.0092552328169992221,\n",
       "  0.0099039193474204455,\n",
       "  0.0099411484308250687,\n",
       "  0.011009373704863221,\n",
       "  0.018873712376844671,\n",
       "  0.019669799104440076,\n",
       "  0.021270129280819911,\n",
       "  0.023805103813482154,\n",
       "  0.024947044388642037,\n",
       "  0.028550473735563457,\n",
       "  0.035824384670657211,\n",
       "  0.036587976447955944,\n",
       "  0.037118303671780706,\n",
       "  0.037318716726829793,\n",
       "  0.037448768437773339,\n",
       "  0.04114588303732003,\n",
       "  0.041521571298571633,\n",
       "  0.045830515488342133,\n",
       "  0.054851343355535855,\n",
       "  0.0565896143878349,\n",
       "  0.058113373244783495,\n",
       "  0.060057079927996207,\n",
       "  0.060504097302515741,\n",
       "  0.065896256802715464,\n",
       "  0.084024526196694316,\n",
       "  0.09002751116229156,\n",
       "  0.10139411289959993,\n",
       "  0.11819508246794572,\n",
       "  0.18130169315581171],\n",
       " [0.00088682720319005915,\n",
       "  0.0016765798281046711,\n",
       "  0.0040722517254924888,\n",
       "  0.0061215793492231541,\n",
       "  0.0066183022287302157,\n",
       "  0.0081992269757318516,\n",
       "  0.010569945300484926,\n",
       "  0.010911953932190703,\n",
       "  0.011795733418681833,\n",
       "  0.011922615875507369,\n",
       "  0.013046436955506968,\n",
       "  0.013738268415409993,\n",
       "  0.014193508250432125,\n",
       "  0.014437991697765835,\n",
       "  0.018257734761070357,\n",
       "  0.018315424841204006,\n",
       "  0.019109043079965485,\n",
       "  0.022532722874006685,\n",
       "  0.023424873141190999,\n",
       "  0.02472660245954085,\n",
       "  0.025239214173892112,\n",
       "  0.025321602772007099,\n",
       "  0.031928855067511371,\n",
       "  0.03420240471568961,\n",
       "  0.042992629489654641,\n",
       "  0.04613845288388535,\n",
       "  0.046303136811878941,\n",
       "  0.047929812425375549,\n",
       "  0.048219867612636191,\n",
       "  0.050440662633207574,\n",
       "  0.055137293123409106,\n",
       "  0.056460163038259667,\n",
       "  0.059131324512736776,\n",
       "  0.05968448087175169,\n",
       "  0.071998464255243949,\n",
       "  0.086080289949244312,\n",
       "  0.10384704768335422,\n",
       "  0.10662832592434682,\n",
       "  0.17019433557258565]]"
      ]
     },
     "execution_count": 20,
     "metadata": {},
     "output_type": "execute_result"
    }
   ],
   "source": [
    "[sorted(item) for item in clf.predict_proba(X.loc[1:7])]"
   ]
  },
  {
   "cell_type": "code",
   "execution_count": 21,
   "metadata": {
    "collapsed": true
   },
   "outputs": [],
   "source": [
    "ss = ShuffleSplit(n_splits=3, random_state=42, train_size=0.6)"
   ]
  },
  {
   "cell_type": "code",
   "execution_count": 22,
   "metadata": {},
   "outputs": [
    {
     "name": "stdout",
     "output_type": "stream",
     "text": [
      "[ 0.15946137  0.16448727  0.16618911]\n",
      "0.16337925146\n"
     ]
    },
    {
     "name": "stderr",
     "output_type": "stream",
     "text": [
      "[Parallel(n_jobs=1)]: Done   3 out of   3 | elapsed:    1.8s finished\n"
     ]
    }
   ],
   "source": [
    "scores = cross_val_score(clf, X, y_multilabel, cv=ss.split(X), scoring='f1_micro', verbose=1)\n",
    "print(scores)\n",
    "print(scores.mean())"
   ]
  },
  {
   "cell_type": "code",
   "execution_count": 23,
   "metadata": {},
   "outputs": [
    {
     "name": "stderr",
     "output_type": "stream",
     "text": [
      "/home/student_panov/MrTsepa/anaconda3/lib/python3.6/site-packages/sklearn/externals/joblib/parallel.py:540: UserWarning: Multiprocessing-backed parallel loops cannot be nested, setting n_jobs=1\n",
      "  **self._backend_args)\n",
      "/home/student_panov/MrTsepa/anaconda3/lib/python3.6/site-packages/sklearn/externals/joblib/parallel.py:540: UserWarning: Multiprocessing-backed parallel loops cannot be nested, setting n_jobs=1\n",
      "  **self._backend_args)\n",
      "/home/student_panov/MrTsepa/anaconda3/lib/python3.6/site-packages/sklearn/externals/joblib/parallel.py:540: UserWarning: Multiprocessing-backed parallel loops cannot be nested, setting n_jobs=1\n",
      "  **self._backend_args)\n",
      "/home/student_panov/MrTsepa/anaconda3/lib/python3.6/site-packages/sklearn/metrics/classification.py:1113: UndefinedMetricWarning: F-score is ill-defined and being set to 0.0 in labels with no predicted samples.\n",
      "  'precision', 'predicted', average, warn_for)\n",
      "/home/student_panov/MrTsepa/anaconda3/lib/python3.6/site-packages/sklearn/metrics/classification.py:1113: UndefinedMetricWarning: F-score is ill-defined and being set to 0.0 in labels with no predicted samples.\n",
      "  'precision', 'predicted', average, warn_for)\n",
      "/home/student_panov/MrTsepa/anaconda3/lib/python3.6/site-packages/sklearn/metrics/classification.py:1113: UndefinedMetricWarning: F-score is ill-defined and being set to 0.0 in labels with no predicted samples.\n",
      "  'precision', 'predicted', average, warn_for)\n"
     ]
    },
    {
     "name": "stdout",
     "output_type": "stream",
     "text": [
      "[ 0.02955273  0.03300924  0.02584523]\n",
      "0.0294690664587\n"
     ]
    },
    {
     "name": "stderr",
     "output_type": "stream",
     "text": [
      "[Parallel(n_jobs=-1)]: Done   3 out of   3 | elapsed:    2.1s finished\n"
     ]
    }
   ],
   "source": [
    "scores = cross_val_score(clf, X, y_multilabel, cv=3, scoring='f1_macro', verbose=1, n_jobs=-1)\n",
    "print(scores)\n",
    "print(scores.mean())"
   ]
  },
  {
   "cell_type": "code",
   "execution_count": 23,
   "metadata": {},
   "outputs": [
    {
     "name": "stdout",
     "output_type": "stream",
     "text": [
      "deepwalk_BlogCatalog_d32\n"
     ]
    },
    {
     "name": "stderr",
     "output_type": "stream",
     "text": [
      "/home/student_panov/MrTsepa/anaconda3/lib/python3.6/site-packages/sklearn/multiclass.py:76: UserWarning: Label not 38 is present in all training examples.\n",
      "  str(classes[c]))\n",
      "/home/student_panov/MrTsepa/anaconda3/lib/python3.6/site-packages/sklearn/multiclass.py:76: UserWarning: Label not 38 is present in all training examples.\n",
      "  str(classes[c]))\n",
      "/home/student_panov/MrTsepa/anaconda3/lib/python3.6/site-packages/sklearn/multiclass.py:76: UserWarning: Label not 38 is present in all training examples.\n",
      "  str(classes[c]))\n",
      "/home/student_panov/MrTsepa/anaconda3/lib/python3.6/site-packages/sklearn/multiclass.py:76: UserWarning: Label not 38 is present in all training examples.\n",
      "  str(classes[c]))\n",
      "/home/student_panov/MrTsepa/anaconda3/lib/python3.6/site-packages/sklearn/multiclass.py:76: UserWarning: Label not 38 is present in all training examples.\n",
      "  str(classes[c]))\n",
      "/home/student_panov/MrTsepa/anaconda3/lib/python3.6/site-packages/sklearn/multiclass.py:76: UserWarning: Label not 37 is present in all training examples.\n",
      "  str(classes[c]))\n",
      "/home/student_panov/MrTsepa/anaconda3/lib/python3.6/site-packages/sklearn/multiclass.py:76: UserWarning: Label not 38 is present in all training examples.\n",
      "  str(classes[c]))\n",
      "[Parallel(n_jobs=1)]: Done  10 out of  10 | elapsed:    3.4s finished\n"
     ]
    },
    {
     "name": "stdout",
     "output_type": "stream",
     "text": [
      "[ 0.31750532  0.3083276   0.33667622  0.33032616  0.28840782  0.32535211\n",
      "  0.33039946  0.29781421  0.31302521  0.32052162]\n",
      "0.316835572337\n",
      "deepwalk_BlogCatalog_d64\n"
     ]
    },
    {
     "name": "stderr",
     "output_type": "stream",
     "text": [
      "/home/student_panov/MrTsepa/anaconda3/lib/python3.6/site-packages/sklearn/multiclass.py:76: UserWarning: Label not 38 is present in all training examples.\n",
      "  str(classes[c]))\n",
      "/home/student_panov/MrTsepa/anaconda3/lib/python3.6/site-packages/sklearn/multiclass.py:76: UserWarning: Label not 38 is present in all training examples.\n",
      "  str(classes[c]))\n",
      "/home/student_panov/MrTsepa/anaconda3/lib/python3.6/site-packages/sklearn/multiclass.py:76: UserWarning: Label not 38 is present in all training examples.\n",
      "  str(classes[c]))\n",
      "/home/student_panov/MrTsepa/anaconda3/lib/python3.6/site-packages/sklearn/multiclass.py:76: UserWarning: Label not 38 is present in all training examples.\n",
      "  str(classes[c]))\n",
      "/home/student_panov/MrTsepa/anaconda3/lib/python3.6/site-packages/sklearn/multiclass.py:76: UserWarning: Label not 38 is present in all training examples.\n",
      "  str(classes[c]))\n",
      "/home/student_panov/MrTsepa/anaconda3/lib/python3.6/site-packages/sklearn/multiclass.py:76: UserWarning: Label not 37 is present in all training examples.\n",
      "  str(classes[c]))\n",
      "/home/student_panov/MrTsepa/anaconda3/lib/python3.6/site-packages/sklearn/multiclass.py:76: UserWarning: Label not 38 is present in all training examples.\n",
      "  str(classes[c]))\n",
      "[Parallel(n_jobs=1)]: Done  10 out of  10 | elapsed:    4.5s finished\n"
     ]
    },
    {
     "name": "stdout",
     "output_type": "stream",
     "text": [
      "[ 0.31041814  0.32346869  0.32234957  0.31644691  0.29120112  0.31830986\n",
      "  0.33310765  0.30532787  0.30742297  0.32120796]\n",
      "0.314926073743\n",
      "deepwalk_BlogCatalog_d128\n"
     ]
    },
    {
     "name": "stderr",
     "output_type": "stream",
     "text": [
      "/home/student_panov/MrTsepa/anaconda3/lib/python3.6/site-packages/sklearn/multiclass.py:76: UserWarning: Label not 38 is present in all training examples.\n",
      "  str(classes[c]))\n",
      "/home/student_panov/MrTsepa/anaconda3/lib/python3.6/site-packages/sklearn/multiclass.py:76: UserWarning: Label not 38 is present in all training examples.\n",
      "  str(classes[c]))\n",
      "/home/student_panov/MrTsepa/anaconda3/lib/python3.6/site-packages/sklearn/multiclass.py:76: UserWarning: Label not 38 is present in all training examples.\n",
      "  str(classes[c]))\n",
      "/home/student_panov/MrTsepa/anaconda3/lib/python3.6/site-packages/sklearn/multiclass.py:76: UserWarning: Label not 38 is present in all training examples.\n",
      "  str(classes[c]))\n",
      "/home/student_panov/MrTsepa/anaconda3/lib/python3.6/site-packages/sklearn/multiclass.py:76: UserWarning: Label not 38 is present in all training examples.\n",
      "  str(classes[c]))\n",
      "/home/student_panov/MrTsepa/anaconda3/lib/python3.6/site-packages/sklearn/multiclass.py:76: UserWarning: Label not 37 is present in all training examples.\n",
      "  str(classes[c]))\n",
      "/home/student_panov/MrTsepa/anaconda3/lib/python3.6/site-packages/sklearn/multiclass.py:76: UserWarning: Label not 38 is present in all training examples.\n",
      "  str(classes[c]))\n"
     ]
    },
    {
     "name": "stdout",
     "output_type": "stream",
     "text": [
      "[ 0.32034018  0.32759807  0.33094556  0.31783484  0.30097765  0.32042254\n",
      "  0.33310765  0.31967213  0.30322129  0.32532601]\n",
      "0.319944592438\n",
      "n2v_BlogCatalog_p1_q1_d32\n"
     ]
    },
    {
     "name": "stderr",
     "output_type": "stream",
     "text": [
      "[Parallel(n_jobs=1)]: Done  10 out of  10 | elapsed:    5.3s finished\n",
      "/home/student_panov/MrTsepa/anaconda3/lib/python3.6/site-packages/sklearn/multiclass.py:76: UserWarning: Label not 38 is present in all training examples.\n",
      "  str(classes[c]))\n",
      "/home/student_panov/MrTsepa/anaconda3/lib/python3.6/site-packages/sklearn/multiclass.py:76: UserWarning: Label not 38 is present in all training examples.\n",
      "  str(classes[c]))\n",
      "/home/student_panov/MrTsepa/anaconda3/lib/python3.6/site-packages/sklearn/multiclass.py:76: UserWarning: Label not 38 is present in all training examples.\n",
      "  str(classes[c]))\n",
      "/home/student_panov/MrTsepa/anaconda3/lib/python3.6/site-packages/sklearn/multiclass.py:76: UserWarning: Label not 38 is present in all training examples.\n",
      "  str(classes[c]))\n",
      "/home/student_panov/MrTsepa/anaconda3/lib/python3.6/site-packages/sklearn/multiclass.py:76: UserWarning: Label not 38 is present in all training examples.\n",
      "  str(classes[c]))\n",
      "/home/student_panov/MrTsepa/anaconda3/lib/python3.6/site-packages/sklearn/multiclass.py:76: UserWarning: Label not 37 is present in all training examples.\n",
      "  str(classes[c]))\n",
      "/home/student_panov/MrTsepa/anaconda3/lib/python3.6/site-packages/sklearn/multiclass.py:76: UserWarning: Label not 38 is present in all training examples.\n",
      "  str(classes[c]))\n"
     ]
    },
    {
     "name": "stdout",
     "output_type": "stream",
     "text": [
      "[ 0.33522325  0.35443909  0.35959885  0.3407356   0.31843575  0.34507042\n",
      "  0.3337847   0.32991803  0.34593838  0.32463967]\n",
      "0.338778374574\n",
      "n2v_BlogCatalog_p1_q1_d64\n"
     ]
    },
    {
     "name": "stderr",
     "output_type": "stream",
     "text": [
      "[Parallel(n_jobs=1)]: Done  10 out of  10 | elapsed:    3.4s finished\n",
      "/home/student_panov/MrTsepa/anaconda3/lib/python3.6/site-packages/sklearn/multiclass.py:76: UserWarning: Label not 38 is present in all training examples.\n",
      "  str(classes[c]))\n",
      "/home/student_panov/MrTsepa/anaconda3/lib/python3.6/site-packages/sklearn/multiclass.py:76: UserWarning: Label not 38 is present in all training examples.\n",
      "  str(classes[c]))\n",
      "/home/student_panov/MrTsepa/anaconda3/lib/python3.6/site-packages/sklearn/multiclass.py:76: UserWarning: Label not 38 is present in all training examples.\n",
      "  str(classes[c]))\n",
      "/home/student_panov/MrTsepa/anaconda3/lib/python3.6/site-packages/sklearn/multiclass.py:76: UserWarning: Label not 38 is present in all training examples.\n",
      "  str(classes[c]))\n",
      "/home/student_panov/MrTsepa/anaconda3/lib/python3.6/site-packages/sklearn/multiclass.py:76: UserWarning: Label not 38 is present in all training examples.\n",
      "  str(classes[c]))\n",
      "/home/student_panov/MrTsepa/anaconda3/lib/python3.6/site-packages/sklearn/multiclass.py:76: UserWarning: Label not 37 is present in all training examples.\n",
      "  str(classes[c]))\n",
      "/home/student_panov/MrTsepa/anaconda3/lib/python3.6/site-packages/sklearn/multiclass.py:76: UserWarning: Label not 38 is present in all training examples.\n",
      "  str(classes[c]))\n",
      "[Parallel(n_jobs=1)]: Done  10 out of  10 | elapsed:    3.4s finished\n"
     ]
    },
    {
     "name": "stdout",
     "output_type": "stream",
     "text": [
      "[ 0.35861091  0.35650379  0.36676218  0.34212353  0.32541899  0.3443662\n",
      "  0.34123223  0.32035519  0.34103641  0.35552505]\n",
      "0.345193447888\n",
      "n2v_BlogCatalog_p1_q1_d128\n"
     ]
    },
    {
     "name": "stderr",
     "output_type": "stream",
     "text": [
      "/home/student_panov/MrTsepa/anaconda3/lib/python3.6/site-packages/sklearn/multiclass.py:76: UserWarning: Label not 38 is present in all training examples.\n",
      "  str(classes[c]))\n",
      "/home/student_panov/MrTsepa/anaconda3/lib/python3.6/site-packages/sklearn/multiclass.py:76: UserWarning: Label not 38 is present in all training examples.\n",
      "  str(classes[c]))\n",
      "/home/student_panov/MrTsepa/anaconda3/lib/python3.6/site-packages/sklearn/multiclass.py:76: UserWarning: Label not 38 is present in all training examples.\n",
      "  str(classes[c]))\n",
      "/home/student_panov/MrTsepa/anaconda3/lib/python3.6/site-packages/sklearn/multiclass.py:76: UserWarning: Label not 38 is present in all training examples.\n",
      "  str(classes[c]))\n",
      "/home/student_panov/MrTsepa/anaconda3/lib/python3.6/site-packages/sklearn/multiclass.py:76: UserWarning: Label not 38 is present in all training examples.\n",
      "  str(classes[c]))\n",
      "/home/student_panov/MrTsepa/anaconda3/lib/python3.6/site-packages/sklearn/multiclass.py:76: UserWarning: Label not 37 is present in all training examples.\n",
      "  str(classes[c]))\n",
      "/home/student_panov/MrTsepa/anaconda3/lib/python3.6/site-packages/sklearn/multiclass.py:76: UserWarning: Label not 38 is present in all training examples.\n",
      "  str(classes[c]))\n"
     ]
    },
    {
     "name": "stdout",
     "output_type": "stream",
     "text": [
      "[ 0.33876683  0.34618032  0.36389685  0.34559334  0.32122905  0.3443662\n",
      "  0.34800271  0.33333333  0.34453782  0.34934798]\n",
      "0.343525441412\n",
      "{'deepwalk_BlogCatalog_d32': {'f1_micro': 0.31683557233719906}, 'deepwalk_BlogCatalog_d64': {'f1_micro': 0.31492607374280857}, 'deepwalk_BlogCatalog_d128': {'f1_micro': 0.31994459243798984}, 'n2v_BlogCatalog_p1_q1_d32': {'f1_micro': 0.33877837457371374}, 'n2v_BlogCatalog_p1_q1_d64': {'f1_micro': 0.34519344788800799}, 'n2v_BlogCatalog_p1_q1_d128': {'f1_micro': 0.34352544141234664}}\n"
     ]
    },
    {
     "name": "stderr",
     "output_type": "stream",
     "text": [
      "[Parallel(n_jobs=1)]: Done  10 out of  10 | elapsed:    4.7s finished\n"
     ]
    }
   ],
   "source": [
    "y = pd.read_csv(\n",
    "    '../data/BlogCatalog-dataset/data/group-edges.csv', \n",
    "    header=None, \n",
    "    delim_whitespace=True, \n",
    "    index_col=0\n",
    ").sort_index()\n",
    "y.index.name = None\n",
    "\n",
    "yy = []\n",
    "for i in range(1, 10313):\n",
    "    values = y.loc[i].values\n",
    "    if len(values) != 1:\n",
    "        values = [item[0] for item in values]\n",
    "    else:\n",
    "        values = list(values)\n",
    "    yy.append(values)\n",
    "    \n",
    "y_multilabel = MultiLabelBinarizer().fit_transform(yy)\n",
    "\n",
    "names = [\n",
    "    'deepwalk_BlogCatalog_d32',\n",
    "    'deepwalk_BlogCatalog_d64',\n",
    "    'deepwalk_BlogCatalog_d128',\n",
    "    'n2v_BlogCatalog_p1_q1_d32',\n",
    "    'n2v_BlogCatalog_p1_q1_d64',\n",
    "    'n2v_BlogCatalog_p1_q1_d128',\n",
    "]\n",
    "results = {}\n",
    "for name in names:\n",
    "    results[name] = {}\n",
    "    X = pd.read_csv(\n",
    "        '../dumps/models/{}.csv'.format(name),\n",
    "        delim_whitespace=Tru'n2v_BlogCatalog_p1_q1_d64',e, header=None,\n",
    "        skiprows=1,\n",
    "        index_col=0\n",
    "    ).sort_index()\n",
    "    X.index.name=None\n",
    "    print(name)\n",
    "    ss = ShuffleSplit(n_splits=10, random_state=42, train_size=0.1)\n",
    "    scores = cross_val_score(clf, X, y_multilabel, cv=ss.split(X), scoring='f1_micro', verbose=1)\n",
    "    print(scores)\n",
    "    print(scores.mean())\n",
    "    results[name]['f1_micro'] = scores.mean()\n",
    "\n",
    "print(results)"
   ]
  },
  {
   "cell_type": "code",
   "execution_count": 25,
   "metadata": {},
   "outputs": [
    {
     "name": "stdout",
     "output_type": "stream",
     "text": [
      "deepwalk_BlogCatalog_d32\n"
     ]
    },
    {
     "name": "stderr",
     "output_type": "stream",
     "text": [
      "[Parallel(n_jobs=1)]: Done  10 out of  10 | elapsed:    6.9s finished\n"
     ]
    },
    {
     "name": "stdout",
     "output_type": "stream",
     "text": [
      "[ 0.35223246  0.33241569  0.35959885  0.34489938  0.32472067  0.34507042\n",
      "  0.34326337  0.32513661  0.33753501  0.34797529]\n",
      "0.341284776257\n",
      "deepwalk_BlogCatalog_d64\n"
     ]
    },
    {
     "name": "stderr",
     "output_type": "stream",
     "text": [
      "[Parallel(n_jobs=1)]: Done  10 out of  10 | elapsed:   12.2s finished\n"
     ]
    },
    {
     "name": "stdout",
     "output_type": "stream",
     "text": [
      "[ 0.35861091  0.35856848  0.3717765   0.35600278  0.3372905   0.3528169\n",
      "  0.3676371   0.33811475  0.3557423   0.35895676]\n",
      "0.355551699132\n",
      "deepwalk_BlogCatalog_d128\n",
      "[ 0.37207654  0.37302134  0.38467049  0.36502429  0.34986034  0.36338028\n",
      "  0.38659445  0.3442623   0.36344538  0.36376115]\n",
      "0.36660965438\n",
      "n2v_BlogCatalog_p1_q1_d32\n"
     ]
    },
    {
     "name": "stderr",
     "output_type": "stream",
     "text": [
      "[Parallel(n_jobs=1)]: Done  10 out of  10 | elapsed:   24.7s finished\n"
     ]
    },
    {
     "name": "stdout",
     "output_type": "stream",
     "text": [
      "[ 0.36853296  0.36820372  0.37679083  0.35669674  0.33868715  0.37323944\n",
      "  0.36018957  0.34699454  0.36834734  0.35415237]\n",
      "0.361183464437\n",
      "n2v_BlogCatalog_p1_q1_d64\n"
     ]
    },
    {
     "name": "stderr",
     "output_type": "stream",
     "text": [
      "[Parallel(n_jobs=1)]: Done  10 out of  10 | elapsed:    5.9s finished\n",
      "[Parallel(n_jobs=1)]: Done  10 out of  10 | elapsed:    8.7s finished\n"
     ]
    },
    {
     "name": "stdout",
     "output_type": "stream",
     "text": [
      "[ 0.3869596   0.37990365  0.37893983  0.36918806  0.3547486   0.37816901\n",
      "  0.3859174   0.34221311  0.37254902  0.3726836 ]\n",
      "0.372127189103\n",
      "n2v_BlogCatalog_p1_q1_d128\n",
      "[ 0.37491141  0.37783895  0.39469914  0.37612769  0.37290503  0.37746479\n",
      "  0.38185511  0.36680328  0.37044818  0.37131091]\n",
      "0.376436449291\n",
      "{'deepwalk_BlogCatalog_d32': {'f1_micro': 0.34128477625714709}, 'deepwalk_BlogCatalog_d64': {'f1_micro': 0.3555516991322108}, 'deepwalk_BlogCatalog_d128': {'f1_micro': 0.36660965438019455}, 'n2v_BlogCatalog_p1_q1_d32': {'f1_micro': 0.36118346443725552}, 'n2v_BlogCatalog_p1_q1_d64': {'f1_micro': 0.37212718910335757}, 'n2v_BlogCatalog_p1_q1_d128': {'f1_micro': 0.3764364492914824}}\n"
     ]
    },
    {
     "name": "stderr",
     "output_type": "stream",
     "text": [
      "[Parallel(n_jobs=1)]: Done  10 out of  10 | elapsed:   14.0s finished\n"
     ]
    }
   ],
   "source": [
    "y = pd.read_csv(\n",
    "    '../data/BlogCatalog-dataset/data/group-edges.csv', \n",
    "    header=None, \n",
    "    delim_whitespace=True, \n",
    "    index_col=0\n",
    ").sort_index()\n",
    "y.index.name = None\n",
    "\n",
    "yy = []\n",
    "for i in range(1, 10313):\n",
    "    values = y.loc[i].values\n",
    "    if len(values) != 1:\n",
    "        values = [item[0] for item in values]\n",
    "    else:\n",
    "        values = list(values)\n",
    "    yy.append(values)\n",
    "    \n",
    "y_multilabel = MultiLabelBinarizer().fit_transform(yy)\n",
    "\n",
    "names = [\n",
    "    'deepwalk_BlogCatalog_d32',\n",
    "    'deepwalk_BlogCatalog_d64',\n",
    "    'deepwalk_BlogCatalog_d128',\n",
    "    'n2v_BlogCatalog_p1_q1_d32',\n",
    "    'n2v_BlogCatalog_p1_q1_d64',\n",
    "    'n2v_BlogCatalog_p1_q1_d128',\n",
    "]\n",
    "results = {}\n",
    "for name in names:\n",
    "    results[name] = {}\n",
    "    X = pd.read_csv(\n",
    "        '../dumps/models/{}.csv'.format(name),\n",
    "        delim_whitespace=True, header=None,\n",
    "        skiprows=1,\n",
    "        index_col=0\n",
    "    ).sort_index()\n",
    "    X.index.name=None\n",
    "    print(name)\n",
    "    ss = ShuffleSplit(n_splits=10, random_state=42, train_size=0.6)\n",
    "    scores = cross_val_score(clf, X, y_multilabel, cv=ss.split(X), scoring='f1_micro', verbose=1)\n",
    "    print(scores)\n",
    "    print(scores.mean())\n",
    "    results[name]['f1_micro'] = scores.mean()\n",
    "\n",
    "print(results)"
   ]
  },
  {
   "cell_type": "code",
   "execution_count": 5,
   "metadata": {},
   "outputs": [
    {
     "name": "stdout",
     "output_type": "stream",
     "text": [
      "hist_loss_BlogCatalog_d32\n"
     ]
    },
    {
     "ename": "NameError",
     "evalue": "name 'clf' is not defined",
     "traceback": [
      "\u001b[0;31m---------------------------------------------------------------------------\u001b[0m",
      "\u001b[0;31mNameError\u001b[0m                                 Traceback (most recent call last)",
      "\u001b[0;32m<ipython-input-5-99d1ddff1d74>\u001b[0m in \u001b[0;36m<module>\u001b[0;34m()\u001b[0m\n\u001b[1;32m     33\u001b[0m     \u001b[0mprint\u001b[0m\u001b[0;34m(\u001b[0m\u001b[0mname\u001b[0m\u001b[0;34m)\u001b[0m\u001b[0;34m\u001b[0m\u001b[0m\n\u001b[1;32m     34\u001b[0m     \u001b[0mss\u001b[0m \u001b[0;34m=\u001b[0m \u001b[0mShuffleSplit\u001b[0m\u001b[0;34m(\u001b[0m\u001b[0mn_splits\u001b[0m\u001b[0;34m=\u001b[0m\u001b[0;36m10\u001b[0m\u001b[0;34m,\u001b[0m \u001b[0mrandom_state\u001b[0m\u001b[0;34m=\u001b[0m\u001b[0;36m42\u001b[0m\u001b[0;34m,\u001b[0m \u001b[0mtrain_size\u001b[0m\u001b[0;34m=\u001b[0m\u001b[0;36m0.6\u001b[0m\u001b[0;34m)\u001b[0m\u001b[0;34m\u001b[0m\u001b[0m\n\u001b[0;32m---> 35\u001b[0;31m     \u001b[0mscores\u001b[0m \u001b[0;34m=\u001b[0m \u001b[0mcross_val_score\u001b[0m\u001b[0;34m(\u001b[0m\u001b[0mclf\u001b[0m\u001b[0;34m,\u001b[0m \u001b[0mX\u001b[0m\u001b[0;34m,\u001b[0m \u001b[0my_multilabel\u001b[0m\u001b[0;34m,\u001b[0m \u001b[0mcv\u001b[0m\u001b[0;34m=\u001b[0m\u001b[0mss\u001b[0m\u001b[0;34m.\u001b[0m\u001b[0msplit\u001b[0m\u001b[0;34m(\u001b[0m\u001b[0mX\u001b[0m\u001b[0;34m)\u001b[0m\u001b[0;34m,\u001b[0m \u001b[0mscoring\u001b[0m\u001b[0;34m=\u001b[0m\u001b[0;34m'f1_micro'\u001b[0m\u001b[0;34m,\u001b[0m \u001b[0mverbose\u001b[0m\u001b[0;34m=\u001b[0m\u001b[0;36m1\u001b[0m\u001b[0;34m)\u001b[0m\u001b[0;34m\u001b[0m\u001b[0m\n\u001b[0m\u001b[1;32m     36\u001b[0m     \u001b[0mprint\u001b[0m\u001b[0;34m(\u001b[0m\u001b[0mscores\u001b[0m\u001b[0;34m)\u001b[0m\u001b[0;34m\u001b[0m\u001b[0m\n\u001b[1;32m     37\u001b[0m     \u001b[0mprint\u001b[0m\u001b[0;34m(\u001b[0m\u001b[0mscores\u001b[0m\u001b[0;34m.\u001b[0m\u001b[0mmean\u001b[0m\u001b[0;34m(\u001b[0m\u001b[0;34m)\u001b[0m\u001b[0;34m)\u001b[0m\u001b[0;34m\u001b[0m\u001b[0m\n",
      "\u001b[0;31mNameError\u001b[0m: name 'clf' is not defined"
     ],
     "output_type": "error"
    }
   ],
   "source": [
    "y = pd.read_csv(\n",
    "    '../data/BlogCatalog-dataset/data/group-edges.csv', \n",
    "    header=None, \n",
    "    delim_whitespace=True, \n",
    "    index_col=0\n",
    ").sort_index()\n",
    "y.index.name = None\n",
    "\n",
    "yy = []\n",
    "for i in range(1, 10313):\n",
    "    values = y.loc[i].values\n",
    "    if len(values) != 1:\n",
    "        values = [item[0] for item in values]\n",
    "    else:\n",
    "        values = list(values)\n",
    "    yy.append(values)\n",
    "    \n",
    "y_multilabel = MultiLabelBinarizer().fit_transform(yy)\n",
    "\n",
    "names = [\n",
    "    'hist_loss_BlogCatalog_d32'\n",
    "]\n",
    "results = {}\n",
    "for name in names:\n",
    "    results[name] = {}\n",
    "    X = pd.read_csv(\n",
    "        '../dumps/models/{}.csv'.format(name),\n",
    "        delim_whitespace=True, header=None,\n",
    "        skiprows=1,\n",
    "        index_col=0\n",
    "    ).sort_index()\n",
    "    X.index.name=None\n",
    "    print(name)\n",
    "    ss = ShuffleSplit(n_splits=10, random_state=42, train_size=0.6)\n",
    "    scores = cross_val_score(clf, X, y_multilabel, cv=ss.split(X), scoring='f1_micro', verbose=1)\n",
    "    print(scores)\n",
    "    print(scores.mean())\n",
    "    results[name]['f1_micro'] = scores.mean()\n",
    "\n",
    "print(results)"
   ]
  },
  {
   "cell_type": "code",
   "execution_count": 27,
   "metadata": {},
   "outputs": [
    {
     "name": "stdout",
     "output_type": "stream",
     "text": [
      "{   'deepwalk_BlogCatalog_d128': {'f1_micro': 0.36660965438019455},\n",
      "    'deepwalk_BlogCatalog_d32': {'f1_micro': 0.34128477625714709},\n",
      "    'deepwalk_BlogCatalog_d64': {'f1_micro': 0.3555516991322108},\n",
      "    'n2v_BlogCatalog_p1_q1_d128': {'f1_micro': 0.3764364492914824},\n",
      "    'n2v_BlogCatalog_p1_q1_d32': {'f1_micro': 0.36118346443725552},\n",
      "    'n2v_BlogCatalog_p1_q1_d64': {'f1_micro': 0.37212718910335757}}\n"
     ]
    }
   ],
   "source": [
    "import pprint\n",
    "pp = pprint.PrettyPrinter(indent=4)\n",
    "pp.pprint(results)"
   ]
  },
  {
   "cell_type": "code",
   "execution_count": null,
   "metadata": {
    "collapsed": true
   },
   "outputs": [],
   "source": []
  }
 ],
 "metadata": {
  "kernelspec": {
   "display_name": "Python 3",
   "language": "python",
   "name": "python3"
  },
  "language_info": {
   "codemirror_mode": {
    "name": "ipython",
    "version": 3
   },
   "file_extension": ".py",
   "mimetype": "text/x-python",
   "name": "python",
   "nbconvert_exporter": "python",
   "pygments_lexer": "ipython3",
   "version": "3.6.1"
  }
 },
 "nbformat": 4,
 "nbformat_minor": 1
}
